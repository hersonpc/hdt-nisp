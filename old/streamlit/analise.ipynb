{
 "cells": [
  {
   "cell_type": "code",
   "execution_count": 361,
   "id": "f996ee73-7116-47b3-aebe-26b555032231",
   "metadata": {
    "tags": []
   },
   "outputs": [],
   "source": [
    "from datetime import datetime, date, timedelta\n",
    "from io import StringIO\n",
    "import requests # pip install requests\n",
    "import pandas as pd # pip install pandas\n",
    "import matplotlib.pyplot as plt\n",
    "import plotly.graph_objects as go"
   ]
  },
  {
   "cell_type": "code",
   "execution_count": 132,
   "id": "a475bdbd-8802-4993-94af-7e9b7b03389f",
   "metadata": {
    "tags": []
   },
   "outputs": [],
   "source": [
    "pd.set_option('display.max_columns', None)\n",
    "pd.set_option('display.max_rows', None)"
   ]
  },
  {
   "cell_type": "code",
   "execution_count": 232,
   "id": "21ce5c38-1648-4bdc-a108-e65b2e06f8a2",
   "metadata": {
    "tags": []
   },
   "outputs": [],
   "source": [
    "url = \"https://docs.google.com/spreadsheets/d/e/2PACX-1vSOr5Q2RvQYwF1EMCyA43kDu-eEkA-m6Mmy_TNWxapsal78_v8hX8XEtwlllyJVv7fD-J1WRV03uHBN/pub?gid=583415138&single=true&output=csv\"\n",
    "content = requests.get(url).content\n",
    "df_raw = pd.read_csv(StringIO(content.decode('utf-8')), low_memory=False)"
   ]
  },
  {
   "cell_type": "code",
   "execution_count": 233,
   "id": "b975d82e-cbea-4a0a-88fe-6b30ecc1f716",
   "metadata": {
    "tags": []
   },
   "outputs": [
    {
     "name": "stdout",
     "output_type": "stream",
     "text": [
      "<class 'pandas.core.frame.DataFrame'>\n",
      "RangeIndex: 6623 entries, 0 to 6622\n",
      "Columns: 134 entries, Carimbo de data/hora to Identificação do Incidente\n",
      "dtypes: float64(96), object(38)\n",
      "memory usage: 6.8+ MB\n"
     ]
    }
   ],
   "source": [
    "df_raw.info()"
   ]
  },
  {
   "cell_type": "code",
   "execution_count": 234,
   "id": "6163528c-af09-48e8-a905-54531ef99609",
   "metadata": {
    "tags": []
   },
   "outputs": [
    {
     "data": {
      "text/plain": [
       "['Carimbo de data/hora',\n",
       " 'O incidente que você quer notificar está relacionado a algum paciente?',\n",
       " 'Nome do paciente',\n",
       " 'Nº do prontuário',\n",
       " 'Idade:',\n",
       " 'Raça:',\n",
       " 'Diagnóstico do paciente',\n",
       " 'Data da internação do paciente',\n",
       " 'Data da ocorrência',\n",
       " 'Horário da ocorrência',\n",
       " 'Qual local de Ocorrência do Evento?',\n",
       " 'Tipo do incidente',\n",
       " 'Qual foi a causa da lesão de pele sofrida pelo paciente?',\n",
       " 'Grau da Lesão por Pressão (LPP)',\n",
       " 'Qual foi a provável causa da extubação?',\n",
       " 'Qual foi a provável causa da retirada acidental de SVD?',\n",
       " 'Qual foi a provável causa da retirada acidental de SNE/SNG?',\n",
       " 'Qual foi a provável causa da retirada acidental de CVC?',\n",
       " 'Qual foi o evento adverso sofrido pelo paciente?',\n",
       " 'Tipo de queda',\n",
       " 'Descreva detalhadamente o que ocorreu',\n",
       " 'Por que você acha que aconteceu esse evento?',\n",
       " 'Consequências para o paciente / Grau do dano:',\n",
       " 'Se houve dano, qual foi?',\n",
       " 'Setor Identificador do Incidente',\n",
       " 'E-mail para devolutiva',\n",
       " 'Qual foi a conduta realizada após o evento?',\n",
       " 'Qual foi o erro detectado?',\n",
       " 'Qual foi a falha?',\n",
       " 'Informe o número do patrimônio do equipamento ou número da Ordem de Serviço',\n",
       " 'Código do atendimento (MV)',\n",
       " 'O incidente que você quer notificar está relacionado a algum paciente?.1',\n",
       " 'Nome do paciente.1',\n",
       " 'Nº do prontuário.1',\n",
       " 'Código do atendimento (MV).1',\n",
       " 'Idade:.1',\n",
       " 'Raça:.1',\n",
       " 'Diagnóstico do paciente.1',\n",
       " 'Data da internação do paciente.1',\n",
       " 'Data da ocorrência.1',\n",
       " 'Horário da ocorrência.1',\n",
       " 'Qual local de Ocorrência do Evento?.1',\n",
       " 'Tipo do incidente.1',\n",
       " 'Qual foi a causa da lesão de pele sofrida pelo paciente?.1',\n",
       " 'Grau da Lesão por Pressão (LPP).1',\n",
       " 'Qual foi a provável causa da extubação?.1',\n",
       " 'Qual foi a provável causa da retirada acidental de SVD?.1',\n",
       " 'Qual foi a provável causa da retirada acidental de SNE/SNG?.1',\n",
       " 'Qual foi a provável causa da retirada acidental de CVC?.1',\n",
       " 'Qual foi o evento adverso sofrido pelo paciente?.1',\n",
       " 'Tipo de queda.1',\n",
       " 'Descreva detalhadamente o que ocorreu.1',\n",
       " 'Por que você acha que aconteceu esse evento?.1',\n",
       " 'Consequências para o paciente / Grau do dano:.1',\n",
       " 'Se houve dano, qual foi?.1',\n",
       " 'Setor Identificador do Incidente.1',\n",
       " 'E-mail para devolutiva.1',\n",
       " 'Qual foi a conduta realizada após o evento?.1',\n",
       " 'Qual foi o erro detectado?.1',\n",
       " 'Qual foi a falha?.1',\n",
       " 'Informe o número do patrimônio do equipamento ou número da Ordem de Serviço.1',\n",
       " 'O incidente que você quer notificar está relacionado a algum paciente?.2',\n",
       " 'O incidente que você quer notificar está relacionado a algum paciente?.3',\n",
       " 'Nome do paciente.2',\n",
       " 'Nº do prontuário.2',\n",
       " 'Código do atendimento (MV).2',\n",
       " 'Idade:.2',\n",
       " 'Raça:.2',\n",
       " 'Diagnóstico do paciente.2',\n",
       " 'Data da internação do paciente.2',\n",
       " 'Data da ocorrência.2',\n",
       " 'Horário da ocorrência.2',\n",
       " 'Qual local de Ocorrência do Evento?.2',\n",
       " 'Tipo do incidente.2',\n",
       " 'Qual foi a causa da lesão de pele sofrida pelo paciente?.2',\n",
       " 'Grau da Lesão por Pressão (LPP).2',\n",
       " 'Qual foi a provável causa da extubação?.2',\n",
       " 'Qual foi a provável causa da retirada acidental de SVD?.2',\n",
       " 'Qual foi a provável causa da retirada acidental de SNE/SNG?.2',\n",
       " 'Qual foi a provável causa da retirada acidental de CVC?.2',\n",
       " 'Qual foi o evento adverso sofrido pelo paciente?.2',\n",
       " 'Tipo de queda.2',\n",
       " 'Descreva detalhadamente o que ocorreu.2',\n",
       " 'Por que você acha que aconteceu esse evento?.2',\n",
       " 'Consequências para o paciente / Grau do dano:.2',\n",
       " 'Se houve dano, qual foi?.2',\n",
       " 'Setor Identificador do Incidente.2',\n",
       " 'E-mail para devolutiva.2',\n",
       " 'Qual foi a conduta realizada após o evento?.2',\n",
       " 'Qual foi o erro detectado?.2',\n",
       " 'Qual foi a falha?.2',\n",
       " 'Informe o número do patrimônio do equipamento ou número da Ordem de Serviço.2',\n",
       " 'Nome do paciente.3',\n",
       " 'Nº do prontuário.3',\n",
       " 'Código do atendimento (MV).3',\n",
       " 'Idade:.3',\n",
       " 'Raça:.3',\n",
       " 'Diagnóstico do paciente.3',\n",
       " 'Data da internação do paciente.3',\n",
       " 'Data da ocorrência.3',\n",
       " 'Horário da ocorrência.3',\n",
       " 'Qual local de Ocorrência do Evento?.3',\n",
       " 'Tipo do incidente.3',\n",
       " 'Qual foi a causa da lesão de pele sofrida pelo paciente?.3',\n",
       " 'Grau da Lesão por Pressão (LPP).3',\n",
       " 'Qual foi a provável causa da extubação?.3',\n",
       " 'Qual foi a provável causa da retirada acidental de SVD?.3',\n",
       " 'Qual foi a provável causa da retirada acidental de SNE/SNG?.3',\n",
       " 'Qual foi a provável causa da retirada acidental de CVC?.3',\n",
       " 'Qual foi o evento adverso sofrido pelo paciente?.3',\n",
       " 'Tipo de queda.3',\n",
       " 'Descreva detalhadamente o que ocorreu.3',\n",
       " 'Por que você acha que aconteceu esse evento?.3',\n",
       " 'Consequências para o paciente / Grau do dano:.3',\n",
       " 'Se houve dano, qual foi?.3',\n",
       " 'Setor Identificador do Incidente.3',\n",
       " 'E-mail para devolutiva.3',\n",
       " 'Qual foi a conduta realizada após o evento?.3',\n",
       " 'Qual foi o erro detectado?.3',\n",
       " 'Qual foi a falha?.3',\n",
       " 'Informe o número do patrimônio do equipamento ou número da Ordem de Serviço.3',\n",
       " 'Unnamed: 121',\n",
       " 'Unnamed: 122',\n",
       " 'Unnamed: 123',\n",
       " 'Unnamed: 124',\n",
       " 'Unnamed: 125',\n",
       " 'Classificação',\n",
       " 'Sexo',\n",
       " 'Data de Envio da Notificação',\n",
       " 'Prazo de Resposta da Notificação',\n",
       " 'Data da Resposta da Notificação',\n",
       " 'Notificação Notivisa',\n",
       " 'Notificação ONA',\n",
       " 'Identificação do Incidente']"
      ]
     },
     "execution_count": 234,
     "metadata": {},
     "output_type": "execute_result"
    }
   ],
   "source": [
    "df_raw.columns.to_list()"
   ]
  },
  {
   "cell_type": "code",
   "execution_count": 248,
   "id": "fcb08930-8a00-498b-a1e6-35eda8fc492b",
   "metadata": {
    "tags": []
   },
   "outputs": [],
   "source": [
    "df = df_raw\n",
    "\n",
    "# df.columns = df.columns.str.lower().str.replace(' ', '_').str.replace('/', '_')\n",
    "df.columns = [ f\"col_{n}\" for n in range(len(df.columns))]\n",
    "\n",
    "df['ano'] = df['col_8'].str[6:11]\n",
    "df['mes'] = df['col_8'].str[3:5]\n",
    "df['classificacao'] = df['col_126'].astype(str)\n",
    "\n",
    "# remover as colunas onde todos os dados são nulos\n",
    "df = df_raw.dropna(axis=1, how='all')"
   ]
  },
  {
   "cell_type": "code",
   "execution_count": 249,
   "id": "1c0729d4-7fa3-4966-af2c-ccfe7ff762a2",
   "metadata": {
    "tags": []
   },
   "outputs": [
    {
     "name": "stdout",
     "output_type": "stream",
     "text": [
      "<class 'pandas.core.frame.DataFrame'>\n",
      "RangeIndex: 6623 entries, 0 to 6622\n",
      "Data columns (total 51 columns):\n",
      " #   Column         Non-Null Count  Dtype  \n",
      "---  ------         --------------  -----  \n",
      " 0   col_0          6572 non-null   object \n",
      " 1   col_1          5770 non-null   object \n",
      " 2   col_2          4446 non-null   object \n",
      " 3   col_3          4516 non-null   object \n",
      " 4   col_4          4514 non-null   object \n",
      " 5   col_5          3460 non-null   object \n",
      " 6   col_6          4519 non-null   object \n",
      " 7   col_7          4522 non-null   object \n",
      " 8   col_8          6573 non-null   object \n",
      " 9   col_9          6572 non-null   object \n",
      " 10  col_10         6573 non-null   object \n",
      " 11  col_11         6571 non-null   object \n",
      " 12  col_12         501 non-null    object \n",
      " 13  col_13         425 non-null    object \n",
      " 14  col_14         202 non-null    object \n",
      " 15  col_15         158 non-null    object \n",
      " 16  col_16         302 non-null    object \n",
      " 17  col_17         107 non-null    object \n",
      " 18  col_18         295 non-null    object \n",
      " 19  col_19         283 non-null    object \n",
      " 20  col_20         6560 non-null   object \n",
      " 21  col_21         6556 non-null   object \n",
      " 22  col_22         5479 non-null   object \n",
      " 23  col_23         2496 non-null   object \n",
      " 24  col_24         4728 non-null   object \n",
      " 25  col_25         1525 non-null   object \n",
      " 26  col_26         3629 non-null   object \n",
      " 27  col_27         233 non-null    object \n",
      " 28  col_28         130 non-null    object \n",
      " 29  col_29         11 non-null     object \n",
      " 30  col_30         1671 non-null   float64\n",
      " 31  col_126        6613 non-null   object \n",
      " 32  col_127        174 non-null    object \n",
      " 33  col_128        111 non-null    object \n",
      " 34  col_129        40 non-null     object \n",
      " 35  col_130        46 non-null     object \n",
      " 36  col_131        3030 non-null   object \n",
      " 37  col_132        153 non-null    object \n",
      " 38  col_133        152 non-null    object \n",
      " 39  col_134        6573 non-null   object \n",
      " 40  col_135        6573 non-null   object \n",
      " 41  col_136        6623 non-null   object \n",
      " 42  col_137        6573 non-null   object \n",
      " 43  col_138        6573 non-null   object \n",
      " 44  col_139        6623 non-null   object \n",
      " 45  col_140        6573 non-null   object \n",
      " 46  col_141        6573 non-null   object \n",
      " 47  col_142        6623 non-null   object \n",
      " 48  ano            6573 non-null   object \n",
      " 49  mes            6573 non-null   object \n",
      " 50  classificacao  6623 non-null   object \n",
      "dtypes: float64(1), object(50)\n",
      "memory usage: 2.6+ MB\n"
     ]
    }
   ],
   "source": [
    "df.info()"
   ]
  },
  {
   "cell_type": "code",
   "execution_count": 250,
   "id": "1362d601-0904-4c31-b9f7-b972789ea21c",
   "metadata": {
    "tags": []
   },
   "outputs": [
    {
     "data": {
      "text/html": [
       "<div>\n",
       "<style scoped>\n",
       "    .dataframe tbody tr th:only-of-type {\n",
       "        vertical-align: middle;\n",
       "    }\n",
       "\n",
       "    .dataframe tbody tr th {\n",
       "        vertical-align: top;\n",
       "    }\n",
       "\n",
       "    .dataframe thead th {\n",
       "        text-align: right;\n",
       "    }\n",
       "</style>\n",
       "<table border=\"1\" class=\"dataframe\">\n",
       "  <thead>\n",
       "    <tr style=\"text-align: right;\">\n",
       "      <th></th>\n",
       "      <th>col_0</th>\n",
       "      <th>col_1</th>\n",
       "      <th>col_2</th>\n",
       "      <th>col_3</th>\n",
       "      <th>col_4</th>\n",
       "      <th>col_5</th>\n",
       "      <th>col_6</th>\n",
       "      <th>col_7</th>\n",
       "      <th>col_8</th>\n",
       "      <th>col_9</th>\n",
       "      <th>col_10</th>\n",
       "      <th>col_11</th>\n",
       "      <th>col_12</th>\n",
       "      <th>col_13</th>\n",
       "      <th>col_14</th>\n",
       "      <th>col_15</th>\n",
       "      <th>col_16</th>\n",
       "      <th>col_17</th>\n",
       "      <th>col_18</th>\n",
       "      <th>col_19</th>\n",
       "      <th>col_20</th>\n",
       "      <th>col_21</th>\n",
       "      <th>col_22</th>\n",
       "      <th>col_23</th>\n",
       "      <th>col_24</th>\n",
       "      <th>col_25</th>\n",
       "      <th>col_26</th>\n",
       "      <th>col_27</th>\n",
       "      <th>col_28</th>\n",
       "      <th>col_29</th>\n",
       "      <th>col_30</th>\n",
       "      <th>col_126</th>\n",
       "      <th>col_127</th>\n",
       "      <th>col_128</th>\n",
       "      <th>col_129</th>\n",
       "      <th>col_130</th>\n",
       "      <th>col_131</th>\n",
       "      <th>col_132</th>\n",
       "      <th>col_133</th>\n",
       "      <th>col_134</th>\n",
       "      <th>col_135</th>\n",
       "      <th>col_136</th>\n",
       "      <th>col_137</th>\n",
       "      <th>col_138</th>\n",
       "      <th>col_139</th>\n",
       "      <th>col_140</th>\n",
       "      <th>col_141</th>\n",
       "      <th>col_142</th>\n",
       "      <th>ano</th>\n",
       "      <th>mes</th>\n",
       "      <th>classificacao</th>\n",
       "    </tr>\n",
       "  </thead>\n",
       "  <tbody>\n",
       "    <tr>\n",
       "      <th>0</th>\n",
       "      <td>28/03/2020 12:20:31</td>\n",
       "      <td>SIM</td>\n",
       "      <td>NaN</td>\n",
       "      <td>82006</td>\n",
       "      <td>91</td>\n",
       "      <td>Parda</td>\n",
       "      <td>HIPOTESE DE CORONAVIRUS</td>\n",
       "      <td>20/03/2020</td>\n",
       "      <td>26/03/2020</td>\n",
       "      <td>Matutino (7 - 13)</td>\n",
       "      <td>Ala B</td>\n",
       "      <td>Falha na assistência de enfermagem</td>\n",
       "      <td>NaN</td>\n",
       "      <td>NaN</td>\n",
       "      <td>NaN</td>\n",
       "      <td>NaN</td>\n",
       "      <td>NaN</td>\n",
       "      <td>NaN</td>\n",
       "      <td>NaN</td>\n",
       "      <td>NaN</td>\n",
       "      <td>NÃO REALIZADO ACESSO CONFORME PRESCRIÇÃO DO DI...</td>\n",
       "      <td>FALTA DE TECNICA</td>\n",
       "      <td>Grave</td>\n",
       "      <td>FALTA DE REALIZAÇÃO DE MEDICAÇÃO PRESCRITA, PA...</td>\n",
       "      <td>NaN</td>\n",
       "      <td>NaN</td>\n",
       "      <td>ENFERMAGEM FOI AVISADA TODOS OS DIAS DO OCORRI...</td>\n",
       "      <td>NaN</td>\n",
       "      <td>NaN</td>\n",
       "      <td>NaN</td>\n",
       "      <td>NaN</td>\n",
       "      <td>Avaliado</td>\n",
       "      <td>NaN</td>\n",
       "      <td>NaN</td>\n",
       "      <td>NaN</td>\n",
       "      <td>NaN</td>\n",
       "      <td>1</td>\n",
       "      <td>NaN</td>\n",
       "      <td>NaN</td>\n",
       "      <td>2020</td>\n",
       "      <td>03</td>\n",
       "      <td>Avaliado</td>\n",
       "      <td>2020</td>\n",
       "      <td>03</td>\n",
       "      <td>Avaliado</td>\n",
       "      <td>2020</td>\n",
       "      <td>03</td>\n",
       "      <td>Avaliado</td>\n",
       "      <td>2020</td>\n",
       "      <td>03</td>\n",
       "      <td>Avaliado</td>\n",
       "    </tr>\n",
       "    <tr>\n",
       "      <th>1</th>\n",
       "      <td>26/05/2021 19:40:53</td>\n",
       "      <td>NÃO</td>\n",
       "      <td>NaN</td>\n",
       "      <td>NaN</td>\n",
       "      <td>NaN</td>\n",
       "      <td>NaN</td>\n",
       "      <td>NaN</td>\n",
       "      <td>NaN</td>\n",
       "      <td>26/05/2021</td>\n",
       "      <td>Vespertino (13 - 19)</td>\n",
       "      <td>Ala B</td>\n",
       "      <td>Falha na Comunicação</td>\n",
       "      <td>NaN</td>\n",
       "      <td>NaN</td>\n",
       "      <td>NaN</td>\n",
       "      <td>NaN</td>\n",
       "      <td>NaN</td>\n",
       "      <td>NaN</td>\n",
       "      <td>NaN</td>\n",
       "      <td>NaN</td>\n",
       "      <td>Médica do plantão (Mariana) quis definir a equ...</td>\n",
       "      <td>Confusão de atribuições profissionais</td>\n",
       "      <td>Nenhum</td>\n",
       "      <td>Nenhum</td>\n",
       "      <td>NaN</td>\n",
       "      <td>NaN</td>\n",
       "      <td>Notificação</td>\n",
       "      <td>NaN</td>\n",
       "      <td>NaN</td>\n",
       "      <td>NaN</td>\n",
       "      <td>NaN</td>\n",
       "      <td>Circunstância Notificável</td>\n",
       "      <td>NaN</td>\n",
       "      <td>NaN</td>\n",
       "      <td>NaN</td>\n",
       "      <td>NaN</td>\n",
       "      <td>2</td>\n",
       "      <td>NaN</td>\n",
       "      <td>NaN</td>\n",
       "      <td>2021</td>\n",
       "      <td>05</td>\n",
       "      <td>Circunstância Notificável</td>\n",
       "      <td>2021</td>\n",
       "      <td>05</td>\n",
       "      <td>Circunstância Notificável</td>\n",
       "      <td>2021</td>\n",
       "      <td>05</td>\n",
       "      <td>Circunstância Notificável</td>\n",
       "      <td>2021</td>\n",
       "      <td>05</td>\n",
       "      <td>Circunstância Notificável</td>\n",
       "    </tr>\n",
       "    <tr>\n",
       "      <th>2</th>\n",
       "      <td>26/05/2021 09:27:38</td>\n",
       "      <td>NÃO</td>\n",
       "      <td>NaN</td>\n",
       "      <td>NaN</td>\n",
       "      <td>NaN</td>\n",
       "      <td>NaN</td>\n",
       "      <td>NaN</td>\n",
       "      <td>NaN</td>\n",
       "      <td>26/05/2021</td>\n",
       "      <td>Matutino (7 - 13)</td>\n",
       "      <td>Ala B</td>\n",
       "      <td>Falhas Relacionadas a Medicamentos</td>\n",
       "      <td>NaN</td>\n",
       "      <td>NaN</td>\n",
       "      <td>NaN</td>\n",
       "      <td>NaN</td>\n",
       "      <td>NaN</td>\n",
       "      <td>NaN</td>\n",
       "      <td>NaN</td>\n",
       "      <td>NaN</td>\n",
       "      <td>Posologia errada</td>\n",
       "      <td>Erro de prescrição de ATB</td>\n",
       "      <td>Nenhum</td>\n",
       "      <td>NaN</td>\n",
       "      <td>Busca Ativa</td>\n",
       "      <td>NaN</td>\n",
       "      <td>NaN</td>\n",
       "      <td>NaN</td>\n",
       "      <td>NaN</td>\n",
       "      <td>NaN</td>\n",
       "      <td>NaN</td>\n",
       "      <td>Near Miss</td>\n",
       "      <td>NaN</td>\n",
       "      <td>NaN</td>\n",
       "      <td>NaN</td>\n",
       "      <td>NaN</td>\n",
       "      <td>1</td>\n",
       "      <td>NaN</td>\n",
       "      <td>NaN</td>\n",
       "      <td>2021</td>\n",
       "      <td>05</td>\n",
       "      <td>Near Miss</td>\n",
       "      <td>2021</td>\n",
       "      <td>05</td>\n",
       "      <td>Near Miss</td>\n",
       "      <td>2021</td>\n",
       "      <td>05</td>\n",
       "      <td>Near Miss</td>\n",
       "      <td>2021</td>\n",
       "      <td>05</td>\n",
       "      <td>Near Miss</td>\n",
       "    </tr>\n",
       "    <tr>\n",
       "      <th>3</th>\n",
       "      <td>26/05/2021 09:27:38</td>\n",
       "      <td>NÃO</td>\n",
       "      <td>NaN</td>\n",
       "      <td>NaN</td>\n",
       "      <td>NaN</td>\n",
       "      <td>NaN</td>\n",
       "      <td>NaN</td>\n",
       "      <td>NaN</td>\n",
       "      <td>26/05/2021</td>\n",
       "      <td>Matutino (7 - 13)</td>\n",
       "      <td>Ala B</td>\n",
       "      <td>Falhas Relacionadas a Medicamentos</td>\n",
       "      <td>NaN</td>\n",
       "      <td>NaN</td>\n",
       "      <td>NaN</td>\n",
       "      <td>NaN</td>\n",
       "      <td>NaN</td>\n",
       "      <td>NaN</td>\n",
       "      <td>NaN</td>\n",
       "      <td>NaN</td>\n",
       "      <td>Posologia errada</td>\n",
       "      <td>Erro de prescrição de ATB</td>\n",
       "      <td>Nenhum</td>\n",
       "      <td>NaN</td>\n",
       "      <td>Busca Ativa</td>\n",
       "      <td>NaN</td>\n",
       "      <td>NaN</td>\n",
       "      <td>NaN</td>\n",
       "      <td>NaN</td>\n",
       "      <td>NaN</td>\n",
       "      <td>NaN</td>\n",
       "      <td>Near Miss</td>\n",
       "      <td>NaN</td>\n",
       "      <td>NaN</td>\n",
       "      <td>NaN</td>\n",
       "      <td>NaN</td>\n",
       "      <td>1</td>\n",
       "      <td>NaN</td>\n",
       "      <td>NaN</td>\n",
       "      <td>2021</td>\n",
       "      <td>05</td>\n",
       "      <td>Near Miss</td>\n",
       "      <td>2021</td>\n",
       "      <td>05</td>\n",
       "      <td>Near Miss</td>\n",
       "      <td>2021</td>\n",
       "      <td>05</td>\n",
       "      <td>Near Miss</td>\n",
       "      <td>2021</td>\n",
       "      <td>05</td>\n",
       "      <td>Near Miss</td>\n",
       "    </tr>\n",
       "    <tr>\n",
       "      <th>4</th>\n",
       "      <td>26/05/2021 09:27:38</td>\n",
       "      <td>NÃO</td>\n",
       "      <td>NaN</td>\n",
       "      <td>NaN</td>\n",
       "      <td>NaN</td>\n",
       "      <td>NaN</td>\n",
       "      <td>NaN</td>\n",
       "      <td>NaN</td>\n",
       "      <td>26/05/2021</td>\n",
       "      <td>Matutino (7 - 13)</td>\n",
       "      <td>Ala B</td>\n",
       "      <td>Falhas Relacionadas a Medicamentos</td>\n",
       "      <td>NaN</td>\n",
       "      <td>NaN</td>\n",
       "      <td>NaN</td>\n",
       "      <td>NaN</td>\n",
       "      <td>NaN</td>\n",
       "      <td>NaN</td>\n",
       "      <td>NaN</td>\n",
       "      <td>NaN</td>\n",
       "      <td>Posologia errada</td>\n",
       "      <td>Erro de prescrição de ATB</td>\n",
       "      <td>Nenhum</td>\n",
       "      <td>NaN</td>\n",
       "      <td>Busca Ativa</td>\n",
       "      <td>NaN</td>\n",
       "      <td>NaN</td>\n",
       "      <td>NaN</td>\n",
       "      <td>NaN</td>\n",
       "      <td>NaN</td>\n",
       "      <td>NaN</td>\n",
       "      <td>Near Miss</td>\n",
       "      <td>NaN</td>\n",
       "      <td>NaN</td>\n",
       "      <td>NaN</td>\n",
       "      <td>NaN</td>\n",
       "      <td>1</td>\n",
       "      <td>NaN</td>\n",
       "      <td>NaN</td>\n",
       "      <td>2021</td>\n",
       "      <td>05</td>\n",
       "      <td>Near Miss</td>\n",
       "      <td>2021</td>\n",
       "      <td>05</td>\n",
       "      <td>Near Miss</td>\n",
       "      <td>2021</td>\n",
       "      <td>05</td>\n",
       "      <td>Near Miss</td>\n",
       "      <td>2021</td>\n",
       "      <td>05</td>\n",
       "      <td>Near Miss</td>\n",
       "    </tr>\n",
       "  </tbody>\n",
       "</table>\n",
       "</div>"
      ],
      "text/plain": [
       "                 col_0 col_1 col_2  col_3 col_4  col_5  \\\n",
       "0  28/03/2020 12:20:31   SIM   NaN  82006    91  Parda   \n",
       "1  26/05/2021 19:40:53   NÃO   NaN    NaN   NaN    NaN   \n",
       "2  26/05/2021 09:27:38   NÃO   NaN    NaN   NaN    NaN   \n",
       "3  26/05/2021 09:27:38   NÃO   NaN    NaN   NaN    NaN   \n",
       "4  26/05/2021 09:27:38   NÃO   NaN    NaN   NaN    NaN   \n",
       "\n",
       "                     col_6       col_7       col_8                 col_9  \\\n",
       "0  HIPOTESE DE CORONAVIRUS  20/03/2020  26/03/2020     Matutino (7 - 13)   \n",
       "1                      NaN         NaN  26/05/2021  Vespertino (13 - 19)   \n",
       "2                      NaN         NaN  26/05/2021     Matutino (7 - 13)   \n",
       "3                      NaN         NaN  26/05/2021     Matutino (7 - 13)   \n",
       "4                      NaN         NaN  26/05/2021     Matutino (7 - 13)   \n",
       "\n",
       "  col_10                              col_11 col_12 col_13 col_14 col_15  \\\n",
       "0  Ala B  Falha na assistência de enfermagem    NaN    NaN    NaN    NaN   \n",
       "1  Ala B                Falha na Comunicação    NaN    NaN    NaN    NaN   \n",
       "2  Ala B  Falhas Relacionadas a Medicamentos    NaN    NaN    NaN    NaN   \n",
       "3  Ala B  Falhas Relacionadas a Medicamentos    NaN    NaN    NaN    NaN   \n",
       "4  Ala B  Falhas Relacionadas a Medicamentos    NaN    NaN    NaN    NaN   \n",
       "\n",
       "  col_16 col_17 col_18 col_19  \\\n",
       "0    NaN    NaN    NaN    NaN   \n",
       "1    NaN    NaN    NaN    NaN   \n",
       "2    NaN    NaN    NaN    NaN   \n",
       "3    NaN    NaN    NaN    NaN   \n",
       "4    NaN    NaN    NaN    NaN   \n",
       "\n",
       "                                              col_20  \\\n",
       "0  NÃO REALIZADO ACESSO CONFORME PRESCRIÇÃO DO DI...   \n",
       "1  Médica do plantão (Mariana) quis definir a equ...   \n",
       "2                                   Posologia errada   \n",
       "3                                   Posologia errada   \n",
       "4                                   Posologia errada   \n",
       "\n",
       "                                   col_21  col_22  \\\n",
       "0                        FALTA DE TECNICA   Grave   \n",
       "1  Confusão de atribuições profissionais   Nenhum   \n",
       "2               Erro de prescrição de ATB  Nenhum   \n",
       "3               Erro de prescrição de ATB  Nenhum   \n",
       "4               Erro de prescrição de ATB  Nenhum   \n",
       "\n",
       "                                              col_23       col_24 col_25  \\\n",
       "0  FALTA DE REALIZAÇÃO DE MEDICAÇÃO PRESCRITA, PA...          NaN    NaN   \n",
       "1                                             Nenhum          NaN    NaN   \n",
       "2                                                NaN  Busca Ativa    NaN   \n",
       "3                                                NaN  Busca Ativa    NaN   \n",
       "4                                                NaN  Busca Ativa    NaN   \n",
       "\n",
       "                                              col_26 col_27 col_28 col_29  \\\n",
       "0  ENFERMAGEM FOI AVISADA TODOS OS DIAS DO OCORRI...    NaN    NaN    NaN   \n",
       "1                                       Notificação     NaN    NaN    NaN   \n",
       "2                                                NaN    NaN    NaN    NaN   \n",
       "3                                                NaN    NaN    NaN    NaN   \n",
       "4                                                NaN    NaN    NaN    NaN   \n",
       "\n",
       "   col_30                    col_126 col_127 col_128 col_129 col_130 col_131  \\\n",
       "0     NaN                   Avaliado     NaN     NaN     NaN     NaN       1   \n",
       "1     NaN  Circunstância Notificável     NaN     NaN     NaN     NaN       2   \n",
       "2     NaN                  Near Miss     NaN     NaN     NaN     NaN       1   \n",
       "3     NaN                  Near Miss     NaN     NaN     NaN     NaN       1   \n",
       "4     NaN                  Near Miss     NaN     NaN     NaN     NaN       1   \n",
       "\n",
       "  col_132 col_133 col_134 col_135                    col_136 col_137 col_138  \\\n",
       "0     NaN     NaN    2020      03                   Avaliado    2020      03   \n",
       "1     NaN     NaN    2021      05  Circunstância Notificável    2021      05   \n",
       "2     NaN     NaN    2021      05                  Near Miss    2021      05   \n",
       "3     NaN     NaN    2021      05                  Near Miss    2021      05   \n",
       "4     NaN     NaN    2021      05                  Near Miss    2021      05   \n",
       "\n",
       "                     col_139 col_140 col_141                    col_142   ano  \\\n",
       "0                   Avaliado    2020      03                   Avaliado  2020   \n",
       "1  Circunstância Notificável    2021      05  Circunstância Notificável  2021   \n",
       "2                  Near Miss    2021      05                  Near Miss  2021   \n",
       "3                  Near Miss    2021      05                  Near Miss  2021   \n",
       "4                  Near Miss    2021      05                  Near Miss  2021   \n",
       "\n",
       "  mes              classificacao  \n",
       "0  03                   Avaliado  \n",
       "1  05  Circunstância Notificável  \n",
       "2  05                  Near Miss  \n",
       "3  05                  Near Miss  \n",
       "4  05                  Near Miss  "
      ]
     },
     "execution_count": 250,
     "metadata": {},
     "output_type": "execute_result"
    }
   ],
   "source": [
    "df.head()"
   ]
  },
  {
   "cell_type": "code",
   "execution_count": 251,
   "id": "ef9f90c0-e36a-42c7-bc95-54a26a87dfd3",
   "metadata": {
    "tags": []
   },
   "outputs": [],
   "source": [
    "# filtra apenas os que tiverem 'Data da ocorrência'\n",
    "df1 = df[df['col_8'].map(lambda x: len(str(x))) == 10].sort_values(by=\"col_8\", ascending=True)"
   ]
  },
  {
   "cell_type": "code",
   "execution_count": 252,
   "id": "20869f24-3577-4356-b9c0-58fe77683911",
   "metadata": {
    "tags": []
   },
   "outputs": [],
   "source": [
    "df1['ano'] = df1['ano'].astype(int)\n",
    "df1['mes'] = df1['mes'].astype(int)\n",
    "\n",
    "\n",
    "# df1[df1['ano'] <= 2000][['col_8', 'ano']] # verifica se existe algum ano inválido\n",
    "# df1[df1['ano'] == 23].ano\n",
    "df1['periodo'] = pd.to_datetime(df1['ano'].astype(str) + '-' + df1['mes'].astype(str) + '-01')"
   ]
  },
  {
   "cell_type": "code",
   "execution_count": 253,
   "id": "49624aa3-83c7-4ad2-a541-cc4cb0e8bb12",
   "metadata": {
    "tags": []
   },
   "outputs": [
    {
     "data": {
      "text/html": [
       "<div>\n",
       "<style scoped>\n",
       "    .dataframe tbody tr th:only-of-type {\n",
       "        vertical-align: middle;\n",
       "    }\n",
       "\n",
       "    .dataframe tbody tr th {\n",
       "        vertical-align: top;\n",
       "    }\n",
       "\n",
       "    .dataframe thead th {\n",
       "        text-align: right;\n",
       "    }\n",
       "</style>\n",
       "<table border=\"1\" class=\"dataframe\">\n",
       "  <thead>\n",
       "    <tr style=\"text-align: right;\">\n",
       "      <th></th>\n",
       "      <th>col_0</th>\n",
       "      <th>col_1</th>\n",
       "      <th>col_2</th>\n",
       "      <th>col_3</th>\n",
       "      <th>col_4</th>\n",
       "      <th>col_5</th>\n",
       "      <th>col_6</th>\n",
       "      <th>col_7</th>\n",
       "      <th>col_8</th>\n",
       "      <th>col_9</th>\n",
       "      <th>col_10</th>\n",
       "      <th>col_11</th>\n",
       "      <th>col_12</th>\n",
       "      <th>col_13</th>\n",
       "      <th>col_14</th>\n",
       "      <th>col_15</th>\n",
       "      <th>col_16</th>\n",
       "      <th>col_17</th>\n",
       "      <th>col_18</th>\n",
       "      <th>col_19</th>\n",
       "      <th>col_20</th>\n",
       "      <th>col_21</th>\n",
       "      <th>col_22</th>\n",
       "      <th>col_23</th>\n",
       "      <th>col_24</th>\n",
       "      <th>col_25</th>\n",
       "      <th>col_26</th>\n",
       "      <th>col_27</th>\n",
       "      <th>col_28</th>\n",
       "      <th>col_29</th>\n",
       "      <th>col_30</th>\n",
       "      <th>col_126</th>\n",
       "      <th>col_127</th>\n",
       "      <th>col_128</th>\n",
       "      <th>col_129</th>\n",
       "      <th>col_130</th>\n",
       "      <th>col_131</th>\n",
       "      <th>col_132</th>\n",
       "      <th>col_133</th>\n",
       "      <th>col_134</th>\n",
       "      <th>col_135</th>\n",
       "      <th>col_136</th>\n",
       "      <th>col_137</th>\n",
       "      <th>col_138</th>\n",
       "      <th>col_139</th>\n",
       "      <th>col_140</th>\n",
       "      <th>col_141</th>\n",
       "      <th>col_142</th>\n",
       "      <th>ano</th>\n",
       "      <th>mes</th>\n",
       "      <th>classificacao</th>\n",
       "      <th>periodo</th>\n",
       "    </tr>\n",
       "  </thead>\n",
       "  <tbody>\n",
       "    <tr>\n",
       "      <th>5168</th>\n",
       "      <td>07/01/2021 10:33:26</td>\n",
       "      <td>SIM</td>\n",
       "      <td>TODOS DA UTI COVID</td>\n",
       "      <td>NaN</td>\n",
       "      <td>NaN</td>\n",
       "      <td>Parda</td>\n",
       "      <td>COVID E DIVERSOS</td>\n",
       "      <td>01/01/2021</td>\n",
       "      <td>01/01/2021</td>\n",
       "      <td>Matutino (7 - 13)</td>\n",
       "      <td>Ala B</td>\n",
       "      <td>Falha na higienização/limpeza hospitalar</td>\n",
       "      <td>NaN</td>\n",
       "      <td>NaN</td>\n",
       "      <td>NaN</td>\n",
       "      <td>NaN</td>\n",
       "      <td>NaN</td>\n",
       "      <td>NaN</td>\n",
       "      <td>NaN</td>\n",
       "      <td>NaN</td>\n",
       "      <td>PRESENÇA CONSTANTE DIUTURNAMENTE DE MURIÇOCA E...</td>\n",
       "      <td>FALTA DE TELA E DEDETIZAÇÃO</td>\n",
       "      <td>Nenhum</td>\n",
       "      <td>.</td>\n",
       "      <td>RICARDO WAGNER</td>\n",
       "      <td>NaN</td>\n",
       "      <td>AGUARDANDO RESPOSTA</td>\n",
       "      <td>NaN</td>\n",
       "      <td>NaN</td>\n",
       "      <td>NaN</td>\n",
       "      <td>NaN</td>\n",
       "      <td>Incidente sem Dano</td>\n",
       "      <td>NaN</td>\n",
       "      <td>NaN</td>\n",
       "      <td>NaN</td>\n",
       "      <td>NaN</td>\n",
       "      <td>1</td>\n",
       "      <td>NaN</td>\n",
       "      <td>NaN</td>\n",
       "      <td>2021</td>\n",
       "      <td>01</td>\n",
       "      <td>Incidente sem Dano</td>\n",
       "      <td>2021</td>\n",
       "      <td>01</td>\n",
       "      <td>Incidente sem Dano</td>\n",
       "      <td>2021</td>\n",
       "      <td>01</td>\n",
       "      <td>Incidente sem Dano</td>\n",
       "      <td>2021</td>\n",
       "      <td>1</td>\n",
       "      <td>Incidente sem Dano</td>\n",
       "      <td>2021-01-01</td>\n",
       "    </tr>\n",
       "    <tr>\n",
       "      <th>1028</th>\n",
       "      <td>02/01/2022 07:36:24</td>\n",
       "      <td>SIM</td>\n",
       "      <td>Arthur Faria Borges</td>\n",
       "      <td>812493</td>\n",
       "      <td>2</td>\n",
       "      <td>Branca</td>\n",
       "      <td>abscesso cerebral</td>\n",
       "      <td>13/12/2021</td>\n",
       "      <td>01/01/2022</td>\n",
       "      <td>Vespertino (13 - 19)</td>\n",
       "      <td>Ala A Pediátrica</td>\n",
       "      <td>Retirada Acidental de Cateter Venoso Central</td>\n",
       "      <td>NaN</td>\n",
       "      <td>NaN</td>\n",
       "      <td>NaN</td>\n",
       "      <td>NaN</td>\n",
       "      <td>NaN</td>\n",
       "      <td>Deslocamento/Perda acidental</td>\n",
       "      <td>NaN</td>\n",
       "      <td>NaN</td>\n",
       "      <td>Pela tereira vez consecutiva picc quebrou no l...</td>\n",
       "      <td>pessima qualidde do material</td>\n",
       "      <td>Moderado</td>\n",
       "      <td>diversas terntativas de novo acesso sem sucesso</td>\n",
       "      <td>Ala A Pediátrica</td>\n",
       "      <td>NaN</td>\n",
       "      <td>NaN</td>\n",
       "      <td>NaN</td>\n",
       "      <td>NaN</td>\n",
       "      <td>NaN</td>\n",
       "      <td>812493.0</td>\n",
       "      <td>Evento Adverso</td>\n",
       "      <td>M</td>\n",
       "      <td>13/01/2022</td>\n",
       "      <td>NaN</td>\n",
       "      <td>NaN</td>\n",
       "      <td>NaN</td>\n",
       "      <td>Não se aplica</td>\n",
       "      <td>AFB010122</td>\n",
       "      <td>2022</td>\n",
       "      <td>01</td>\n",
       "      <td>Evento Adverso</td>\n",
       "      <td>2022</td>\n",
       "      <td>01</td>\n",
       "      <td>Evento Adverso</td>\n",
       "      <td>2022</td>\n",
       "      <td>01</td>\n",
       "      <td>Evento Adverso</td>\n",
       "      <td>2022</td>\n",
       "      <td>1</td>\n",
       "      <td>Evento Adverso</td>\n",
       "      <td>2022-01-01</td>\n",
       "    </tr>\n",
       "    <tr>\n",
       "      <th>1034</th>\n",
       "      <td>03/01/2022 16:47:07</td>\n",
       "      <td>SIM</td>\n",
       "      <td>NILCE DE FATIMA DA ROCHA OLIVEIR</td>\n",
       "      <td>116180</td>\n",
       "      <td>61</td>\n",
       "      <td>NaN</td>\n",
       "      <td>DENGUE</td>\n",
       "      <td>27/12/2021</td>\n",
       "      <td>01/01/2022</td>\n",
       "      <td>Vespertino (13 - 19)</td>\n",
       "      <td>Ala A Adulto</td>\n",
       "      <td>Evasão</td>\n",
       "      <td>NaN</td>\n",
       "      <td>NaN</td>\n",
       "      <td>NaN</td>\n",
       "      <td>NaN</td>\n",
       "      <td>NaN</td>\n",
       "      <td>NaN</td>\n",
       "      <td>NaN</td>\n",
       "      <td>NaN</td>\n",
       "      <td>PACIENTE EVADIU DA UNIDADE ACOMPANHADA DE SUA ...</td>\n",
       "      <td>FALHA NA ADESÃO</td>\n",
       "      <td>Moderado</td>\n",
       "      <td>NaN</td>\n",
       "      <td>Gerenciamento de Protocolos</td>\n",
       "      <td>NaN</td>\n",
       "      <td>ANALISE RETROSPECTIVA</td>\n",
       "      <td>NaN</td>\n",
       "      <td>NaN</td>\n",
       "      <td>NaN</td>\n",
       "      <td>2131686.0</td>\n",
       "      <td>Incidente sem Dano</td>\n",
       "      <td>F</td>\n",
       "      <td>NaN</td>\n",
       "      <td>NaN</td>\n",
       "      <td>NaN</td>\n",
       "      <td>NaN</td>\n",
       "      <td>Não se aplica</td>\n",
       "      <td>NFRO030122</td>\n",
       "      <td>2022</td>\n",
       "      <td>01</td>\n",
       "      <td>Incidente sem Dano</td>\n",
       "      <td>2022</td>\n",
       "      <td>01</td>\n",
       "      <td>Incidente sem Dano</td>\n",
       "      <td>2022</td>\n",
       "      <td>01</td>\n",
       "      <td>Incidente sem Dano</td>\n",
       "      <td>2022</td>\n",
       "      <td>1</td>\n",
       "      <td>Incidente sem Dano</td>\n",
       "      <td>2022-01-01</td>\n",
       "    </tr>\n",
       "    <tr>\n",
       "      <th>1326</th>\n",
       "      <td>01/02/2022 11:42:45</td>\n",
       "      <td>NÃO</td>\n",
       "      <td>NaN</td>\n",
       "      <td>NaN</td>\n",
       "      <td>NaN</td>\n",
       "      <td>NaN</td>\n",
       "      <td>NaN</td>\n",
       "      <td>NaN</td>\n",
       "      <td>01/01/2022</td>\n",
       "      <td>Matutino (7 - 13)</td>\n",
       "      <td>Institucional</td>\n",
       "      <td>Falha na Comunicação</td>\n",
       "      <td>NaN</td>\n",
       "      <td>NaN</td>\n",
       "      <td>NaN</td>\n",
       "      <td>NaN</td>\n",
       "      <td>NaN</td>\n",
       "      <td>NaN</td>\n",
       "      <td>NaN</td>\n",
       "      <td>NaN</td>\n",
       "      <td>SETOR DE PROTOCOLO COLABORADORA FATIMA, ATENDE...</td>\n",
       "      <td>FALHA DE COMUNICAÇÃO, FALTA DE CORDIALIDADE</td>\n",
       "      <td>Nenhum</td>\n",
       "      <td>NaN</td>\n",
       "      <td>Suprimentos</td>\n",
       "      <td>NaN</td>\n",
       "      <td>NOTIFICADO</td>\n",
       "      <td>NaN</td>\n",
       "      <td>NaN</td>\n",
       "      <td>NaN</td>\n",
       "      <td>NaN</td>\n",
       "      <td>Circunstância Notificável</td>\n",
       "      <td>NaN</td>\n",
       "      <td>NaN</td>\n",
       "      <td>NaN</td>\n",
       "      <td>NaN</td>\n",
       "      <td>NaN</td>\n",
       "      <td>NaN</td>\n",
       "      <td>NaN</td>\n",
       "      <td>2022</td>\n",
       "      <td>01</td>\n",
       "      <td>Circunstância Notificável</td>\n",
       "      <td>2022</td>\n",
       "      <td>01</td>\n",
       "      <td>Circunstância Notificável</td>\n",
       "      <td>2022</td>\n",
       "      <td>01</td>\n",
       "      <td>Circunstância Notificável</td>\n",
       "      <td>2022</td>\n",
       "      <td>1</td>\n",
       "      <td>Circunstância Notificável</td>\n",
       "      <td>2022-01-01</td>\n",
       "    </tr>\n",
       "    <tr>\n",
       "      <th>1027</th>\n",
       "      <td>02/01/2022 05:28:17</td>\n",
       "      <td>SIM</td>\n",
       "      <td>SANDRA SANTANA PEREIRA</td>\n",
       "      <td>539391</td>\n",
       "      <td>40</td>\n",
       "      <td>Parda</td>\n",
       "      <td>MH TRATADA/INFECÇÃO DE PELE</td>\n",
       "      <td>01/01/2022</td>\n",
       "      <td>01/01/2022</td>\n",
       "      <td>Noturno (19 - 7)</td>\n",
       "      <td>Ala C</td>\n",
       "      <td>Queda</td>\n",
       "      <td>NaN</td>\n",
       "      <td>NaN</td>\n",
       "      <td>NaN</td>\n",
       "      <td>NaN</td>\n",
       "      <td>NaN</td>\n",
       "      <td>NaN</td>\n",
       "      <td>NaN</td>\n",
       "      <td>Queda da Própria Altura</td>\n",
       "      <td>PACIENTE ADMITIDA DA UTI, DEAMBULA, FOI AO BAN...</td>\n",
       "      <td>DEVIDO VERTIGEM</td>\n",
       "      <td>Leve</td>\n",
       "      <td>NaN</td>\n",
       "      <td>Ala C</td>\n",
       "      <td>NaN</td>\n",
       "      <td>AVALIO PACIENTE, ORIENTO QUANTO AOS CUIDADOS P...</td>\n",
       "      <td>NaN</td>\n",
       "      <td>NaN</td>\n",
       "      <td>NaN</td>\n",
       "      <td>2088528.0</td>\n",
       "      <td>Evento Adverso</td>\n",
       "      <td>F</td>\n",
       "      <td>13/01/2022</td>\n",
       "      <td>NaN</td>\n",
       "      <td>NaN</td>\n",
       "      <td>NaN</td>\n",
       "      <td>Não se aplica</td>\n",
       "      <td>SSP010122</td>\n",
       "      <td>2022</td>\n",
       "      <td>01</td>\n",
       "      <td>Evento Adverso</td>\n",
       "      <td>2022</td>\n",
       "      <td>01</td>\n",
       "      <td>Evento Adverso</td>\n",
       "      <td>2022</td>\n",
       "      <td>01</td>\n",
       "      <td>Evento Adverso</td>\n",
       "      <td>2022</td>\n",
       "      <td>1</td>\n",
       "      <td>Evento Adverso</td>\n",
       "      <td>2022-01-01</td>\n",
       "    </tr>\n",
       "  </tbody>\n",
       "</table>\n",
       "</div>"
      ],
      "text/plain": [
       "                    col_0 col_1                             col_2   col_3  \\\n",
       "5168  07/01/2021 10:33:26   SIM                TODOS DA UTI COVID     NaN   \n",
       "1028  02/01/2022 07:36:24   SIM               Arthur Faria Borges  812493   \n",
       "1034  03/01/2022 16:47:07   SIM  NILCE DE FATIMA DA ROCHA OLIVEIR  116180   \n",
       "1326  01/02/2022 11:42:45   NÃO                               NaN     NaN   \n",
       "1027  02/01/2022 05:28:17   SIM            SANDRA SANTANA PEREIRA  539391   \n",
       "\n",
       "     col_4   col_5                        col_6       col_7       col_8  \\\n",
       "5168   NaN   Parda             COVID E DIVERSOS  01/01/2021  01/01/2021   \n",
       "1028     2  Branca            abscesso cerebral  13/12/2021  01/01/2022   \n",
       "1034    61     NaN                       DENGUE  27/12/2021  01/01/2022   \n",
       "1326   NaN     NaN                          NaN         NaN  01/01/2022   \n",
       "1027    40   Parda  MH TRATADA/INFECÇÃO DE PELE  01/01/2022  01/01/2022   \n",
       "\n",
       "                     col_9            col_10  \\\n",
       "5168     Matutino (7 - 13)             Ala B   \n",
       "1028  Vespertino (13 - 19)  Ala A Pediátrica   \n",
       "1034  Vespertino (13 - 19)      Ala A Adulto   \n",
       "1326     Matutino (7 - 13)     Institucional   \n",
       "1027      Noturno (19 - 7)             Ala C   \n",
       "\n",
       "                                            col_11 col_12 col_13 col_14  \\\n",
       "5168      Falha na higienização/limpeza hospitalar    NaN    NaN    NaN   \n",
       "1028  Retirada Acidental de Cateter Venoso Central    NaN    NaN    NaN   \n",
       "1034                                        Evasão    NaN    NaN    NaN   \n",
       "1326                          Falha na Comunicação    NaN    NaN    NaN   \n",
       "1027                                         Queda    NaN    NaN    NaN   \n",
       "\n",
       "     col_15 col_16                        col_17 col_18  \\\n",
       "5168    NaN    NaN                           NaN    NaN   \n",
       "1028    NaN    NaN  Deslocamento/Perda acidental    NaN   \n",
       "1034    NaN    NaN                           NaN    NaN   \n",
       "1326    NaN    NaN                           NaN    NaN   \n",
       "1027    NaN    NaN                           NaN    NaN   \n",
       "\n",
       "                       col_19  \\\n",
       "5168                      NaN   \n",
       "1028                      NaN   \n",
       "1034                      NaN   \n",
       "1326                      NaN   \n",
       "1027  Queda da Própria Altura   \n",
       "\n",
       "                                                 col_20  \\\n",
       "5168  PRESENÇA CONSTANTE DIUTURNAMENTE DE MURIÇOCA E...   \n",
       "1028  Pela tereira vez consecutiva picc quebrou no l...   \n",
       "1034  PACIENTE EVADIU DA UNIDADE ACOMPANHADA DE SUA ...   \n",
       "1326  SETOR DE PROTOCOLO COLABORADORA FATIMA, ATENDE...   \n",
       "1027  PACIENTE ADMITIDA DA UTI, DEAMBULA, FOI AO BAN...   \n",
       "\n",
       "                                            col_21    col_22  \\\n",
       "5168                   FALTA DE TELA E DEDETIZAÇÃO    Nenhum   \n",
       "1028                  pessima qualidde do material  Moderado   \n",
       "1034                               FALHA NA ADESÃO  Moderado   \n",
       "1326  FALHA DE COMUNICAÇÃO, FALTA DE CORDIALIDADE     Nenhum   \n",
       "1027                               DEVIDO VERTIGEM      Leve   \n",
       "\n",
       "                                               col_23  \\\n",
       "5168                                                .   \n",
       "1028  diversas terntativas de novo acesso sem sucesso   \n",
       "1034                                              NaN   \n",
       "1326                                              NaN   \n",
       "1027                                              NaN   \n",
       "\n",
       "                           col_24 col_25  \\\n",
       "5168               RICARDO WAGNER    NaN   \n",
       "1028             Ala A Pediátrica    NaN   \n",
       "1034  Gerenciamento de Protocolos    NaN   \n",
       "1326                  Suprimentos    NaN   \n",
       "1027                        Ala C    NaN   \n",
       "\n",
       "                                                 col_26 col_27 col_28 col_29  \\\n",
       "5168                                AGUARDANDO RESPOSTA    NaN    NaN    NaN   \n",
       "1028                                                NaN    NaN    NaN    NaN   \n",
       "1034                              ANALISE RETROSPECTIVA    NaN    NaN    NaN   \n",
       "1326                                         NOTIFICADO    NaN    NaN    NaN   \n",
       "1027  AVALIO PACIENTE, ORIENTO QUANTO AOS CUIDADOS P...    NaN    NaN    NaN   \n",
       "\n",
       "         col_30                    col_126 col_127     col_128 col_129  \\\n",
       "5168        NaN         Incidente sem Dano     NaN         NaN     NaN   \n",
       "1028   812493.0             Evento Adverso       M  13/01/2022     NaN   \n",
       "1034  2131686.0         Incidente sem Dano       F         NaN     NaN   \n",
       "1326        NaN  Circunstância Notificável     NaN         NaN     NaN   \n",
       "1027  2088528.0             Evento Adverso       F  13/01/2022     NaN   \n",
       "\n",
       "     col_130 col_131        col_132     col_133 col_134 col_135  \\\n",
       "5168     NaN       1            NaN         NaN    2021      01   \n",
       "1028     NaN     NaN  Não se aplica   AFB010122    2022      01   \n",
       "1034     NaN     NaN  Não se aplica  NFRO030122    2022      01   \n",
       "1326     NaN     NaN            NaN         NaN    2022      01   \n",
       "1027     NaN     NaN  Não se aplica   SSP010122    2022      01   \n",
       "\n",
       "                        col_136 col_137 col_138                    col_139  \\\n",
       "5168         Incidente sem Dano    2021      01         Incidente sem Dano   \n",
       "1028             Evento Adverso    2022      01             Evento Adverso   \n",
       "1034         Incidente sem Dano    2022      01         Incidente sem Dano   \n",
       "1326  Circunstância Notificável    2022      01  Circunstância Notificável   \n",
       "1027             Evento Adverso    2022      01             Evento Adverso   \n",
       "\n",
       "     col_140 col_141                    col_142   ano  mes  \\\n",
       "5168    2021      01         Incidente sem Dano  2021    1   \n",
       "1028    2022      01             Evento Adverso  2022    1   \n",
       "1034    2022      01         Incidente sem Dano  2022    1   \n",
       "1326    2022      01  Circunstância Notificável  2022    1   \n",
       "1027    2022      01             Evento Adverso  2022    1   \n",
       "\n",
       "                  classificacao    periodo  \n",
       "5168         Incidente sem Dano 2021-01-01  \n",
       "1028             Evento Adverso 2022-01-01  \n",
       "1034         Incidente sem Dano 2022-01-01  \n",
       "1326  Circunstância Notificável 2022-01-01  \n",
       "1027             Evento Adverso 2022-01-01  "
      ]
     },
     "execution_count": 253,
     "metadata": {},
     "output_type": "execute_result"
    }
   ],
   "source": [
    "df1.head()"
   ]
  },
  {
   "cell_type": "code",
   "execution_count": 254,
   "id": "413df4d4-79f5-4871-8140-138f752bc947",
   "metadata": {
    "tags": []
   },
   "outputs": [
    {
     "data": {
      "text/html": [
       "<div>\n",
       "<style scoped>\n",
       "    .dataframe tbody tr th:only-of-type {\n",
       "        vertical-align: middle;\n",
       "    }\n",
       "\n",
       "    .dataframe tbody tr th {\n",
       "        vertical-align: top;\n",
       "    }\n",
       "\n",
       "    .dataframe thead th {\n",
       "        text-align: right;\n",
       "    }\n",
       "</style>\n",
       "<table border=\"1\" class=\"dataframe\">\n",
       "  <thead>\n",
       "    <tr style=\"text-align: right;\">\n",
       "      <th></th>\n",
       "      <th>col_0</th>\n",
       "      <th>col_1</th>\n",
       "      <th>col_2</th>\n",
       "      <th>col_3</th>\n",
       "      <th>col_4</th>\n",
       "      <th>col_5</th>\n",
       "      <th>col_6</th>\n",
       "      <th>col_7</th>\n",
       "      <th>col_8</th>\n",
       "      <th>col_9</th>\n",
       "      <th>col_10</th>\n",
       "      <th>col_11</th>\n",
       "      <th>col_12</th>\n",
       "      <th>col_13</th>\n",
       "      <th>col_14</th>\n",
       "      <th>col_15</th>\n",
       "      <th>col_16</th>\n",
       "      <th>col_17</th>\n",
       "      <th>col_18</th>\n",
       "      <th>col_19</th>\n",
       "      <th>col_20</th>\n",
       "      <th>col_21</th>\n",
       "      <th>col_22</th>\n",
       "      <th>col_23</th>\n",
       "      <th>col_24</th>\n",
       "      <th>col_25</th>\n",
       "      <th>col_26</th>\n",
       "      <th>col_27</th>\n",
       "      <th>col_28</th>\n",
       "      <th>col_29</th>\n",
       "      <th>col_30</th>\n",
       "      <th>col_126</th>\n",
       "      <th>col_127</th>\n",
       "      <th>col_128</th>\n",
       "      <th>col_129</th>\n",
       "      <th>col_130</th>\n",
       "      <th>col_131</th>\n",
       "      <th>col_132</th>\n",
       "      <th>col_133</th>\n",
       "      <th>col_134</th>\n",
       "      <th>col_135</th>\n",
       "      <th>col_136</th>\n",
       "      <th>col_137</th>\n",
       "      <th>col_138</th>\n",
       "      <th>col_139</th>\n",
       "      <th>col_140</th>\n",
       "      <th>col_141</th>\n",
       "      <th>col_142</th>\n",
       "      <th>ano</th>\n",
       "      <th>mes</th>\n",
       "      <th>classificacao</th>\n",
       "      <th>periodo</th>\n",
       "    </tr>\n",
       "  </thead>\n",
       "  <tbody>\n",
       "    <tr>\n",
       "      <th>4536</th>\n",
       "      <td>20/07/2020 19:49:19</td>\n",
       "      <td>NaN</td>\n",
       "      <td>NaN</td>\n",
       "      <td>NaN</td>\n",
       "      <td>NaN</td>\n",
       "      <td>NaN</td>\n",
       "      <td>NaN</td>\n",
       "      <td>NaN</td>\n",
       "      <td>06/01/2020</td>\n",
       "      <td>Noturno (19 - 7)</td>\n",
       "      <td>Ala E</td>\n",
       "      <td>Falhas relacionadas à medicamentos</td>\n",
       "      <td>NaN</td>\n",
       "      <td>NaN</td>\n",
       "      <td>NaN</td>\n",
       "      <td>NaN</td>\n",
       "      <td>NaN</td>\n",
       "      <td>NaN</td>\n",
       "      <td>Falha na dispensação</td>\n",
       "      <td>NaN</td>\n",
       "      <td>Fármacia comunica que não havia ampola de prop...</td>\n",
       "      <td>Distração</td>\n",
       "      <td>Leve</td>\n",
       "      <td>Atraso na sedação</td>\n",
       "      <td>NaN</td>\n",
       "      <td>NaN</td>\n",
       "      <td>NaN</td>\n",
       "      <td>NaN</td>\n",
       "      <td>NaN</td>\n",
       "      <td>NaN</td>\n",
       "      <td>NaN</td>\n",
       "      <td>Avaliado</td>\n",
       "      <td>NaN</td>\n",
       "      <td>NaN</td>\n",
       "      <td>NaN</td>\n",
       "      <td>NaN</td>\n",
       "      <td>1</td>\n",
       "      <td>NaN</td>\n",
       "      <td>NaN</td>\n",
       "      <td>2020</td>\n",
       "      <td>01</td>\n",
       "      <td>Avaliado</td>\n",
       "      <td>2020</td>\n",
       "      <td>01</td>\n",
       "      <td>Avaliado</td>\n",
       "      <td>2020</td>\n",
       "      <td>01</td>\n",
       "      <td>Avaliado</td>\n",
       "      <td>2020</td>\n",
       "      <td>1</td>\n",
       "      <td>Avaliado</td>\n",
       "      <td>2020-01-01</td>\n",
       "    </tr>\n",
       "    <tr>\n",
       "      <th>5184</th>\n",
       "      <td>09/01/2021 19:24:06</td>\n",
       "      <td>SIM</td>\n",
       "      <td>WEMERSON FERREIRA DE SOUZA</td>\n",
       "      <td>86271</td>\n",
       "      <td>21</td>\n",
       "      <td>Parda</td>\n",
       "      <td>HIV</td>\n",
       "      <td>11/12/2020</td>\n",
       "      <td>09/01/2020</td>\n",
       "      <td>Vespertino (13 - 19)</td>\n",
       "      <td>Ala C</td>\n",
       "      <td>Falha na assistência de enfermagem</td>\n",
       "      <td>NaN</td>\n",
       "      <td>NaN</td>\n",
       "      <td>NaN</td>\n",
       "      <td>NaN</td>\n",
       "      <td>NaN</td>\n",
       "      <td>NaN</td>\n",
       "      <td>NaN</td>\n",
       "      <td>NaN</td>\n",
       "      <td>A ADENTRAR NO QUARTO PACIENTE ESTAVA COM A SON...</td>\n",
       "      <td>FALTA DE ASSISTÊNCIA DA EQUIPE DE ENFERMAGEM</td>\n",
       "      <td>Grave</td>\n",
       "      <td>RISCO DE BRONCOASPIRAÇÂO</td>\n",
       "      <td>NaN</td>\n",
       "      <td>NaN</td>\n",
       "      <td>INFORMAR A EQUIPE E A CHEFIA IMEDIATA.</td>\n",
       "      <td>NaN</td>\n",
       "      <td>NaN</td>\n",
       "      <td>NaN</td>\n",
       "      <td>NaN</td>\n",
       "      <td>Evento Adverso</td>\n",
       "      <td>NaN</td>\n",
       "      <td>NaN</td>\n",
       "      <td>NaN</td>\n",
       "      <td>NaN</td>\n",
       "      <td>1</td>\n",
       "      <td>NaN</td>\n",
       "      <td>NaN</td>\n",
       "      <td>2020</td>\n",
       "      <td>01</td>\n",
       "      <td>Evento Adverso</td>\n",
       "      <td>2020</td>\n",
       "      <td>01</td>\n",
       "      <td>Evento Adverso</td>\n",
       "      <td>2020</td>\n",
       "      <td>01</td>\n",
       "      <td>Evento Adverso</td>\n",
       "      <td>2020</td>\n",
       "      <td>1</td>\n",
       "      <td>Evento Adverso</td>\n",
       "      <td>2020-01-01</td>\n",
       "    </tr>\n",
       "    <tr>\n",
       "      <th>4997</th>\n",
       "      <td>02/12/2020 09:29:38</td>\n",
       "      <td>NaN</td>\n",
       "      <td>Samyra Cassiano de Sousa</td>\n",
       "      <td>485409</td>\n",
       "      <td>41</td>\n",
       "      <td>Preta</td>\n",
       "      <td>Leishimaniose cutanea</td>\n",
       "      <td>11/11/2020</td>\n",
       "      <td>12/01/2020</td>\n",
       "      <td>Matutino (7 - 13)</td>\n",
       "      <td>Ala C</td>\n",
       "      <td>Paciente não quer aderir ao tratamento</td>\n",
       "      <td>NaN</td>\n",
       "      <td>NaN</td>\n",
       "      <td>NaN</td>\n",
       "      <td>NaN</td>\n",
       "      <td>NaN</td>\n",
       "      <td>NaN</td>\n",
       "      <td>NaN</td>\n",
       "      <td>NaN</td>\n",
       "      <td>Paciente consciente, acordada, responsiva, pol...</td>\n",
       "      <td>Resistencia em aderir ao tratamento</td>\n",
       "      <td>Nenhum</td>\n",
       "      <td>NaN</td>\n",
       "      <td>Adryelli Joicy</td>\n",
       "      <td>NaN</td>\n",
       "      <td>NaN</td>\n",
       "      <td>NaN</td>\n",
       "      <td>NaN</td>\n",
       "      <td>NaN</td>\n",
       "      <td>NaN</td>\n",
       "      <td>Avaliado</td>\n",
       "      <td>NaN</td>\n",
       "      <td>NaN</td>\n",
       "      <td>NaN</td>\n",
       "      <td>NaN</td>\n",
       "      <td>1</td>\n",
       "      <td>NaN</td>\n",
       "      <td>NaN</td>\n",
       "      <td>2020</td>\n",
       "      <td>01</td>\n",
       "      <td>Avaliado</td>\n",
       "      <td>2020</td>\n",
       "      <td>01</td>\n",
       "      <td>Avaliado</td>\n",
       "      <td>2020</td>\n",
       "      <td>01</td>\n",
       "      <td>Avaliado</td>\n",
       "      <td>2020</td>\n",
       "      <td>1</td>\n",
       "      <td>Avaliado</td>\n",
       "      <td>2020-01-01</td>\n",
       "    </tr>\n",
       "    <tr>\n",
       "      <th>5342</th>\n",
       "      <td>28/01/2021 19:02:37</td>\n",
       "      <td>NÂO</td>\n",
       "      <td>NaN</td>\n",
       "      <td>NaN</td>\n",
       "      <td>NaN</td>\n",
       "      <td>NaN</td>\n",
       "      <td>NaN</td>\n",
       "      <td>NaN</td>\n",
       "      <td>25/01/2020</td>\n",
       "      <td>Noturno (19 - 7)</td>\n",
       "      <td>Emergência</td>\n",
       "      <td>Falha na assistência médica</td>\n",
       "      <td>NaN</td>\n",
       "      <td>NaN</td>\n",
       "      <td>NaN</td>\n",
       "      <td>NaN</td>\n",
       "      <td>NaN</td>\n",
       "      <td>NaN</td>\n",
       "      <td>NaN</td>\n",
       "      <td>NaN</td>\n",
       "      <td>MEDICAS MAIARA E MARCELA DA EMERGENCIA FORAM P...</td>\n",
       "      <td>DESCUMPRIMENTO DE ORDEM DA DIRETORIA TECNICA</td>\n",
       "      <td>Nenhum</td>\n",
       "      <td>NaN</td>\n",
       "      <td>NaN</td>\n",
       "      <td>NaN</td>\n",
       "      <td>NaN</td>\n",
       "      <td>NaN</td>\n",
       "      <td>NaN</td>\n",
       "      <td>NaN</td>\n",
       "      <td>NaN</td>\n",
       "      <td>Circunstância Notificável</td>\n",
       "      <td>NaN</td>\n",
       "      <td>NaN</td>\n",
       "      <td>NaN</td>\n",
       "      <td>NaN</td>\n",
       "      <td>1</td>\n",
       "      <td>NaN</td>\n",
       "      <td>NaN</td>\n",
       "      <td>2020</td>\n",
       "      <td>01</td>\n",
       "      <td>Circunstância Notificável</td>\n",
       "      <td>2020</td>\n",
       "      <td>01</td>\n",
       "      <td>Circunstância Notificável</td>\n",
       "      <td>2020</td>\n",
       "      <td>01</td>\n",
       "      <td>Circunstância Notificável</td>\n",
       "      <td>2020</td>\n",
       "      <td>1</td>\n",
       "      <td>Circunstância Notificável</td>\n",
       "      <td>2020-01-01</td>\n",
       "    </tr>\n",
       "  </tbody>\n",
       "</table>\n",
       "</div>"
      ],
      "text/plain": [
       "                    col_0 col_1                       col_2   col_3 col_4  \\\n",
       "4536  20/07/2020 19:49:19   NaN                         NaN     NaN   NaN   \n",
       "5184  09/01/2021 19:24:06   SIM  WEMERSON FERREIRA DE SOUZA   86271    21   \n",
       "4997  02/12/2020 09:29:38   NaN    Samyra Cassiano de Sousa  485409    41   \n",
       "5342  28/01/2021 19:02:37   NÂO                         NaN     NaN   NaN   \n",
       "\n",
       "      col_5                  col_6       col_7       col_8  \\\n",
       "4536    NaN                    NaN         NaN  06/01/2020   \n",
       "5184  Parda                    HIV  11/12/2020  09/01/2020   \n",
       "4997  Preta  Leishimaniose cutanea  11/11/2020  12/01/2020   \n",
       "5342    NaN                    NaN         NaN  25/01/2020   \n",
       "\n",
       "                     col_9      col_10  \\\n",
       "4536      Noturno (19 - 7)       Ala E   \n",
       "5184  Vespertino (13 - 19)       Ala C   \n",
       "4997     Matutino (7 - 13)       Ala C   \n",
       "5342      Noturno (19 - 7)  Emergência   \n",
       "\n",
       "                                      col_11 col_12 col_13 col_14 col_15  \\\n",
       "4536      Falhas relacionadas à medicamentos    NaN    NaN    NaN    NaN   \n",
       "5184      Falha na assistência de enfermagem    NaN    NaN    NaN    NaN   \n",
       "4997  Paciente não quer aderir ao tratamento    NaN    NaN    NaN    NaN   \n",
       "5342             Falha na assistência médica    NaN    NaN    NaN    NaN   \n",
       "\n",
       "     col_16 col_17                col_18 col_19  \\\n",
       "4536    NaN    NaN  Falha na dispensação    NaN   \n",
       "5184    NaN    NaN                   NaN    NaN   \n",
       "4997    NaN    NaN                   NaN    NaN   \n",
       "5342    NaN    NaN                   NaN    NaN   \n",
       "\n",
       "                                                 col_20  \\\n",
       "4536  Fármacia comunica que não havia ampola de prop...   \n",
       "5184  A ADENTRAR NO QUARTO PACIENTE ESTAVA COM A SON...   \n",
       "4997  Paciente consciente, acordada, responsiva, pol...   \n",
       "5342  MEDICAS MAIARA E MARCELA DA EMERGENCIA FORAM P...   \n",
       "\n",
       "                                            col_21  col_22  \\\n",
       "4536                                     Distração    Leve   \n",
       "5184  FALTA DE ASSISTÊNCIA DA EQUIPE DE ENFERMAGEM   Grave   \n",
       "4997           Resistencia em aderir ao tratamento  Nenhum   \n",
       "5342  DESCUMPRIMENTO DE ORDEM DA DIRETORIA TECNICA  Nenhum   \n",
       "\n",
       "                        col_23          col_24 col_25  \\\n",
       "4536         Atraso na sedação             NaN    NaN   \n",
       "5184  RISCO DE BRONCOASPIRAÇÂO             NaN    NaN   \n",
       "4997                       NaN  Adryelli Joicy    NaN   \n",
       "5342                       NaN             NaN    NaN   \n",
       "\n",
       "                                      col_26 col_27 col_28 col_29  col_30  \\\n",
       "4536                                     NaN    NaN    NaN    NaN     NaN   \n",
       "5184  INFORMAR A EQUIPE E A CHEFIA IMEDIATA.    NaN    NaN    NaN     NaN   \n",
       "4997                                     NaN    NaN    NaN    NaN     NaN   \n",
       "5342                                     NaN    NaN    NaN    NaN     NaN   \n",
       "\n",
       "                        col_126 col_127 col_128 col_129 col_130 col_131  \\\n",
       "4536                   Avaliado     NaN     NaN     NaN     NaN       1   \n",
       "5184             Evento Adverso     NaN     NaN     NaN     NaN       1   \n",
       "4997                   Avaliado     NaN     NaN     NaN     NaN       1   \n",
       "5342  Circunstância Notificável     NaN     NaN     NaN     NaN       1   \n",
       "\n",
       "     col_132 col_133 col_134 col_135                    col_136 col_137  \\\n",
       "4536     NaN     NaN    2020      01                   Avaliado    2020   \n",
       "5184     NaN     NaN    2020      01             Evento Adverso    2020   \n",
       "4997     NaN     NaN    2020      01                   Avaliado    2020   \n",
       "5342     NaN     NaN    2020      01  Circunstância Notificável    2020   \n",
       "\n",
       "     col_138                    col_139 col_140 col_141  \\\n",
       "4536      01                   Avaliado    2020      01   \n",
       "5184      01             Evento Adverso    2020      01   \n",
       "4997      01                   Avaliado    2020      01   \n",
       "5342      01  Circunstância Notificável    2020      01   \n",
       "\n",
       "                        col_142   ano  mes              classificacao  \\\n",
       "4536                   Avaliado  2020    1                   Avaliado   \n",
       "5184             Evento Adverso  2020    1             Evento Adverso   \n",
       "4997                   Avaliado  2020    1                   Avaliado   \n",
       "5342  Circunstância Notificável  2020    1  Circunstância Notificável   \n",
       "\n",
       "        periodo  \n",
       "4536 2020-01-01  \n",
       "5184 2020-01-01  \n",
       "4997 2020-01-01  \n",
       "5342 2020-01-01  "
      ]
     },
     "execution_count": 254,
     "metadata": {},
     "output_type": "execute_result"
    }
   ],
   "source": [
    "df1.query('ano==2020 & mes==1')"
   ]
  },
  {
   "cell_type": "code",
   "execution_count": 297,
   "id": "c739284c-a6ab-4ca4-a747-33c406dc006e",
   "metadata": {
    "tags": []
   },
   "outputs": [],
   "source": [
    "df_p0 = df1[['periodo', 'classificacao']].groupby(['periodo']).count().reset_index().sort_values(by=['periodo'], ascending=True)\n",
    "df_p1 = df_p0.set_index('periodo')"
   ]
  },
  {
   "cell_type": "code",
   "execution_count": 298,
   "id": "ee641b23-3442-4e05-8bd0-e87bed74f841",
   "metadata": {
    "tags": []
   },
   "outputs": [
    {
     "data": {
      "text/html": [
       "<div>\n",
       "<style scoped>\n",
       "    .dataframe tbody tr th:only-of-type {\n",
       "        vertical-align: middle;\n",
       "    }\n",
       "\n",
       "    .dataframe tbody tr th {\n",
       "        vertical-align: top;\n",
       "    }\n",
       "\n",
       "    .dataframe thead th {\n",
       "        text-align: right;\n",
       "    }\n",
       "</style>\n",
       "<table border=\"1\" class=\"dataframe\">\n",
       "  <thead>\n",
       "    <tr style=\"text-align: right;\">\n",
       "      <th></th>\n",
       "      <th>classificacao</th>\n",
       "    </tr>\n",
       "    <tr>\n",
       "      <th>periodo</th>\n",
       "      <th></th>\n",
       "    </tr>\n",
       "  </thead>\n",
       "  <tbody>\n",
       "    <tr>\n",
       "      <th>2020-01-01</th>\n",
       "      <td>4</td>\n",
       "    </tr>\n",
       "    <tr>\n",
       "      <th>2020-02-01</th>\n",
       "      <td>4</td>\n",
       "    </tr>\n",
       "    <tr>\n",
       "      <th>2020-03-01</th>\n",
       "      <td>11</td>\n",
       "    </tr>\n",
       "    <tr>\n",
       "      <th>2020-04-01</th>\n",
       "      <td>58</td>\n",
       "    </tr>\n",
       "    <tr>\n",
       "      <th>2020-05-01</th>\n",
       "      <td>43</td>\n",
       "    </tr>\n",
       "  </tbody>\n",
       "</table>\n",
       "</div>"
      ],
      "text/plain": [
       "            classificacao\n",
       "periodo                  \n",
       "2020-01-01              4\n",
       "2020-02-01              4\n",
       "2020-03-01             11\n",
       "2020-04-01             58\n",
       "2020-05-01             43"
      ]
     },
     "execution_count": 298,
     "metadata": {},
     "output_type": "execute_result"
    }
   ],
   "source": [
    "df_p1.head()\n",
    "# df_p1.index[0]"
   ]
  },
  {
   "cell_type": "code",
   "execution_count": 299,
   "id": "3a84da23-6f3e-4497-87e7-d4cdadc4ab0a",
   "metadata": {
    "tags": []
   },
   "outputs": [
    {
     "data": {
      "image/png": "[encoded data removed]",
      "text/plain": [
       "<Figure size 640x480 with 1 Axes>"
      ]
     },
     "metadata": {},
     "output_type": "display_data"
    }
   ],
   "source": [
    "# plt.xlim(df_p1.index[0], datetime.now())\n",
    "\n",
    "# plota o gráfico de linha\n",
    "df_p1.plot(kind='line', y='classificacao', xlim=(df_p1.index[0], datetime.now()))\n",
    "\n",
    "# exibe o gráfico\n",
    "plt.show()"
   ]
  },
  {
   "cell_type": "code",
   "execution_count": 358,
   "id": "97aae659-4c5b-49b0-ae16-ad2d181d3476",
   "metadata": {
    "tags": []
   },
   "outputs": [
    {
     "data": {
      "application/vnd.plotly.v1+json": {
       "config": {
        "plotlyServerURL": "https://plot.ly"
       },
       "data": [
        {
         "hovertemplate": "Total: %{y}<br>Periodo: %{x}",
         "marker": {
          "color": "royalblue",
          "size": 7
         },
         "mode": "markers+lines",
         "type": "scatter",
         "x": [
          "2020-01-01",
          "2020-02-01",
          "2020-03-01",
          "2020-04-01",
          "2020-05-01",
          "2020-06-01",
          "2020-07-01",
          "2020-08-01",
          "2020-09-01",
          "2020-10-01",
          "2020-11-01",
          "2020-12-01",
          "2021-01-01",
          "2021-02-01",
          "2021-03-01",
          "2021-04-01",
          "2021-05-01",
          "2021-06-01",
          "2021-07-01",
          "2021-08-01",
          "2021-09-01",
          "2021-10-01",
          "2021-11-01",
          "2021-12-01",
          "2022-01-01",
          "2022-02-01",
          "2022-03-01",
          "2022-04-01",
          "2022-05-01",
          "2022-06-01",
          "2022-07-01",
          "2022-08-01",
          "2022-09-01",
          "2022-10-01",
          "2022-11-01",
          "2022-12-01",
          "2023-01-01",
          "2023-02-01",
          "2023-10-01",
          "2023-12-01"
         ],
         "y": [
          4,
          4,
          11,
          58,
          43,
          71,
          85,
          96,
          72,
          98,
          139,
          141,
          226,
          216,
          259,
          212,
          209,
          274,
          237,
          177,
          201,
          241,
          210,
          239,
          200,
          209,
          277,
          161,
          162,
          263,
          273,
          328,
          168,
          223,
          165,
          162,
          260,
          194,
          2,
          1
         ]
        }
       ],
       "layout": {
        "autosize": true,
        "template": {
         "data": {
          "bar": [
           {
            "error_x": {
             "color": "#2a3f5f"
            },
            "error_y": {
             "color": "#2a3f5f"
            },
            "marker": {
             "line": {
              "color": "white",
              "width": 0.5
             },
             "pattern": {
              "fillmode": "overlay",
              "size": 10,
              "solidity": 0.2
             }
            },
            "type": "bar"
           }
          ],
          "barpolar": [
           {
            "marker": {
             "line": {
              "color": "white",
              "width": 0.5
             },
             "pattern": {
              "fillmode": "overlay",
              "size": 10,
              "solidity": 0.2
             }
            },
            "type": "barpolar"
           }
          ],
          "carpet": [
           {
            "aaxis": {
             "endlinecolor": "#2a3f5f",
             "gridcolor": "#C8D4E3",
             "linecolor": "#C8D4E3",
             "minorgridcolor": "#C8D4E3",
             "startlinecolor": "#2a3f5f"
            },
            "baxis": {
             "endlinecolor": "#2a3f5f",
             "gridcolor": "#C8D4E3",
             "linecolor": "#C8D4E3",
             "minorgridcolor": "#C8D4E3",
             "startlinecolor": "#2a3f5f"
            },
            "type": "carpet"
           }
          ],
          "choropleth": [
           {
            "colorbar": {
             "outlinewidth": 0,
             "ticks": ""
            },
            "type": "choropleth"
           }
          ],
          "contour": [
           {
            "colorbar": {
             "outlinewidth": 0,
             "ticks": ""
            },
            "colorscale": [
             [
              0,
              "#0d0887"
             ],
             [
              0.1111111111111111,
              "#46039f"
             ],
             [
              0.2222222222222222,
              "#7201a8"
             ],
             [
              0.3333333333333333,
              "#9c179e"
             ],
             [
              0.4444444444444444,
              "#bd3786"
             ],
             [
              0.5555555555555556,
              "#d8576b"
             ],
             [
              0.6666666666666666,
              "#ed7953"
             ],
             [
              0.7777777777777778,
              "#fb9f3a"
             ],
             [
              0.8888888888888888,
              "#fdca26"
             ],
             [
              1,
              "#f0f921"
             ]
            ],
            "type": "contour"
           }
          ],
          "contourcarpet": [
           {
            "colorbar": {
             "outlinewidth": 0,
             "ticks": ""
            },
            "type": "contourcarpet"
           }
          ],
          "heatmap": [
           {
            "colorbar": {
             "outlinewidth": 0,
             "ticks": ""
            },
            "colorscale": [
             [
              0,
              "#0d0887"
             ],
             [
              0.1111111111111111,
              "#46039f"
             ],
             [
              0.2222222222222222,
              "#7201a8"
             ],
             [
              0.3333333333333333,
              "#9c179e"
             ],
             [
              0.4444444444444444,
              "#bd3786"
             ],
             [
              0.5555555555555556,
              "#d8576b"
             ],
             [
              0.6666666666666666,
              "#ed7953"
             ],
             [
              0.7777777777777778,
              "#fb9f3a"
             ],
             [
              0.8888888888888888,
              "#fdca26"
             ],
             [
              1,
              "#f0f921"
             ]
            ],
            "type": "heatmap"
           }
          ],
          "heatmapgl": [
           {
            "colorbar": {
             "outlinewidth": 0,
             "ticks": ""
            },
            "colorscale": [
             [
              0,
              "#0d0887"
             ],
             [
              0.1111111111111111,
              "#46039f"
             ],
             [
              0.2222222222222222,
              "#7201a8"
             ],
             [
              0.3333333333333333,
              "#9c179e"
             ],
             [
              0.4444444444444444,
              "#bd3786"
             ],
             [
              0.5555555555555556,
              "#d8576b"
             ],
             [
              0.6666666666666666,
              "#ed7953"
             ],
             [
              0.7777777777777778,
              "#fb9f3a"
             ],
             [
              0.8888888888888888,
              "#fdca26"
             ],
             [
              1,
              "#f0f921"
             ]
            ],
            "type": "heatmapgl"
           }
          ],
          "histogram": [
           {
            "marker": {
             "pattern": {
              "fillmode": "overlay",
              "size": 10,
              "solidity": 0.2
             }
            },
            "type": "histogram"
           }
          ],
          "histogram2d": [
           {
            "colorbar": {
             "outlinewidth": 0,
             "ticks": ""
            },
            "colorscale": [
             [
              0,
              "#0d0887"
             ],
             [
              0.1111111111111111,
              "#46039f"
             ],
             [
              0.2222222222222222,
              "#7201a8"
             ],
             [
              0.3333333333333333,
              "#9c179e"
             ],
             [
              0.4444444444444444,
              "#bd3786"
             ],
             [
              0.5555555555555556,
              "#d8576b"
             ],
             [
              0.6666666666666666,
              "#ed7953"
             ],
             [
              0.7777777777777778,
              "#fb9f3a"
             ],
             [
              0.8888888888888888,
              "#fdca26"
             ],
             [
              1,
              "#f0f921"
             ]
            ],
            "type": "histogram2d"
           }
          ],
          "histogram2dcontour": [
           {
            "colorbar": {
             "outlinewidth": 0,
             "ticks": ""
            },
            "colorscale": [
             [
              0,
              "#0d0887"
             ],
             [
              0.1111111111111111,
              "#46039f"
             ],
             [
              0.2222222222222222,
              "#7201a8"
             ],
             [
              0.3333333333333333,
              "#9c179e"
             ],
             [
              0.4444444444444444,
              "#bd3786"
             ],
             [
              0.5555555555555556,
              "#d8576b"
             ],
             [
              0.6666666666666666,
              "#ed7953"
             ],
             [
              0.7777777777777778,
              "#fb9f3a"
             ],
             [
              0.8888888888888888,
              "#fdca26"
             ],
             [
              1,
              "#f0f921"
             ]
            ],
            "type": "histogram2dcontour"
           }
          ],
          "mesh3d": [
           {
            "colorbar": {
             "outlinewidth": 0,
             "ticks": ""
            },
            "type": "mesh3d"
           }
          ],
          "parcoords": [
           {
            "line": {
             "colorbar": {
              "outlinewidth": 0,
              "ticks": ""
             }
            },
            "type": "parcoords"
           }
          ],
          "pie": [
           {
            "automargin": true,
            "type": "pie"
           }
          ],
          "scatter": [
           {
            "fillpattern": {
             "fillmode": "overlay",
             "size": 10,
             "solidity": 0.2
            },
            "type": "scatter"
           }
          ],
          "scatter3d": [
           {
            "line": {
             "colorbar": {
              "outlinewidth": 0,
              "ticks": ""
             }
            },
            "marker": {
             "colorbar": {
              "outlinewidth": 0,
              "ticks": ""
             }
            },
            "type": "scatter3d"
           }
          ],
          "scattercarpet": [
           {
            "marker": {
             "colorbar": {
              "outlinewidth": 0,
              "ticks": ""
             }
            },
            "type": "scattercarpet"
           }
          ],
          "scattergeo": [
           {
            "marker": {
             "colorbar": {
              "outlinewidth": 0,
              "ticks": ""
             }
            },
            "type": "scattergeo"
           }
          ],
          "scattergl": [
           {
            "marker": {
             "colorbar": {
              "outlinewidth": 0,
              "ticks": ""
             }
            },
            "type": "scattergl"
           }
          ],
          "scattermapbox": [
           {
            "marker": {
             "colorbar": {
              "outlinewidth": 0,
              "ticks": ""
             }
            },
            "type": "scattermapbox"
           }
          ],
          "scatterpolar": [
           {
            "marker": {
             "colorbar": {
              "outlinewidth": 0,
              "ticks": ""
             }
            },
            "type": "scatterpolar"
           }
          ],
          "scatterpolargl": [
           {
            "marker": {
             "colorbar": {
              "outlinewidth": 0,
              "ticks": ""
             }
            },
            "type": "scatterpolargl"
           }
          ],
          "scatterternary": [
           {
            "marker": {
             "colorbar": {
              "outlinewidth": 0,
              "ticks": ""
             }
            },
            "type": "scatterternary"
           }
          ],
          "surface": [
           {
            "colorbar": {
             "outlinewidth": 0,
             "ticks": ""
            },
            "colorscale": [
             [
              0,
              "#0d0887"
             ],
             [
              0.1111111111111111,
              "#46039f"
             ],
             [
              0.2222222222222222,
              "#7201a8"
             ],
             [
              0.3333333333333333,
              "#9c179e"
             ],
             [
              0.4444444444444444,
              "#bd3786"
             ],
             [
              0.5555555555555556,
              "#d8576b"
             ],
             [
              0.6666666666666666,
              "#ed7953"
             ],
             [
              0.7777777777777778,
              "#fb9f3a"
             ],
             [
              0.8888888888888888,
              "#fdca26"
             ],
             [
              1,
              "#f0f921"
             ]
            ],
            "type": "surface"
           }
          ],
          "table": [
           {
            "cells": {
             "fill": {
              "color": "#EBF0F8"
             },
             "line": {
              "color": "white"
             }
            },
            "header": {
             "fill": {
              "color": "#C8D4E3"
             },
             "line": {
              "color": "white"
             }
            },
            "type": "table"
           }
          ]
         },
         "layout": {
          "annotationdefaults": {
           "arrowcolor": "#2a3f5f",
           "arrowhead": 0,
           "arrowwidth": 1
          },
          "autotypenumbers": "strict",
          "coloraxis": {
           "colorbar": {
            "outlinewidth": 0,
            "ticks": ""
           }
          },
          "colorscale": {
           "diverging": [
            [
             0,
             "#8e0152"
            ],
            [
             0.1,
             "#c51b7d"
            ],
            [
             0.2,
             "#de77ae"
            ],
            [
             0.3,
             "#f1b6da"
            ],
            [
             0.4,
             "#fde0ef"
            ],
            [
             0.5,
             "#f7f7f7"
            ],
            [
             0.6,
             "#e6f5d0"
            ],
            [
             0.7,
             "#b8e186"
            ],
            [
             0.8,
             "#7fbc41"
            ],
            [
             0.9,
             "#4d9221"
            ],
            [
             1,
             "#276419"
            ]
           ],
           "sequential": [
            [
             0,
             "#0d0887"
            ],
            [
             0.1111111111111111,
             "#46039f"
            ],
            [
             0.2222222222222222,
             "#7201a8"
            ],
            [
             0.3333333333333333,
             "#9c179e"
            ],
            [
             0.4444444444444444,
             "#bd3786"
            ],
            [
             0.5555555555555556,
             "#d8576b"
            ],
            [
             0.6666666666666666,
             "#ed7953"
            ],
            [
             0.7777777777777778,
             "#fb9f3a"
            ],
            [
             0.8888888888888888,
             "#fdca26"
            ],
            [
             1,
             "#f0f921"
            ]
           ],
           "sequentialminus": [
            [
             0,
             "#0d0887"
            ],
            [
             0.1111111111111111,
             "#46039f"
            ],
            [
             0.2222222222222222,
             "#7201a8"
            ],
            [
             0.3333333333333333,
             "#9c179e"
            ],
            [
             0.4444444444444444,
             "#bd3786"
            ],
            [
             0.5555555555555556,
             "#d8576b"
            ],
            [
             0.6666666666666666,
             "#ed7953"
            ],
            [
             0.7777777777777778,
             "#fb9f3a"
            ],
            [
             0.8888888888888888,
             "#fdca26"
            ],
            [
             1,
             "#f0f921"
            ]
           ]
          },
          "colorway": [
           "#636efa",
           "#EF553B",
           "#00cc96",
           "#ab63fa",
           "#FFA15A",
           "#19d3f3",
           "#FF6692",
           "#B6E880",
           "#FF97FF",
           "#FECB52"
          ],
          "font": {
           "color": "#2a3f5f"
          },
          "geo": {
           "bgcolor": "white",
           "lakecolor": "white",
           "landcolor": "white",
           "showlakes": true,
           "showland": true,
           "subunitcolor": "#C8D4E3"
          },
          "hoverlabel": {
           "align": "left"
          },
          "hovermode": "closest",
          "mapbox": {
           "style": "light"
          },
          "paper_bgcolor": "white",
          "plot_bgcolor": "white",
          "polar": {
           "angularaxis": {
            "gridcolor": "#EBF0F8",
            "linecolor": "#EBF0F8",
            "ticks": ""
           },
           "bgcolor": "white",
           "radialaxis": {
            "gridcolor": "#EBF0F8",
            "linecolor": "#EBF0F8",
            "ticks": ""
           }
          },
          "scene": {
           "xaxis": {
            "backgroundcolor": "white",
            "gridcolor": "#DFE8F3",
            "gridwidth": 2,
            "linecolor": "#EBF0F8",
            "showbackground": true,
            "ticks": "",
            "zerolinecolor": "#EBF0F8"
           },
           "yaxis": {
            "backgroundcolor": "white",
            "gridcolor": "#DFE8F3",
            "gridwidth": 2,
            "linecolor": "#EBF0F8",
            "showbackground": true,
            "ticks": "",
            "zerolinecolor": "#EBF0F8"
           },
           "zaxis": {
            "backgroundcolor": "white",
            "gridcolor": "#DFE8F3",
            "gridwidth": 2,
            "linecolor": "#EBF0F8",
            "showbackground": true,
            "ticks": "",
            "zerolinecolor": "#EBF0F8"
           }
          },
          "shapedefaults": {
           "line": {
            "color": "#2a3f5f"
           }
          },
          "ternary": {
           "aaxis": {
            "gridcolor": "#DFE8F3",
            "linecolor": "#A2B1C6",
            "ticks": ""
           },
           "baxis": {
            "gridcolor": "#DFE8F3",
            "linecolor": "#A2B1C6",
            "ticks": ""
           },
           "bgcolor": "white",
           "caxis": {
            "gridcolor": "#DFE8F3",
            "linecolor": "#A2B1C6",
            "ticks": ""
           }
          },
          "title": {
           "x": 0.05
          },
          "xaxis": {
           "automargin": true,
           "gridcolor": "#EBF0F8",
           "linecolor": "#EBF0F8",
           "ticks": "",
           "title": {
            "standoff": 15
           },
           "zerolinecolor": "#EBF0F8",
           "zerolinewidth": 2
          },
          "yaxis": {
           "automargin": true,
           "gridcolor": "#EBF0F8",
           "linecolor": "#EBF0F8",
           "ticks": "",
           "title": {
            "standoff": 15
           },
           "zerolinecolor": "#EBF0F8",
           "zerolinewidth": 2
          }
         }
        },
        "title": {
         "text": "<b>Notificações de eventos adversos</b><br><sup>Evolução das notificações realizadas</sup>"
        },
        "xaxis": {
         "range": [
          "2020-01-01",
          "2023-02-28"
         ],
         "title": {
          "text": ""
         },
         "type": "date"
        },
        "yaxis": {
         "autorange": true,
         "range": [
          -25.566050198150595,
          354.5660501981506
         ],
         "title": {
          "text": "Total de notificações"
         },
         "type": "linear"
        }
       }
      },
      "image/png": "[encoded data removed]",
      "text/html": [
       "<div>                            <div id=\"c146fa49-a3cb-40bb-8546-d3a9e78d4304\" class=\"plotly-graph-div\" style=\"height:400px; width:100%;\"></div>            <script type=\"text/javascript\">                require([\"plotly\"], function(Plotly) {                    window.PLOTLYENV=window.PLOTLYENV || {};                                    if (document.getElementById(\"c146fa49-a3cb-40bb-8546-d3a9e78d4304\")) {                    Plotly.newPlot(                        \"c146fa49-a3cb-40bb-8546-d3a9e78d4304\",                        [{\"hovertemplate\":\"Total: %{y}<br>Periodo: %{x}\",\"marker\":{\"color\":\"royalblue\",\"size\":7},\"mode\":\"markers+lines\",\"x\":[\"2020-01-01\",\"2020-02-01\",\"2020-03-01\",\"2020-04-01\",\"2020-05-01\",\"2020-06-01\",\"2020-07-01\",\"2020-08-01\",\"2020-09-01\",\"2020-10-01\",\"2020-11-01\",\"2020-12-01\",\"2021-01-01\",\"2021-02-01\",\"2021-03-01\",\"2021-04-01\",\"2021-05-01\",\"2021-06-01\",\"2021-07-01\",\"2021-08-01\",\"2021-09-01\",\"2021-10-01\",\"2021-11-01\",\"2021-12-01\",\"2022-01-01\",\"2022-02-01\",\"2022-03-01\",\"2022-04-01\",\"2022-05-01\",\"2022-06-01\",\"2022-07-01\",\"2022-08-01\",\"2022-09-01\",\"2022-10-01\",\"2022-11-01\",\"2022-12-01\",\"2023-01-01\",\"2023-02-01\",\"2023-10-01\",\"2023-12-01\"],\"y\":[4,4,11,58,43,71,85,96,72,98,139,141,226,216,259,212,209,274,237,177,201,241,210,239,200,209,277,161,162,263,273,328,168,223,165,162,260,194,2,1],\"type\":\"scatter\"}],                        {\"template\":{\"data\":{\"barpolar\":[{\"marker\":{\"line\":{\"color\":\"white\",\"width\":0.5},\"pattern\":{\"fillmode\":\"overlay\",\"size\":10,\"solidity\":0.2}},\"type\":\"barpolar\"}],\"bar\":[{\"error_x\":{\"color\":\"#2a3f5f\"},\"error_y\":{\"color\":\"#2a3f5f\"},\"marker\":{\"line\":{\"color\":\"white\",\"width\":0.5},\"pattern\":{\"fillmode\":\"overlay\",\"size\":10,\"solidity\":0.2}},\"type\":\"bar\"}],\"carpet\":[{\"aaxis\":{\"endlinecolor\":\"#2a3f5f\",\"gridcolor\":\"#C8D4E3\",\"linecolor\":\"#C8D4E3\",\"minorgridcolor\":\"#C8D4E3\",\"startlinecolor\":\"#2a3f5f\"},\"baxis\":{\"endlinecolor\":\"#2a3f5f\",\"gridcolor\":\"#C8D4E3\",\"linecolor\":\"#C8D4E3\",\"minorgridcolor\":\"#C8D4E3\",\"startlinecolor\":\"#2a3f5f\"},\"type\":\"carpet\"}],\"choropleth\":[{\"colorbar\":{\"outlinewidth\":0,\"ticks\":\"\"},\"type\":\"choropleth\"}],\"contourcarpet\":[{\"colorbar\":{\"outlinewidth\":0,\"ticks\":\"\"},\"type\":\"contourcarpet\"}],\"contour\":[{\"colorbar\":{\"outlinewidth\":0,\"ticks\":\"\"},\"colorscale\":[[0.0,\"#0d0887\"],[0.1111111111111111,\"#46039f\"],[0.2222222222222222,\"#7201a8\"],[0.3333333333333333,\"#9c179e\"],[0.4444444444444444,\"#bd3786\"],[0.5555555555555556,\"#d8576b\"],[0.6666666666666666,\"#ed7953\"],[0.7777777777777778,\"#fb9f3a\"],[0.8888888888888888,\"#fdca26\"],[1.0,\"#f0f921\"]],\"type\":\"contour\"}],\"heatmapgl\":[{\"colorbar\":{\"outlinewidth\":0,\"ticks\":\"\"},\"colorscale\":[[0.0,\"#0d0887\"],[0.1111111111111111,\"#46039f\"],[0.2222222222222222,\"#7201a8\"],[0.3333333333333333,\"#9c179e\"],[0.4444444444444444,\"#bd3786\"],[0.5555555555555556,\"#d8576b\"],[0.6666666666666666,\"#ed7953\"],[0.7777777777777778,\"#fb9f3a\"],[0.8888888888888888,\"#fdca26\"],[1.0,\"#f0f921\"]],\"type\":\"heatmapgl\"}],\"heatmap\":[{\"colorbar\":{\"outlinewidth\":0,\"ticks\":\"\"},\"colorscale\":[[0.0,\"#0d0887\"],[0.1111111111111111,\"#46039f\"],[0.2222222222222222,\"#7201a8\"],[0.3333333333333333,\"#9c179e\"],[0.4444444444444444,\"#bd3786\"],[0.5555555555555556,\"#d8576b\"],[0.6666666666666666,\"#ed7953\"],[0.7777777777777778,\"#fb9f3a\"],[0.8888888888888888,\"#fdca26\"],[1.0,\"#f0f921\"]],\"type\":\"heatmap\"}],\"histogram2dcontour\":[{\"colorbar\":{\"outlinewidth\":0,\"ticks\":\"\"},\"colorscale\":[[0.0,\"#0d0887\"],[0.1111111111111111,\"#46039f\"],[0.2222222222222222,\"#7201a8\"],[0.3333333333333333,\"#9c179e\"],[0.4444444444444444,\"#bd3786\"],[0.5555555555555556,\"#d8576b\"],[0.6666666666666666,\"#ed7953\"],[0.7777777777777778,\"#fb9f3a\"],[0.8888888888888888,\"#fdca26\"],[1.0,\"#f0f921\"]],\"type\":\"histogram2dcontour\"}],\"histogram2d\":[{\"colorbar\":{\"outlinewidth\":0,\"ticks\":\"\"},\"colorscale\":[[0.0,\"#0d0887\"],[0.1111111111111111,\"#46039f\"],[0.2222222222222222,\"#7201a8\"],[0.3333333333333333,\"#9c179e\"],[0.4444444444444444,\"#bd3786\"],[0.5555555555555556,\"#d8576b\"],[0.6666666666666666,\"#ed7953\"],[0.7777777777777778,\"#fb9f3a\"],[0.8888888888888888,\"#fdca26\"],[1.0,\"#f0f921\"]],\"type\":\"histogram2d\"}],\"histogram\":[{\"marker\":{\"pattern\":{\"fillmode\":\"overlay\",\"size\":10,\"solidity\":0.2}},\"type\":\"histogram\"}],\"mesh3d\":[{\"colorbar\":{\"outlinewidth\":0,\"ticks\":\"\"},\"type\":\"mesh3d\"}],\"parcoords\":[{\"line\":{\"colorbar\":{\"outlinewidth\":0,\"ticks\":\"\"}},\"type\":\"parcoords\"}],\"pie\":[{\"automargin\":true,\"type\":\"pie\"}],\"scatter3d\":[{\"line\":{\"colorbar\":{\"outlinewidth\":0,\"ticks\":\"\"}},\"marker\":{\"colorbar\":{\"outlinewidth\":0,\"ticks\":\"\"}},\"type\":\"scatter3d\"}],\"scattercarpet\":[{\"marker\":{\"colorbar\":{\"outlinewidth\":0,\"ticks\":\"\"}},\"type\":\"scattercarpet\"}],\"scattergeo\":[{\"marker\":{\"colorbar\":{\"outlinewidth\":0,\"ticks\":\"\"}},\"type\":\"scattergeo\"}],\"scattergl\":[{\"marker\":{\"colorbar\":{\"outlinewidth\":0,\"ticks\":\"\"}},\"type\":\"scattergl\"}],\"scattermapbox\":[{\"marker\":{\"colorbar\":{\"outlinewidth\":0,\"ticks\":\"\"}},\"type\":\"scattermapbox\"}],\"scatterpolargl\":[{\"marker\":{\"colorbar\":{\"outlinewidth\":0,\"ticks\":\"\"}},\"type\":\"scatterpolargl\"}],\"scatterpolar\":[{\"marker\":{\"colorbar\":{\"outlinewidth\":0,\"ticks\":\"\"}},\"type\":\"scatterpolar\"}],\"scatter\":[{\"fillpattern\":{\"fillmode\":\"overlay\",\"size\":10,\"solidity\":0.2},\"type\":\"scatter\"}],\"scatterternary\":[{\"marker\":{\"colorbar\":{\"outlinewidth\":0,\"ticks\":\"\"}},\"type\":\"scatterternary\"}],\"surface\":[{\"colorbar\":{\"outlinewidth\":0,\"ticks\":\"\"},\"colorscale\":[[0.0,\"#0d0887\"],[0.1111111111111111,\"#46039f\"],[0.2222222222222222,\"#7201a8\"],[0.3333333333333333,\"#9c179e\"],[0.4444444444444444,\"#bd3786\"],[0.5555555555555556,\"#d8576b\"],[0.6666666666666666,\"#ed7953\"],[0.7777777777777778,\"#fb9f3a\"],[0.8888888888888888,\"#fdca26\"],[1.0,\"#f0f921\"]],\"type\":\"surface\"}],\"table\":[{\"cells\":{\"fill\":{\"color\":\"#EBF0F8\"},\"line\":{\"color\":\"white\"}},\"header\":{\"fill\":{\"color\":\"#C8D4E3\"},\"line\":{\"color\":\"white\"}},\"type\":\"table\"}]},\"layout\":{\"annotationdefaults\":{\"arrowcolor\":\"#2a3f5f\",\"arrowhead\":0,\"arrowwidth\":1},\"autotypenumbers\":\"strict\",\"coloraxis\":{\"colorbar\":{\"outlinewidth\":0,\"ticks\":\"\"}},\"colorscale\":{\"diverging\":[[0,\"#8e0152\"],[0.1,\"#c51b7d\"],[0.2,\"#de77ae\"],[0.3,\"#f1b6da\"],[0.4,\"#fde0ef\"],[0.5,\"#f7f7f7\"],[0.6,\"#e6f5d0\"],[0.7,\"#b8e186\"],[0.8,\"#7fbc41\"],[0.9,\"#4d9221\"],[1,\"#276419\"]],\"sequential\":[[0.0,\"#0d0887\"],[0.1111111111111111,\"#46039f\"],[0.2222222222222222,\"#7201a8\"],[0.3333333333333333,\"#9c179e\"],[0.4444444444444444,\"#bd3786\"],[0.5555555555555556,\"#d8576b\"],[0.6666666666666666,\"#ed7953\"],[0.7777777777777778,\"#fb9f3a\"],[0.8888888888888888,\"#fdca26\"],[1.0,\"#f0f921\"]],\"sequentialminus\":[[0.0,\"#0d0887\"],[0.1111111111111111,\"#46039f\"],[0.2222222222222222,\"#7201a8\"],[0.3333333333333333,\"#9c179e\"],[0.4444444444444444,\"#bd3786\"],[0.5555555555555556,\"#d8576b\"],[0.6666666666666666,\"#ed7953\"],[0.7777777777777778,\"#fb9f3a\"],[0.8888888888888888,\"#fdca26\"],[1.0,\"#f0f921\"]]},\"colorway\":[\"#636efa\",\"#EF553B\",\"#00cc96\",\"#ab63fa\",\"#FFA15A\",\"#19d3f3\",\"#FF6692\",\"#B6E880\",\"#FF97FF\",\"#FECB52\"],\"font\":{\"color\":\"#2a3f5f\"},\"geo\":{\"bgcolor\":\"white\",\"lakecolor\":\"white\",\"landcolor\":\"white\",\"showlakes\":true,\"showland\":true,\"subunitcolor\":\"#C8D4E3\"},\"hoverlabel\":{\"align\":\"left\"},\"hovermode\":\"closest\",\"mapbox\":{\"style\":\"light\"},\"paper_bgcolor\":\"white\",\"plot_bgcolor\":\"white\",\"polar\":{\"angularaxis\":{\"gridcolor\":\"#EBF0F8\",\"linecolor\":\"#EBF0F8\",\"ticks\":\"\"},\"bgcolor\":\"white\",\"radialaxis\":{\"gridcolor\":\"#EBF0F8\",\"linecolor\":\"#EBF0F8\",\"ticks\":\"\"}},\"scene\":{\"xaxis\":{\"backgroundcolor\":\"white\",\"gridcolor\":\"#DFE8F3\",\"gridwidth\":2,\"linecolor\":\"#EBF0F8\",\"showbackground\":true,\"ticks\":\"\",\"zerolinecolor\":\"#EBF0F8\"},\"yaxis\":{\"backgroundcolor\":\"white\",\"gridcolor\":\"#DFE8F3\",\"gridwidth\":2,\"linecolor\":\"#EBF0F8\",\"showbackground\":true,\"ticks\":\"\",\"zerolinecolor\":\"#EBF0F8\"},\"zaxis\":{\"backgroundcolor\":\"white\",\"gridcolor\":\"#DFE8F3\",\"gridwidth\":2,\"linecolor\":\"#EBF0F8\",\"showbackground\":true,\"ticks\":\"\",\"zerolinecolor\":\"#EBF0F8\"}},\"shapedefaults\":{\"line\":{\"color\":\"#2a3f5f\"}},\"ternary\":{\"aaxis\":{\"gridcolor\":\"#DFE8F3\",\"linecolor\":\"#A2B1C6\",\"ticks\":\"\"},\"baxis\":{\"gridcolor\":\"#DFE8F3\",\"linecolor\":\"#A2B1C6\",\"ticks\":\"\"},\"bgcolor\":\"white\",\"caxis\":{\"gridcolor\":\"#DFE8F3\",\"linecolor\":\"#A2B1C6\",\"ticks\":\"\"}},\"title\":{\"x\":0.05},\"xaxis\":{\"automargin\":true,\"gridcolor\":\"#EBF0F8\",\"linecolor\":\"#EBF0F8\",\"ticks\":\"\",\"title\":{\"standoff\":15},\"zerolinecolor\":\"#EBF0F8\",\"zerolinewidth\":2},\"yaxis\":{\"automargin\":true,\"gridcolor\":\"#EBF0F8\",\"linecolor\":\"#EBF0F8\",\"ticks\":\"\",\"title\":{\"standoff\":15},\"zerolinecolor\":\"#EBF0F8\",\"zerolinewidth\":2}}},\"xaxis\":{\"range\":[\"2020-01-01\",\"2023-02-28\"],\"title\":{\"text\":\"\"}},\"title\":{\"text\":\"<b>Notifica\\u00e7\\u00f5es de eventos adversos</b><br><sup>Evolu\\u00e7\\u00e3o das notifica\\u00e7\\u00f5es realizadas</sup>\"},\"yaxis\":{\"title\":{\"text\":\"Total de notifica\\u00e7\\u00f5es\"}},\"height\":400},                        {\"responsive\": true}                    ).then(function(){\n",
       "                            \n",
       "var gd = document.getElementById('c146fa49-a3cb-40bb-8546-d3a9e78d4304');\n",
       "var x = new MutationObserver(function (mutations, observer) {{\n",
       "        var display = window.getComputedStyle(gd).display;\n",
       "        if (!display || display === 'none') {{\n",
       "            console.log([gd, 'removed!']);\n",
       "            Plotly.purge(gd);\n",
       "            observer.disconnect();\n",
       "        }}\n",
       "}});\n",
       "\n",
       "// Listen for the removal of the full notebook cells\n",
       "var notebookContainer = gd.closest('#notebook-container');\n",
       "if (notebookContainer) {{\n",
       "    x.observe(notebookContainer, {childList: true});\n",
       "}}\n",
       "\n",
       "// Listen for the clearing of the current output cell\n",
       "var outputEl = gd.closest('.output');\n",
       "if (outputEl) {{\n",
       "    x.observe(outputEl, {childList: true});\n",
       "}}\n",
       "\n",
       "                        })                };                });            </script>        </div>"
      ]
     },
     "metadata": {},
     "output_type": "display_data"
    }
   ],
   "source": [
    "# converte a coluna 'periodo' em uma lista de strings\n",
    "periodo_str = df_p0['periodo'].dt.strftime('%Y-%m-%d').tolist()\n",
    "\n",
    "# obtém a data atual\n",
    "data_atual = datetime.now()\n",
    "\n",
    "# cria o objeto Scatter\n",
    "# scatter = go.Scatter(x=periodo_str, y=df_p0['classificacao'], mode='lines')\n",
    "scatter = go.Scatter(x=periodo_str, \n",
    "                     y=df_p0['classificacao'],\n",
    "                     mode='markers+lines', \n",
    "                     marker=dict(size=7, color=\"royalblue\"),\n",
    "                     hovertemplate='Total: %{y}<br>Periodo: %{x}')\n",
    "\n",
    "# cria o objeto Figure\n",
    "fig = go.Figure(scatter)\n",
    "\n",
    "# define o layout do gráfico\n",
    "fig.update_layout(\n",
    "    xaxis=dict(range=[periodo_str[0], data_atual.strftime('%Y-%m-%d')]),\n",
    "    template='plotly_white',\n",
    "    title='<b>Notificações de eventos adversos</b><br><sup>Evolução das notificações realizadas</sup>',\n",
    "    xaxis_title='',\n",
    "    yaxis_title='Total de notificações',\n",
    "    height=400,\n",
    ")\n",
    "\n",
    "# exibe o gráfico\n",
    "fig.show()"
   ]
  },
  {
   "cell_type": "code",
   "execution_count": 408,
   "id": "4eb9fe22-2f44-4d8f-8806-74940868eb7a",
   "metadata": {},
   "outputs": [
    {
     "data": {
      "application/vnd.plotly.v1+json": {
       "config": {
        "plotlyServerURL": "https://plot.ly"
       },
       "data": [
        {
         "alignmentgroup": "True",
         "hovertemplate": "unidade=Ala C<br>ano=2022<br>periodo=%{x}<br>total=%{y}<extra></extra>",
         "legendgroup": "Ala C",
         "marker": {
          "color": "#636efa",
          "pattern": {
           "shape": ""
          }
         },
         "name": "Ala C",
         "offsetgroup": "Ala C",
         "orientation": "v",
         "showlegend": true,
         "textposition": "auto",
         "type": "bar",
         "x": [
          "2022-01-01T00:00:00",
          "2022-02-01T00:00:00",
          "2022-04-01T00:00:00",
          "2022-06-01T00:00:00",
          "2022-07-01T00:00:00",
          "2022-09-01T00:00:00",
          "2022-10-01T00:00:00",
          "2022-11-01T00:00:00",
          "2022-12-01T00:00:00"
         ],
         "xaxis": "x",
         "y": [
          3,
          1,
          1,
          1,
          4,
          1,
          1,
          2,
          16
         ],
         "yaxis": "y"
        },
        {
         "alignmentgroup": "True",
         "hovertemplate": "unidade=Ala C<br>ano=2023<br>periodo=%{x}<br>total=%{y}<extra></extra>",
         "legendgroup": "Ala C",
         "marker": {
          "color": "#636efa",
          "pattern": {
           "shape": ""
          }
         },
         "name": "Ala C",
         "offsetgroup": "Ala C",
         "orientation": "v",
         "showlegend": false,
         "textposition": "auto",
         "type": "bar",
         "x": [
          "2023-01-01T00:00:00",
          "2023-02-01T00:00:00",
          "2023-10-01T00:00:00"
         ],
         "xaxis": "x2",
         "y": [
          44,
          22,
          1
         ],
         "yaxis": "y2"
        },
        {
         "alignmentgroup": "True",
         "hovertemplate": "unidade=Ala D<br>ano=2022<br>periodo=%{x}<br>total=%{y}<extra></extra>",
         "legendgroup": "Ala D",
         "marker": {
          "color": "#EF553B",
          "pattern": {
           "shape": ""
          }
         },
         "name": "Ala D",
         "offsetgroup": "Ala D",
         "orientation": "v",
         "showlegend": true,
         "textposition": "auto",
         "type": "bar",
         "x": [
          "2022-01-01T00:00:00",
          "2022-02-01T00:00:00",
          "2022-07-01T00:00:00",
          "2022-11-01T00:00:00",
          "2022-12-01T00:00:00"
         ],
         "xaxis": "x",
         "y": [
          1,
          1,
          3,
          2,
          8
         ],
         "yaxis": "y"
        },
        {
         "alignmentgroup": "True",
         "hovertemplate": "unidade=Ala D<br>ano=2023<br>periodo=%{x}<br>total=%{y}<extra></extra>",
         "legendgroup": "Ala D",
         "marker": {
          "color": "#EF553B",
          "pattern": {
           "shape": ""
          }
         },
         "name": "Ala D",
         "offsetgroup": "Ala D",
         "orientation": "v",
         "showlegend": false,
         "textposition": "auto",
         "type": "bar",
         "x": [
          "2023-01-01T00:00:00",
          "2023-02-01T00:00:00"
         ],
         "xaxis": "x2",
         "y": [
          7,
          2
         ],
         "yaxis": "y2"
        },
        {
         "alignmentgroup": "True",
         "hovertemplate": "unidade=Atendimento<br>ano=2022<br>periodo=%{x}<br>total=%{y}<extra></extra>",
         "legendgroup": "Atendimento",
         "marker": {
          "color": "#00cc96",
          "pattern": {
           "shape": ""
          }
         },
         "name": "Atendimento",
         "offsetgroup": "Atendimento",
         "orientation": "v",
         "showlegend": true,
         "textposition": "auto",
         "type": "bar",
         "x": [
          "2022-01-01T00:00:00",
          "2022-10-01T00:00:00",
          "2022-12-01T00:00:00"
         ],
         "xaxis": "x",
         "y": [
          1,
          1,
          2
         ],
         "yaxis": "y"
        },
        {
         "alignmentgroup": "True",
         "hovertemplate": "unidade=Atendimento<br>ano=2023<br>periodo=%{x}<br>total=%{y}<extra></extra>",
         "legendgroup": "Atendimento",
         "marker": {
          "color": "#00cc96",
          "pattern": {
           "shape": ""
          }
         },
         "name": "Atendimento",
         "offsetgroup": "Atendimento",
         "orientation": "v",
         "showlegend": false,
         "textposition": "auto",
         "type": "bar",
         "x": [
          "2023-01-01T00:00:00",
          "2023-02-01T00:00:00"
         ],
         "xaxis": "x2",
         "y": [
          1,
          3
         ],
         "yaxis": "y2"
        },
        {
         "alignmentgroup": "True",
         "hovertemplate": "unidade=UTI Covid<br>ano=2022<br>periodo=%{x}<br>total=%{y}<extra></extra>",
         "legendgroup": "UTI Covid",
         "marker": {
          "color": "#ab63fa",
          "pattern": {
           "shape": ""
          }
         },
         "name": "UTI Covid",
         "offsetgroup": "UTI Covid",
         "orientation": "v",
         "showlegend": true,
         "textposition": "auto",
         "type": "bar",
         "x": [
          "2022-01-01T00:00:00",
          "2022-06-01T00:00:00",
          "2022-07-01T00:00:00",
          "2022-09-01T00:00:00",
          "2022-10-01T00:00:00",
          "2022-12-01T00:00:00"
         ],
         "xaxis": "x",
         "y": [
          1,
          1,
          2,
          2,
          2,
          12
         ],
         "yaxis": "y"
        },
        {
         "alignmentgroup": "True",
         "hovertemplate": "unidade=UTI Covid<br>ano=2023<br>periodo=%{x}<br>total=%{y}<extra></extra>",
         "legendgroup": "UTI Covid",
         "marker": {
          "color": "#ab63fa",
          "pattern": {
           "shape": ""
          }
         },
         "name": "UTI Covid",
         "offsetgroup": "UTI Covid",
         "orientation": "v",
         "showlegend": false,
         "textposition": "auto",
         "type": "bar",
         "x": [
          "2023-01-01T00:00:00",
          "2023-02-01T00:00:00"
         ],
         "xaxis": "x2",
         "y": [
          12,
          9
         ],
         "yaxis": "y2"
        },
        {
         "alignmentgroup": "True",
         "hovertemplate": "unidade=UTI Pediátrica<br>ano=2022<br>periodo=%{x}<br>total=%{y}<extra></extra>",
         "legendgroup": "UTI Pediátrica",
         "marker": {
          "color": "#FFA15A",
          "pattern": {
           "shape": ""
          }
         },
         "name": "UTI Pediátrica",
         "offsetgroup": "UTI Pediátrica",
         "orientation": "v",
         "showlegend": true,
         "textposition": "auto",
         "type": "bar",
         "x": [
          "2022-01-01T00:00:00",
          "2022-02-01T00:00:00",
          "2022-12-01T00:00:00"
         ],
         "xaxis": "x",
         "y": [
          1,
          2,
          6
         ],
         "yaxis": "y"
        },
        {
         "alignmentgroup": "True",
         "hovertemplate": "unidade=UTI Pediátrica<br>ano=2023<br>periodo=%{x}<br>total=%{y}<extra></extra>",
         "legendgroup": "UTI Pediátrica",
         "marker": {
          "color": "#FFA15A",
          "pattern": {
           "shape": ""
          }
         },
         "name": "UTI Pediátrica",
         "offsetgroup": "UTI Pediátrica",
         "orientation": "v",
         "showlegend": false,
         "textposition": "auto",
         "type": "bar",
         "x": [
          "2023-01-01T00:00:00",
          "2023-02-01T00:00:00"
         ],
         "xaxis": "x2",
         "y": [
          3,
          5
         ],
         "yaxis": "y2"
        },
        {
         "alignmentgroup": "True",
         "hovertemplate": "unidade=Ala B<br>ano=2022<br>periodo=%{x}<br>total=%{y}<extra></extra>",
         "legendgroup": "Ala B",
         "marker": {
          "color": "#19d3f3",
          "pattern": {
           "shape": ""
          }
         },
         "name": "Ala B",
         "offsetgroup": "Ala B",
         "orientation": "v",
         "showlegend": true,
         "textposition": "auto",
         "type": "bar",
         "x": [
          "2022-02-01T00:00:00",
          "2022-04-01T00:00:00",
          "2022-08-01T00:00:00",
          "2022-10-01T00:00:00",
          "2022-12-01T00:00:00"
         ],
         "xaxis": "x",
         "y": [
          2,
          1,
          3,
          2,
          9
         ],
         "yaxis": "y"
        },
        {
         "alignmentgroup": "True",
         "hovertemplate": "unidade=Ala B<br>ano=2023<br>periodo=%{x}<br>total=%{y}<extra></extra>",
         "legendgroup": "Ala B",
         "marker": {
          "color": "#19d3f3",
          "pattern": {
           "shape": ""
          }
         },
         "name": "Ala B",
         "offsetgroup": "Ala B",
         "orientation": "v",
         "showlegend": false,
         "textposition": "auto",
         "type": "bar",
         "x": [
          "2023-01-01T00:00:00",
          "2023-02-01T00:00:00"
         ],
         "xaxis": "x2",
         "y": [
          24,
          10
         ],
         "yaxis": "y2"
        },
        {
         "alignmentgroup": "True",
         "hovertemplate": "unidade=Ala E<br>ano=2022<br>periodo=%{x}<br>total=%{y}<extra></extra>",
         "legendgroup": "Ala E",
         "marker": {
          "color": "#FF6692",
          "pattern": {
           "shape": ""
          }
         },
         "name": "Ala E",
         "offsetgroup": "Ala E",
         "orientation": "v",
         "showlegend": true,
         "textposition": "auto",
         "type": "bar",
         "x": [
          "2022-02-01T00:00:00",
          "2022-04-01T00:00:00",
          "2022-11-01T00:00:00",
          "2022-12-01T00:00:00"
         ],
         "xaxis": "x",
         "y": [
          1,
          1,
          2,
          7
         ],
         "yaxis": "y"
        },
        {
         "alignmentgroup": "True",
         "hovertemplate": "unidade=Ala E<br>ano=2023<br>periodo=%{x}<br>total=%{y}<extra></extra>",
         "legendgroup": "Ala E",
         "marker": {
          "color": "#FF6692",
          "pattern": {
           "shape": ""
          }
         },
         "name": "Ala E",
         "offsetgroup": "Ala E",
         "orientation": "v",
         "showlegend": false,
         "textposition": "auto",
         "type": "bar",
         "x": [
          "2023-01-01T00:00:00",
          "2023-02-01T00:00:00"
         ],
         "xaxis": "x2",
         "y": [
          4,
          4
         ],
         "yaxis": "y2"
        },
        {
         "alignmentgroup": "True",
         "hovertemplate": "unidade=Emergência<br>ano=2022<br>periodo=%{x}<br>total=%{y}<extra></extra>",
         "legendgroup": "Emergência",
         "marker": {
          "color": "#B6E880",
          "pattern": {
           "shape": ""
          }
         },
         "name": "Emergência",
         "offsetgroup": "Emergência",
         "orientation": "v",
         "showlegend": true,
         "textposition": "auto",
         "type": "bar",
         "x": [
          "2022-02-01T00:00:00",
          "2022-05-01T00:00:00",
          "2022-08-01T00:00:00",
          "2022-10-01T00:00:00",
          "2022-12-01T00:00:00"
         ],
         "xaxis": "x",
         "y": [
          1,
          2,
          1,
          2,
          4
         ],
         "yaxis": "y"
        },
        {
         "alignmentgroup": "True",
         "hovertemplate": "unidade=Emergência<br>ano=2023<br>periodo=%{x}<br>total=%{y}<extra></extra>",
         "legendgroup": "Emergência",
         "marker": {
          "color": "#B6E880",
          "pattern": {
           "shape": ""
          }
         },
         "name": "Emergência",
         "offsetgroup": "Emergência",
         "orientation": "v",
         "showlegend": false,
         "textposition": "auto",
         "type": "bar",
         "x": [
          "2023-01-01T00:00:00",
          "2023-02-01T00:00:00"
         ],
         "xaxis": "x2",
         "y": [
          17,
          14
         ],
         "yaxis": "y2"
        },
        {
         "alignmentgroup": "True",
         "hovertemplate": "unidade=UTI Adulto<br>ano=2022<br>periodo=%{x}<br>total=%{y}<extra></extra>",
         "legendgroup": "UTI Adulto",
         "marker": {
          "color": "#FF97FF",
          "pattern": {
           "shape": ""
          }
         },
         "name": "UTI Adulto",
         "offsetgroup": "UTI Adulto",
         "orientation": "v",
         "showlegend": true,
         "textposition": "auto",
         "type": "bar",
         "x": [
          "2022-02-01T00:00:00",
          "2022-04-01T00:00:00",
          "2022-05-01T00:00:00",
          "2022-07-01T00:00:00",
          "2022-08-01T00:00:00",
          "2022-09-01T00:00:00",
          "2022-12-01T00:00:00"
         ],
         "xaxis": "x",
         "y": [
          1,
          1,
          1,
          1,
          3,
          3,
          17
         ],
         "yaxis": "y"
        },
        {
         "alignmentgroup": "True",
         "hovertemplate": "unidade=UTI Adulto<br>ano=2023<br>periodo=%{x}<br>total=%{y}<extra></extra>",
         "legendgroup": "UTI Adulto",
         "marker": {
          "color": "#FF97FF",
          "pattern": {
           "shape": ""
          }
         },
         "name": "UTI Adulto",
         "offsetgroup": "UTI Adulto",
         "orientation": "v",
         "showlegend": false,
         "textposition": "auto",
         "type": "bar",
         "x": [
          "2023-01-01T00:00:00",
          "2023-02-01T00:00:00"
         ],
         "xaxis": "x2",
         "y": [
          43,
          24
         ],
         "yaxis": "y2"
        },
        {
         "alignmentgroup": "True",
         "hovertemplate": "unidade=Ala A Adulto<br>ano=2022<br>periodo=%{x}<br>total=%{y}<extra></extra>",
         "legendgroup": "Ala A Adulto",
         "marker": {
          "color": "#FECB52",
          "pattern": {
           "shape": ""
          }
         },
         "name": "Ala A Adulto",
         "offsetgroup": "Ala A Adulto",
         "orientation": "v",
         "showlegend": true,
         "textposition": "auto",
         "type": "bar",
         "x": [
          "2022-04-01T00:00:00",
          "2022-11-01T00:00:00",
          "2022-12-01T00:00:00"
         ],
         "xaxis": "x",
         "y": [
          2,
          1,
          11
         ],
         "yaxis": "y"
        },
        {
         "alignmentgroup": "True",
         "hovertemplate": "unidade=Ala A Adulto<br>ano=2023<br>periodo=%{x}<br>total=%{y}<extra></extra>",
         "legendgroup": "Ala A Adulto",
         "marker": {
          "color": "#FECB52",
          "pattern": {
           "shape": ""
          }
         },
         "name": "Ala A Adulto",
         "offsetgroup": "Ala A Adulto",
         "orientation": "v",
         "showlegend": false,
         "textposition": "auto",
         "type": "bar",
         "x": [
          "2023-01-01T00:00:00",
          "2023-02-01T00:00:00"
         ],
         "xaxis": "x2",
         "y": [
          5,
          4
         ],
         "yaxis": "y2"
        },
        {
         "alignmentgroup": "True",
         "hovertemplate": "unidade=Institucional<br>ano=2022<br>periodo=%{x}<br>total=%{y}<extra></extra>",
         "legendgroup": "Institucional",
         "marker": {
          "color": "#636efa",
          "pattern": {
           "shape": ""
          }
         },
         "name": "Institucional",
         "offsetgroup": "Institucional",
         "orientation": "v",
         "showlegend": true,
         "textposition": "auto",
         "type": "bar",
         "x": [
          "2022-04-01T00:00:00"
         ],
         "xaxis": "x",
         "y": [
          1
         ],
         "yaxis": "y"
        },
        {
         "alignmentgroup": "True",
         "hovertemplate": "unidade=Ala A Pediátrica<br>ano=2022<br>periodo=%{x}<br>total=%{y}<extra></extra>",
         "legendgroup": "Ala A Pediátrica",
         "marker": {
          "color": "#EF553B",
          "pattern": {
           "shape": ""
          }
         },
         "name": "Ala A Pediátrica",
         "offsetgroup": "Ala A Pediátrica",
         "orientation": "v",
         "showlegend": true,
         "textposition": "auto",
         "type": "bar",
         "x": [
          "2022-05-01T00:00:00",
          "2022-11-01T00:00:00",
          "2022-12-01T00:00:00"
         ],
         "xaxis": "x",
         "y": [
          1,
          3,
          3
         ],
         "yaxis": "y"
        },
        {
         "alignmentgroup": "True",
         "hovertemplate": "unidade=Ala A Pediátrica<br>ano=2023<br>periodo=%{x}<br>total=%{y}<extra></extra>",
         "legendgroup": "Ala A Pediátrica",
         "marker": {
          "color": "#EF553B",
          "pattern": {
           "shape": ""
          }
         },
         "name": "Ala A Pediátrica",
         "offsetgroup": "Ala A Pediátrica",
         "orientation": "v",
         "showlegend": false,
         "textposition": "auto",
         "type": "bar",
         "x": [
          "2023-01-01T00:00:00",
          "2023-02-01T00:00:00"
         ],
         "xaxis": "x2",
         "y": [
          4,
          5
         ],
         "yaxis": "y2"
        },
        {
         "alignmentgroup": "True",
         "hovertemplate": "unidade=Farmácia<br>ano=2022<br>periodo=%{x}<br>total=%{y}<extra></extra>",
         "legendgroup": "Farmácia",
         "marker": {
          "color": "#00cc96",
          "pattern": {
           "shape": ""
          }
         },
         "name": "Farmácia",
         "offsetgroup": "Farmácia",
         "orientation": "v",
         "showlegend": true,
         "textposition": "auto",
         "type": "bar",
         "x": [
          "2022-06-01T00:00:00",
          "2022-12-01T00:00:00"
         ],
         "xaxis": "x",
         "y": [
          1,
          2
         ],
         "yaxis": "y"
        },
        {
         "alignmentgroup": "True",
         "hovertemplate": "unidade=Farmácia<br>ano=2023<br>periodo=%{x}<br>total=%{y}<extra></extra>",
         "legendgroup": "Farmácia",
         "marker": {
          "color": "#00cc96",
          "pattern": {
           "shape": ""
          }
         },
         "name": "Farmácia",
         "offsetgroup": "Farmácia",
         "orientation": "v",
         "showlegend": false,
         "textposition": "auto",
         "type": "bar",
         "x": [
          "2023-01-01T00:00:00",
          "2023-02-01T00:00:00"
         ],
         "xaxis": "x2",
         "y": [
          4,
          2
         ],
         "yaxis": "y2"
        },
        {
         "alignmentgroup": "True",
         "hovertemplate": "unidade=Atendimento/Recepção<br>ano=2022<br>periodo=%{x}<br>total=%{y}<extra></extra>",
         "legendgroup": "Atendimento/Recepção",
         "marker": {
          "color": "#ab63fa",
          "pattern": {
           "shape": ""
          }
         },
         "name": "Atendimento/Recepção",
         "offsetgroup": "Atendimento/Recepção",
         "orientation": "v",
         "showlegend": true,
         "textposition": "auto",
         "type": "bar",
         "x": [
          "2022-07-01T00:00:00",
          "2022-12-01T00:00:00"
         ],
         "xaxis": "x",
         "y": [
          1,
          1
         ],
         "yaxis": "y"
        },
        {
         "alignmentgroup": "True",
         "hovertemplate": "unidade=Atendimento/Recepção<br>ano=2023<br>periodo=%{x}<br>total=%{y}<extra></extra>",
         "legendgroup": "Atendimento/Recepção",
         "marker": {
          "color": "#ab63fa",
          "pattern": {
           "shape": ""
          }
         },
         "name": "Atendimento/Recepção",
         "offsetgroup": "Atendimento/Recepção",
         "orientation": "v",
         "showlegend": false,
         "textposition": "auto",
         "type": "bar",
         "x": [
          "2023-01-01T00:00:00"
         ],
         "xaxis": "x2",
         "y": [
          4
         ],
         "yaxis": "y2"
        },
        {
         "alignmentgroup": "True",
         "hovertemplate": "unidade=Laboratório<br>ano=2022<br>periodo=%{x}<br>total=%{y}<extra></extra>",
         "legendgroup": "Laboratório",
         "marker": {
          "color": "#FFA15A",
          "pattern": {
           "shape": ""
          }
         },
         "name": "Laboratório",
         "offsetgroup": "Laboratório",
         "orientation": "v",
         "showlegend": true,
         "textposition": "auto",
         "type": "bar",
         "x": [
          "2022-12-01T00:00:00"
         ],
         "xaxis": "x",
         "y": [
          2
         ],
         "yaxis": "y"
        },
        {
         "alignmentgroup": "True",
         "hovertemplate": "unidade=Laboratório<br>ano=2023<br>periodo=%{x}<br>total=%{y}<extra></extra>",
         "legendgroup": "Laboratório",
         "marker": {
          "color": "#FFA15A",
          "pattern": {
           "shape": ""
          }
         },
         "name": "Laboratório",
         "offsetgroup": "Laboratório",
         "orientation": "v",
         "showlegend": false,
         "textposition": "auto",
         "type": "bar",
         "x": [
          "2023-01-01T00:00:00",
          "2023-02-01T00:00:00"
         ],
         "xaxis": "x2",
         "y": [
          4,
          6
         ],
         "yaxis": "y2"
        },
        {
         "alignmentgroup": "True",
         "hovertemplate": "unidade=Leito Dia<br>ano=2022<br>periodo=%{x}<br>total=%{y}<extra></extra>",
         "legendgroup": "Leito Dia",
         "marker": {
          "color": "#19d3f3",
          "pattern": {
           "shape": ""
          }
         },
         "name": "Leito Dia",
         "offsetgroup": "Leito Dia",
         "orientation": "v",
         "showlegend": true,
         "textposition": "auto",
         "type": "bar",
         "x": [
          "2022-12-01T00:00:00"
         ],
         "xaxis": "x",
         "y": [
          2
         ],
         "yaxis": "y"
        },
        {
         "alignmentgroup": "True",
         "hovertemplate": "unidade=Leito Dia<br>ano=2023<br>periodo=%{x}<br>total=%{y}<extra></extra>",
         "legendgroup": "Leito Dia",
         "marker": {
          "color": "#19d3f3",
          "pattern": {
           "shape": ""
          }
         },
         "name": "Leito Dia",
         "offsetgroup": "Leito Dia",
         "orientation": "v",
         "showlegend": false,
         "textposition": "auto",
         "type": "bar",
         "x": [
          "2023-01-01T00:00:00"
         ],
         "xaxis": "x2",
         "y": [
          1
         ],
         "yaxis": "y2"
        },
        {
         "alignmentgroup": "True",
         "hovertemplate": "unidade=Nir<br>ano=2022<br>periodo=%{x}<br>total=%{y}<extra></extra>",
         "legendgroup": "Nir",
         "marker": {
          "color": "#FF6692",
          "pattern": {
           "shape": ""
          }
         },
         "name": "Nir",
         "offsetgroup": "Nir",
         "orientation": "v",
         "showlegend": true,
         "textposition": "auto",
         "type": "bar",
         "x": [
          "2022-12-01T00:00:00"
         ],
         "xaxis": "x",
         "y": [
          1
         ],
         "yaxis": "y"
        },
        {
         "alignmentgroup": "True",
         "hovertemplate": "unidade=Unidade de Origem do Paciente<br>ano=2022<br>periodo=%{x}<br>total=%{y}<extra></extra>",
         "legendgroup": "Unidade de Origem do Paciente",
         "marker": {
          "color": "#B6E880",
          "pattern": {
           "shape": ""
          }
         },
         "name": "Unidade de Origem do Paciente",
         "offsetgroup": "Unidade de Origem do Paciente",
         "orientation": "v",
         "showlegend": true,
         "textposition": "auto",
         "type": "bar",
         "x": [
          "2022-12-01T00:00:00"
         ],
         "xaxis": "x",
         "y": [
          1
         ],
         "yaxis": "y"
        },
        {
         "alignmentgroup": "True",
         "hovertemplate": "unidade=Unidade de Origem do Paciente<br>ano=2023<br>periodo=%{x}<br>total=%{y}<extra></extra>",
         "legendgroup": "Unidade de Origem do Paciente",
         "marker": {
          "color": "#B6E880",
          "pattern": {
           "shape": ""
          }
         },
         "name": "Unidade de Origem do Paciente",
         "offsetgroup": "Unidade de Origem do Paciente",
         "orientation": "v",
         "showlegend": false,
         "textposition": "auto",
         "type": "bar",
         "x": [
          "2023-01-01T00:00:00"
         ],
         "xaxis": "x2",
         "y": [
          1
         ],
         "yaxis": "y2"
        },
        {
         "alignmentgroup": "True",
         "hovertemplate": "unidade=Ambulatório<br>ano=2023<br>periodo=%{x}<br>total=%{y}<extra></extra>",
         "legendgroup": "Ambulatório",
         "marker": {
          "color": "#FF97FF",
          "pattern": {
           "shape": ""
          }
         },
         "name": "Ambulatório",
         "offsetgroup": "Ambulatório",
         "orientation": "v",
         "showlegend": true,
         "textposition": "auto",
         "type": "bar",
         "x": [
          "2023-01-01T00:00:00"
         ],
         "xaxis": "x2",
         "y": [
          4
         ],
         "yaxis": "y2"
        },
        {
         "alignmentgroup": "True",
         "hovertemplate": "unidade=Centro Cirúrgico<br>ano=2023<br>periodo=%{x}<br>total=%{y}<extra></extra>",
         "legendgroup": "Centro Cirúrgico",
         "marker": {
          "color": "#FECB52",
          "pattern": {
           "shape": ""
          }
         },
         "name": "Centro Cirúrgico",
         "offsetgroup": "Centro Cirúrgico",
         "orientation": "v",
         "showlegend": true,
         "textposition": "auto",
         "type": "bar",
         "x": [
          "2023-01-01T00:00:00"
         ],
         "xaxis": "x2",
         "y": [
          3
         ],
         "yaxis": "y2"
        },
        {
         "alignmentgroup": "True",
         "hovertemplate": "unidade=Fisioterapia<br>ano=2023<br>periodo=%{x}<br>total=%{y}<extra></extra>",
         "legendgroup": "Fisioterapia",
         "marker": {
          "color": "#636efa",
          "pattern": {
           "shape": ""
          }
         },
         "name": "Fisioterapia",
         "offsetgroup": "Fisioterapia",
         "orientation": "v",
         "showlegend": true,
         "textposition": "auto",
         "type": "bar",
         "x": [
          "2023-01-01T00:00:00"
         ],
         "xaxis": "x2",
         "y": [
          2
         ],
         "yaxis": "y2"
        },
        {
         "alignmentgroup": "True",
         "hovertemplate": "unidade=Nutrição<br>ano=2023<br>periodo=%{x}<br>total=%{y}<extra></extra>",
         "legendgroup": "Nutrição",
         "marker": {
          "color": "#EF553B",
          "pattern": {
           "shape": ""
          }
         },
         "name": "Nutrição",
         "offsetgroup": "Nutrição",
         "orientation": "v",
         "showlegend": true,
         "textposition": "auto",
         "type": "bar",
         "x": [
          "2023-01-01T00:00:00",
          "2023-02-01T00:00:00"
         ],
         "xaxis": "x2",
         "y": [
          3,
          6
         ],
         "yaxis": "y2"
        },
        {
         "alignmentgroup": "True",
         "hovertemplate": "unidade=Serviço Social<br>ano=2023<br>periodo=%{x}<br>total=%{y}<extra></extra>",
         "legendgroup": "Serviço Social",
         "marker": {
          "color": "#00cc96",
          "pattern": {
           "shape": ""
          }
         },
         "name": "Serviço Social",
         "offsetgroup": "Serviço Social",
         "orientation": "v",
         "showlegend": true,
         "textposition": "auto",
         "type": "bar",
         "x": [
          "2023-01-01T00:00:00"
         ],
         "xaxis": "x2",
         "y": [
          1
         ],
         "yaxis": "y2"
        },
        {
         "alignmentgroup": "True",
         "hovertemplate": "unidade=Agência Transfusional<br>ano=2023<br>periodo=%{x}<br>total=%{y}<extra></extra>",
         "legendgroup": "Agência Transfusional",
         "marker": {
          "color": "#ab63fa",
          "pattern": {
           "shape": ""
          }
         },
         "name": "Agência Transfusional",
         "offsetgroup": "Agência Transfusional",
         "orientation": "v",
         "showlegend": true,
         "textposition": "auto",
         "type": "bar",
         "x": [
          "2023-02-01T00:00:00"
         ],
         "xaxis": "x2",
         "y": [
          1
         ],
         "yaxis": "y2"
        },
        {
         "alignmentgroup": "True",
         "hovertemplate": "unidade=Cme<br>ano=2023<br>periodo=%{x}<br>total=%{y}<extra></extra>",
         "legendgroup": "Cme",
         "marker": {
          "color": "#FFA15A",
          "pattern": {
           "shape": ""
          }
         },
         "name": "Cme",
         "offsetgroup": "Cme",
         "orientation": "v",
         "showlegend": true,
         "textposition": "auto",
         "type": "bar",
         "x": [
          "2023-02-01T00:00:00"
         ],
         "xaxis": "x2",
         "y": [
          1
         ],
         "yaxis": "y2"
        },
        {
         "alignmentgroup": "True",
         "hovertemplate": "unidade=Vigilância (Portaria)<br>ano=2023<br>periodo=%{x}<br>total=%{y}<extra></extra>",
         "legendgroup": "Vigilância (Portaria)",
         "marker": {
          "color": "#19d3f3",
          "pattern": {
           "shape": ""
          }
         },
         "name": "Vigilância (Portaria)",
         "offsetgroup": "Vigilância (Portaria)",
         "orientation": "v",
         "showlegend": true,
         "textposition": "auto",
         "type": "bar",
         "x": [
          "2023-02-01T00:00:00"
         ],
         "xaxis": "x2",
         "y": [
          1
         ],
         "yaxis": "y2"
        }
       ],
       "layout": {
        "annotations": [
         {
          "font": {},
          "showarrow": false,
          "text": "ano=2022",
          "x": 0.245,
          "xanchor": "center",
          "xref": "paper",
          "y": 1,
          "yanchor": "bottom",
          "yref": "paper"
         },
         {
          "font": {},
          "showarrow": false,
          "text": "ano=2023",
          "x": 0.755,
          "xanchor": "center",
          "xref": "paper",
          "y": 1,
          "yanchor": "bottom",
          "yref": "paper"
         }
        ],
        "autosize": true,
        "barmode": "group",
        "legend": {
         "title": {
          "text": "unidade"
         },
         "tracegroupgap": 0
        },
        "margin": {
         "t": 60
        },
        "template": {
         "data": {
          "bar": [
           {
            "error_x": {
             "color": "#2a3f5f"
            },
            "error_y": {
             "color": "#2a3f5f"
            },
            "marker": {
             "line": {
              "color": "#E5ECF6",
              "width": 0.5
             },
             "pattern": {
              "fillmode": "overlay",
              "size": 10,
              "solidity": 0.2
             }
            },
            "type": "bar"
           }
          ],
          "barpolar": [
           {
            "marker": {
             "line": {
              "color": "#E5ECF6",
              "width": 0.5
             },
             "pattern": {
              "fillmode": "overlay",
              "size": 10,
              "solidity": 0.2
             }
            },
            "type": "barpolar"
           }
          ],
          "carpet": [
           {
            "aaxis": {
             "endlinecolor": "#2a3f5f",
             "gridcolor": "white",
             "linecolor": "white",
             "minorgridcolor": "white",
             "startlinecolor": "#2a3f5f"
            },
            "baxis": {
             "endlinecolor": "#2a3f5f",
             "gridcolor": "white",
             "linecolor": "white",
             "minorgridcolor": "white",
             "startlinecolor": "#2a3f5f"
            },
            "type": "carpet"
           }
          ],
          "choropleth": [
           {
            "colorbar": {
             "outlinewidth": 0,
             "ticks": ""
            },
            "type": "choropleth"
           }
          ],
          "contour": [
           {
            "colorbar": {
             "outlinewidth": 0,
             "ticks": ""
            },
            "colorscale": [
             [
              0,
              "#0d0887"
             ],
             [
              0.1111111111111111,
              "#46039f"
             ],
             [
              0.2222222222222222,
              "#7201a8"
             ],
             [
              0.3333333333333333,
              "#9c179e"
             ],
             [
              0.4444444444444444,
              "#bd3786"
             ],
             [
              0.5555555555555556,
              "#d8576b"
             ],
             [
              0.6666666666666666,
              "#ed7953"
             ],
             [
              0.7777777777777778,
              "#fb9f3a"
             ],
             [
              0.8888888888888888,
              "#fdca26"
             ],
             [
              1,
              "#f0f921"
             ]
            ],
            "type": "contour"
           }
          ],
          "contourcarpet": [
           {
            "colorbar": {
             "outlinewidth": 0,
             "ticks": ""
            },
            "type": "contourcarpet"
           }
          ],
          "heatmap": [
           {
            "colorbar": {
             "outlinewidth": 0,
             "ticks": ""
            },
            "colorscale": [
             [
              0,
              "#0d0887"
             ],
             [
              0.1111111111111111,
              "#46039f"
             ],
             [
              0.2222222222222222,
              "#7201a8"
             ],
             [
              0.3333333333333333,
              "#9c179e"
             ],
             [
              0.4444444444444444,
              "#bd3786"
             ],
             [
              0.5555555555555556,
              "#d8576b"
             ],
             [
              0.6666666666666666,
              "#ed7953"
             ],
             [
              0.7777777777777778,
              "#fb9f3a"
             ],
             [
              0.8888888888888888,
              "#fdca26"
             ],
             [
              1,
              "#f0f921"
             ]
            ],
            "type": "heatmap"
           }
          ],
          "heatmapgl": [
           {
            "colorbar": {
             "outlinewidth": 0,
             "ticks": ""
            },
            "colorscale": [
             [
              0,
              "#0d0887"
             ],
             [
              0.1111111111111111,
              "#46039f"
             ],
             [
              0.2222222222222222,
              "#7201a8"
             ],
             [
              0.3333333333333333,
              "#9c179e"
             ],
             [
              0.4444444444444444,
              "#bd3786"
             ],
             [
              0.5555555555555556,
              "#d8576b"
             ],
             [
              0.6666666666666666,
              "#ed7953"
             ],
             [
              0.7777777777777778,
              "#fb9f3a"
             ],
             [
              0.8888888888888888,
              "#fdca26"
             ],
             [
              1,
              "#f0f921"
             ]
            ],
            "type": "heatmapgl"
           }
          ],
          "histogram": [
           {
            "marker": {
             "pattern": {
              "fillmode": "overlay",
              "size": 10,
              "solidity": 0.2
             }
            },
            "type": "histogram"
           }
          ],
          "histogram2d": [
           {
            "colorbar": {
             "outlinewidth": 0,
             "ticks": ""
            },
            "colorscale": [
             [
              0,
              "#0d0887"
             ],
             [
              0.1111111111111111,
              "#46039f"
             ],
             [
              0.2222222222222222,
              "#7201a8"
             ],
             [
              0.3333333333333333,
              "#9c179e"
             ],
             [
              0.4444444444444444,
              "#bd3786"
             ],
             [
              0.5555555555555556,
              "#d8576b"
             ],
             [
              0.6666666666666666,
              "#ed7953"
             ],
             [
              0.7777777777777778,
              "#fb9f3a"
             ],
             [
              0.8888888888888888,
              "#fdca26"
             ],
             [
              1,
              "#f0f921"
             ]
            ],
            "type": "histogram2d"
           }
          ],
          "histogram2dcontour": [
           {
            "colorbar": {
             "outlinewidth": 0,
             "ticks": ""
            },
            "colorscale": [
             [
              0,
              "#0d0887"
             ],
             [
              0.1111111111111111,
              "#46039f"
             ],
             [
              0.2222222222222222,
              "#7201a8"
             ],
             [
              0.3333333333333333,
              "#9c179e"
             ],
             [
              0.4444444444444444,
              "#bd3786"
             ],
             [
              0.5555555555555556,
              "#d8576b"
             ],
             [
              0.6666666666666666,
              "#ed7953"
             ],
             [
              0.7777777777777778,
              "#fb9f3a"
             ],
             [
              0.8888888888888888,
              "#fdca26"
             ],
             [
              1,
              "#f0f921"
             ]
            ],
            "type": "histogram2dcontour"
           }
          ],
          "mesh3d": [
           {
            "colorbar": {
             "outlinewidth": 0,
             "ticks": ""
            },
            "type": "mesh3d"
           }
          ],
          "parcoords": [
           {
            "line": {
             "colorbar": {
              "outlinewidth": 0,
              "ticks": ""
             }
            },
            "type": "parcoords"
           }
          ],
          "pie": [
           {
            "automargin": true,
            "type": "pie"
           }
          ],
          "scatter": [
           {
            "fillpattern": {
             "fillmode": "overlay",
             "size": 10,
             "solidity": 0.2
            },
            "type": "scatter"
           }
          ],
          "scatter3d": [
           {
            "line": {
             "colorbar": {
              "outlinewidth": 0,
              "ticks": ""
             }
            },
            "marker": {
             "colorbar": {
              "outlinewidth": 0,
              "ticks": ""
             }
            },
            "type": "scatter3d"
           }
          ],
          "scattercarpet": [
           {
            "marker": {
             "colorbar": {
              "outlinewidth": 0,
              "ticks": ""
             }
            },
            "type": "scattercarpet"
           }
          ],
          "scattergeo": [
           {
            "marker": {
             "colorbar": {
              "outlinewidth": 0,
              "ticks": ""
             }
            },
            "type": "scattergeo"
           }
          ],
          "scattergl": [
           {
            "marker": {
             "colorbar": {
              "outlinewidth": 0,
              "ticks": ""
             }
            },
            "type": "scattergl"
           }
          ],
          "scattermapbox": [
           {
            "marker": {
             "colorbar": {
              "outlinewidth": 0,
              "ticks": ""
             }
            },
            "type": "scattermapbox"
           }
          ],
          "scatterpolar": [
           {
            "marker": {
             "colorbar": {
              "outlinewidth": 0,
              "ticks": ""
             }
            },
            "type": "scatterpolar"
           }
          ],
          "scatterpolargl": [
           {
            "marker": {
             "colorbar": {
              "outlinewidth": 0,
              "ticks": ""
             }
            },
            "type": "scatterpolargl"
           }
          ],
          "scatterternary": [
           {
            "marker": {
             "colorbar": {
              "outlinewidth": 0,
              "ticks": ""
             }
            },
            "type": "scatterternary"
           }
          ],
          "surface": [
           {
            "colorbar": {
             "outlinewidth": 0,
             "ticks": ""
            },
            "colorscale": [
             [
              0,
              "#0d0887"
             ],
             [
              0.1111111111111111,
              "#46039f"
             ],
             [
              0.2222222222222222,
              "#7201a8"
             ],
             [
              0.3333333333333333,
              "#9c179e"
             ],
             [
              0.4444444444444444,
              "#bd3786"
             ],
             [
              0.5555555555555556,
              "#d8576b"
             ],
             [
              0.6666666666666666,
              "#ed7953"
             ],
             [
              0.7777777777777778,
              "#fb9f3a"
             ],
             [
              0.8888888888888888,
              "#fdca26"
             ],
             [
              1,
              "#f0f921"
             ]
            ],
            "type": "surface"
           }
          ],
          "table": [
           {
            "cells": {
             "fill": {
              "color": "#EBF0F8"
             },
             "line": {
              "color": "white"
             }
            },
            "header": {
             "fill": {
              "color": "#C8D4E3"
             },
             "line": {
              "color": "white"
             }
            },
            "type": "table"
           }
          ]
         },
         "layout": {
          "annotationdefaults": {
           "arrowcolor": "#2a3f5f",
           "arrowhead": 0,
           "arrowwidth": 1
          },
          "autotypenumbers": "strict",
          "coloraxis": {
           "colorbar": {
            "outlinewidth": 0,
            "ticks": ""
           }
          },
          "colorscale": {
           "diverging": [
            [
             0,
             "#8e0152"
            ],
            [
             0.1,
             "#c51b7d"
            ],
            [
             0.2,
             "#de77ae"
            ],
            [
             0.3,
             "#f1b6da"
            ],
            [
             0.4,
             "#fde0ef"
            ],
            [
             0.5,
             "#f7f7f7"
            ],
            [
             0.6,
             "#e6f5d0"
            ],
            [
             0.7,
             "#b8e186"
            ],
            [
             0.8,
             "#7fbc41"
            ],
            [
             0.9,
             "#4d9221"
            ],
            [
             1,
             "#276419"
            ]
           ],
           "sequential": [
            [
             0,
             "#0d0887"
            ],
            [
             0.1111111111111111,
             "#46039f"
            ],
            [
             0.2222222222222222,
             "#7201a8"
            ],
            [
             0.3333333333333333,
             "#9c179e"
            ],
            [
             0.4444444444444444,
             "#bd3786"
            ],
            [
             0.5555555555555556,
             "#d8576b"
            ],
            [
             0.6666666666666666,
             "#ed7953"
            ],
            [
             0.7777777777777778,
             "#fb9f3a"
            ],
            [
             0.8888888888888888,
             "#fdca26"
            ],
            [
             1,
             "#f0f921"
            ]
           ],
           "sequentialminus": [
            [
             0,
             "#0d0887"
            ],
            [
             0.1111111111111111,
             "#46039f"
            ],
            [
             0.2222222222222222,
             "#7201a8"
            ],
            [
             0.3333333333333333,
             "#9c179e"
            ],
            [
             0.4444444444444444,
             "#bd3786"
            ],
            [
             0.5555555555555556,
             "#d8576b"
            ],
            [
             0.6666666666666666,
             "#ed7953"
            ],
            [
             0.7777777777777778,
             "#fb9f3a"
            ],
            [
             0.8888888888888888,
             "#fdca26"
            ],
            [
             1,
             "#f0f921"
            ]
           ]
          },
          "colorway": [
           "#636efa",
           "#EF553B",
           "#00cc96",
           "#ab63fa",
           "#FFA15A",
           "#19d3f3",
           "#FF6692",
           "#B6E880",
           "#FF97FF",
           "#FECB52"
          ],
          "font": {
           "color": "#2a3f5f"
          },
          "geo": {
           "bgcolor": "white",
           "lakecolor": "white",
           "landcolor": "#E5ECF6",
           "showlakes": true,
           "showland": true,
           "subunitcolor": "white"
          },
          "hoverlabel": {
           "align": "left"
          },
          "hovermode": "closest",
          "mapbox": {
           "style": "light"
          },
          "paper_bgcolor": "white",
          "plot_bgcolor": "#E5ECF6",
          "polar": {
           "angularaxis": {
            "gridcolor": "white",
            "linecolor": "white",
            "ticks": ""
           },
           "bgcolor": "#E5ECF6",
           "radialaxis": {
            "gridcolor": "white",
            "linecolor": "white",
            "ticks": ""
           }
          },
          "scene": {
           "xaxis": {
            "backgroundcolor": "#E5ECF6",
            "gridcolor": "white",
            "gridwidth": 2,
            "linecolor": "white",
            "showbackground": true,
            "ticks": "",
            "zerolinecolor": "white"
           },
           "yaxis": {
            "backgroundcolor": "#E5ECF6",
            "gridcolor": "white",
            "gridwidth": 2,
            "linecolor": "white",
            "showbackground": true,
            "ticks": "",
            "zerolinecolor": "white"
           },
           "zaxis": {
            "backgroundcolor": "#E5ECF6",
            "gridcolor": "white",
            "gridwidth": 2,
            "linecolor": "white",
            "showbackground": true,
            "ticks": "",
            "zerolinecolor": "white"
           }
          },
          "shapedefaults": {
           "line": {
            "color": "#2a3f5f"
           }
          },
          "ternary": {
           "aaxis": {
            "gridcolor": "white",
            "linecolor": "white",
            "ticks": ""
           },
           "baxis": {
            "gridcolor": "white",
            "linecolor": "white",
            "ticks": ""
           },
           "bgcolor": "#E5ECF6",
           "caxis": {
            "gridcolor": "white",
            "linecolor": "white",
            "ticks": ""
           }
          },
          "title": {
           "x": 0.05
          },
          "xaxis": {
           "automargin": true,
           "gridcolor": "white",
           "linecolor": "white",
           "ticks": "",
           "title": {
            "standoff": 15
           },
           "zerolinecolor": "white",
           "zerolinewidth": 2
          },
          "yaxis": {
           "automargin": true,
           "gridcolor": "white",
           "linecolor": "white",
           "ticks": "",
           "title": {
            "standoff": 15
           },
           "zerolinecolor": "white",
           "zerolinewidth": 2
          }
         }
        },
        "xaxis": {
         "anchor": "y",
         "autorange": true,
         "domain": [
          0,
          0.49
         ],
         "range": [
          "2021-12-17",
          "2023-10-16 12:00"
         ],
         "title": {
          "text": "periodo"
         },
         "type": "date"
        },
        "xaxis2": {
         "anchor": "y2",
         "autorange": true,
         "domain": [
          0.51,
          1
         ],
         "matches": "x",
         "range": [
          "2021-12-17",
          "2023-10-16 12:00"
         ],
         "title": {
          "text": "periodo"
         },
         "type": "date"
        },
        "yaxis": {
         "anchor": "x",
         "autorange": true,
         "domain": [
          0,
          1
         ],
         "range": [
          0,
          46.31578947368421
         ],
         "title": {
          "text": "total"
         },
         "type": "linear"
        },
        "yaxis2": {
         "anchor": "x2",
         "autorange": true,
         "domain": [
          0,
          1
         ],
         "matches": "y",
         "range": [
          0,
          46.31578947368421
         ],
         "showticklabels": false,
         "type": "linear"
        }
       }
      },
      "image/png": "[encoded data removed]",
      "text/html": [
       "<div>                            <div id=\"51932425-0ed9-4561-8efe-3ca794a0c079\" class=\"plotly-graph-div\" style=\"height:525px; width:100%;\"></div>            <script type=\"text/javascript\">                require([\"plotly\"], function(Plotly) {                    window.PLOTLYENV=window.PLOTLYENV || {};                                    if (document.getElementById(\"51932425-0ed9-4561-8efe-3ca794a0c079\")) {                    Plotly.newPlot(                        \"51932425-0ed9-4561-8efe-3ca794a0c079\",                        [{\"alignmentgroup\":\"True\",\"hovertemplate\":\"unidade=Ala C<br>ano=2022<br>periodo=%{x}<br>total=%{y}<extra></extra>\",\"legendgroup\":\"Ala C\",\"marker\":{\"color\":\"#636efa\",\"pattern\":{\"shape\":\"\"}},\"name\":\"Ala C\",\"offsetgroup\":\"Ala C\",\"orientation\":\"v\",\"showlegend\":true,\"textposition\":\"auto\",\"x\":[\"2022-01-01T00:00:00\",\"2022-02-01T00:00:00\",\"2022-04-01T00:00:00\",\"2022-06-01T00:00:00\",\"2022-07-01T00:00:00\",\"2022-09-01T00:00:00\",\"2022-10-01T00:00:00\",\"2022-11-01T00:00:00\",\"2022-12-01T00:00:00\"],\"xaxis\":\"x\",\"y\":[3,1,1,1,4,1,1,2,16],\"yaxis\":\"y\",\"type\":\"bar\"},{\"alignmentgroup\":\"True\",\"hovertemplate\":\"unidade=Ala C<br>ano=2023<br>periodo=%{x}<br>total=%{y}<extra></extra>\",\"legendgroup\":\"Ala C\",\"marker\":{\"color\":\"#636efa\",\"pattern\":{\"shape\":\"\"}},\"name\":\"Ala C\",\"offsetgroup\":\"Ala C\",\"orientation\":\"v\",\"showlegend\":false,\"textposition\":\"auto\",\"x\":[\"2023-01-01T00:00:00\",\"2023-02-01T00:00:00\",\"2023-10-01T00:00:00\"],\"xaxis\":\"x2\",\"y\":[44,22,1],\"yaxis\":\"y2\",\"type\":\"bar\"},{\"alignmentgroup\":\"True\",\"hovertemplate\":\"unidade=Ala D<br>ano=2022<br>periodo=%{x}<br>total=%{y}<extra></extra>\",\"legendgroup\":\"Ala D\",\"marker\":{\"color\":\"#EF553B\",\"pattern\":{\"shape\":\"\"}},\"name\":\"Ala D\",\"offsetgroup\":\"Ala D\",\"orientation\":\"v\",\"showlegend\":true,\"textposition\":\"auto\",\"x\":[\"2022-01-01T00:00:00\",\"2022-02-01T00:00:00\",\"2022-07-01T00:00:00\",\"2022-11-01T00:00:00\",\"2022-12-01T00:00:00\"],\"xaxis\":\"x\",\"y\":[1,1,3,2,8],\"yaxis\":\"y\",\"type\":\"bar\"},{\"alignmentgroup\":\"True\",\"hovertemplate\":\"unidade=Ala D<br>ano=2023<br>periodo=%{x}<br>total=%{y}<extra></extra>\",\"legendgroup\":\"Ala D\",\"marker\":{\"color\":\"#EF553B\",\"pattern\":{\"shape\":\"\"}},\"name\":\"Ala D\",\"offsetgroup\":\"Ala D\",\"orientation\":\"v\",\"showlegend\":false,\"textposition\":\"auto\",\"x\":[\"2023-01-01T00:00:00\",\"2023-02-01T00:00:00\"],\"xaxis\":\"x2\",\"y\":[7,2],\"yaxis\":\"y2\",\"type\":\"bar\"},{\"alignmentgroup\":\"True\",\"hovertemplate\":\"unidade=Atendimento<br>ano=2022<br>periodo=%{x}<br>total=%{y}<extra></extra>\",\"legendgroup\":\"Atendimento\",\"marker\":{\"color\":\"#00cc96\",\"pattern\":{\"shape\":\"\"}},\"name\":\"Atendimento\",\"offsetgroup\":\"Atendimento\",\"orientation\":\"v\",\"showlegend\":true,\"textposition\":\"auto\",\"x\":[\"2022-01-01T00:00:00\",\"2022-10-01T00:00:00\",\"2022-12-01T00:00:00\"],\"xaxis\":\"x\",\"y\":[1,1,2],\"yaxis\":\"y\",\"type\":\"bar\"},{\"alignmentgroup\":\"True\",\"hovertemplate\":\"unidade=Atendimento<br>ano=2023<br>periodo=%{x}<br>total=%{y}<extra></extra>\",\"legendgroup\":\"Atendimento\",\"marker\":{\"color\":\"#00cc96\",\"pattern\":{\"shape\":\"\"}},\"name\":\"Atendimento\",\"offsetgroup\":\"Atendimento\",\"orientation\":\"v\",\"showlegend\":false,\"textposition\":\"auto\",\"x\":[\"2023-01-01T00:00:00\",\"2023-02-01T00:00:00\"],\"xaxis\":\"x2\",\"y\":[1,3],\"yaxis\":\"y2\",\"type\":\"bar\"},{\"alignmentgroup\":\"True\",\"hovertemplate\":\"unidade=UTI Covid<br>ano=2022<br>periodo=%{x}<br>total=%{y}<extra></extra>\",\"legendgroup\":\"UTI Covid\",\"marker\":{\"color\":\"#ab63fa\",\"pattern\":{\"shape\":\"\"}},\"name\":\"UTI Covid\",\"offsetgroup\":\"UTI Covid\",\"orientation\":\"v\",\"showlegend\":true,\"textposition\":\"auto\",\"x\":[\"2022-01-01T00:00:00\",\"2022-06-01T00:00:00\",\"2022-07-01T00:00:00\",\"2022-09-01T00:00:00\",\"2022-10-01T00:00:00\",\"2022-12-01T00:00:00\"],\"xaxis\":\"x\",\"y\":[1,1,2,2,2,12],\"yaxis\":\"y\",\"type\":\"bar\"},{\"alignmentgroup\":\"True\",\"hovertemplate\":\"unidade=UTI Covid<br>ano=2023<br>periodo=%{x}<br>total=%{y}<extra></extra>\",\"legendgroup\":\"UTI Covid\",\"marker\":{\"color\":\"#ab63fa\",\"pattern\":{\"shape\":\"\"}},\"name\":\"UTI Covid\",\"offsetgroup\":\"UTI Covid\",\"orientation\":\"v\",\"showlegend\":false,\"textposition\":\"auto\",\"x\":[\"2023-01-01T00:00:00\",\"2023-02-01T00:00:00\"],\"xaxis\":\"x2\",\"y\":[12,9],\"yaxis\":\"y2\",\"type\":\"bar\"},{\"alignmentgroup\":\"True\",\"hovertemplate\":\"unidade=UTI Pedi\\u00e1trica<br>ano=2022<br>periodo=%{x}<br>total=%{y}<extra></extra>\",\"legendgroup\":\"UTI Pedi\\u00e1trica\",\"marker\":{\"color\":\"#FFA15A\",\"pattern\":{\"shape\":\"\"}},\"name\":\"UTI Pedi\\u00e1trica\",\"offsetgroup\":\"UTI Pedi\\u00e1trica\",\"orientation\":\"v\",\"showlegend\":true,\"textposition\":\"auto\",\"x\":[\"2022-01-01T00:00:00\",\"2022-02-01T00:00:00\",\"2022-12-01T00:00:00\"],\"xaxis\":\"x\",\"y\":[1,2,6],\"yaxis\":\"y\",\"type\":\"bar\"},{\"alignmentgroup\":\"True\",\"hovertemplate\":\"unidade=UTI Pedi\\u00e1trica<br>ano=2023<br>periodo=%{x}<br>total=%{y}<extra></extra>\",\"legendgroup\":\"UTI Pedi\\u00e1trica\",\"marker\":{\"color\":\"#FFA15A\",\"pattern\":{\"shape\":\"\"}},\"name\":\"UTI Pedi\\u00e1trica\",\"offsetgroup\":\"UTI Pedi\\u00e1trica\",\"orientation\":\"v\",\"showlegend\":false,\"textposition\":\"auto\",\"x\":[\"2023-01-01T00:00:00\",\"2023-02-01T00:00:00\"],\"xaxis\":\"x2\",\"y\":[3,5],\"yaxis\":\"y2\",\"type\":\"bar\"},{\"alignmentgroup\":\"True\",\"hovertemplate\":\"unidade=Ala B<br>ano=2022<br>periodo=%{x}<br>total=%{y}<extra></extra>\",\"legendgroup\":\"Ala B\",\"marker\":{\"color\":\"#19d3f3\",\"pattern\":{\"shape\":\"\"}},\"name\":\"Ala B\",\"offsetgroup\":\"Ala B\",\"orientation\":\"v\",\"showlegend\":true,\"textposition\":\"auto\",\"x\":[\"2022-02-01T00:00:00\",\"2022-04-01T00:00:00\",\"2022-08-01T00:00:00\",\"2022-10-01T00:00:00\",\"2022-12-01T00:00:00\"],\"xaxis\":\"x\",\"y\":[2,1,3,2,9],\"yaxis\":\"y\",\"type\":\"bar\"},{\"alignmentgroup\":\"True\",\"hovertemplate\":\"unidade=Ala B<br>ano=2023<br>periodo=%{x}<br>total=%{y}<extra></extra>\",\"legendgroup\":\"Ala B\",\"marker\":{\"color\":\"#19d3f3\",\"pattern\":{\"shape\":\"\"}},\"name\":\"Ala B\",\"offsetgroup\":\"Ala B\",\"orientation\":\"v\",\"showlegend\":false,\"textposition\":\"auto\",\"x\":[\"2023-01-01T00:00:00\",\"2023-02-01T00:00:00\"],\"xaxis\":\"x2\",\"y\":[24,10],\"yaxis\":\"y2\",\"type\":\"bar\"},{\"alignmentgroup\":\"True\",\"hovertemplate\":\"unidade=Ala E<br>ano=2022<br>periodo=%{x}<br>total=%{y}<extra></extra>\",\"legendgroup\":\"Ala E\",\"marker\":{\"color\":\"#FF6692\",\"pattern\":{\"shape\":\"\"}},\"name\":\"Ala E\",\"offsetgroup\":\"Ala E\",\"orientation\":\"v\",\"showlegend\":true,\"textposition\":\"auto\",\"x\":[\"2022-02-01T00:00:00\",\"2022-04-01T00:00:00\",\"2022-11-01T00:00:00\",\"2022-12-01T00:00:00\"],\"xaxis\":\"x\",\"y\":[1,1,2,7],\"yaxis\":\"y\",\"type\":\"bar\"},{\"alignmentgroup\":\"True\",\"hovertemplate\":\"unidade=Ala E<br>ano=2023<br>periodo=%{x}<br>total=%{y}<extra></extra>\",\"legendgroup\":\"Ala E\",\"marker\":{\"color\":\"#FF6692\",\"pattern\":{\"shape\":\"\"}},\"name\":\"Ala E\",\"offsetgroup\":\"Ala E\",\"orientation\":\"v\",\"showlegend\":false,\"textposition\":\"auto\",\"x\":[\"2023-01-01T00:00:00\",\"2023-02-01T00:00:00\"],\"xaxis\":\"x2\",\"y\":[4,4],\"yaxis\":\"y2\",\"type\":\"bar\"},{\"alignmentgroup\":\"True\",\"hovertemplate\":\"unidade=Emerg\\u00eancia<br>ano=2022<br>periodo=%{x}<br>total=%{y}<extra></extra>\",\"legendgroup\":\"Emerg\\u00eancia\",\"marker\":{\"color\":\"#B6E880\",\"pattern\":{\"shape\":\"\"}},\"name\":\"Emerg\\u00eancia\",\"offsetgroup\":\"Emerg\\u00eancia\",\"orientation\":\"v\",\"showlegend\":true,\"textposition\":\"auto\",\"x\":[\"2022-02-01T00:00:00\",\"2022-05-01T00:00:00\",\"2022-08-01T00:00:00\",\"2022-10-01T00:00:00\",\"2022-12-01T00:00:00\"],\"xaxis\":\"x\",\"y\":[1,2,1,2,4],\"yaxis\":\"y\",\"type\":\"bar\"},{\"alignmentgroup\":\"True\",\"hovertemplate\":\"unidade=Emerg\\u00eancia<br>ano=2023<br>periodo=%{x}<br>total=%{y}<extra></extra>\",\"legendgroup\":\"Emerg\\u00eancia\",\"marker\":{\"color\":\"#B6E880\",\"pattern\":{\"shape\":\"\"}},\"name\":\"Emerg\\u00eancia\",\"offsetgroup\":\"Emerg\\u00eancia\",\"orientation\":\"v\",\"showlegend\":false,\"textposition\":\"auto\",\"x\":[\"2023-01-01T00:00:00\",\"2023-02-01T00:00:00\"],\"xaxis\":\"x2\",\"y\":[17,14],\"yaxis\":\"y2\",\"type\":\"bar\"},{\"alignmentgroup\":\"True\",\"hovertemplate\":\"unidade=UTI Adulto<br>ano=2022<br>periodo=%{x}<br>total=%{y}<extra></extra>\",\"legendgroup\":\"UTI Adulto\",\"marker\":{\"color\":\"#FF97FF\",\"pattern\":{\"shape\":\"\"}},\"name\":\"UTI Adulto\",\"offsetgroup\":\"UTI Adulto\",\"orientation\":\"v\",\"showlegend\":true,\"textposition\":\"auto\",\"x\":[\"2022-02-01T00:00:00\",\"2022-04-01T00:00:00\",\"2022-05-01T00:00:00\",\"2022-07-01T00:00:00\",\"2022-08-01T00:00:00\",\"2022-09-01T00:00:00\",\"2022-12-01T00:00:00\"],\"xaxis\":\"x\",\"y\":[1,1,1,1,3,3,17],\"yaxis\":\"y\",\"type\":\"bar\"},{\"alignmentgroup\":\"True\",\"hovertemplate\":\"unidade=UTI Adulto<br>ano=2023<br>periodo=%{x}<br>total=%{y}<extra></extra>\",\"legendgroup\":\"UTI Adulto\",\"marker\":{\"color\":\"#FF97FF\",\"pattern\":{\"shape\":\"\"}},\"name\":\"UTI Adulto\",\"offsetgroup\":\"UTI Adulto\",\"orientation\":\"v\",\"showlegend\":false,\"textposition\":\"auto\",\"x\":[\"2023-01-01T00:00:00\",\"2023-02-01T00:00:00\"],\"xaxis\":\"x2\",\"y\":[43,24],\"yaxis\":\"y2\",\"type\":\"bar\"},{\"alignmentgroup\":\"True\",\"hovertemplate\":\"unidade=Ala A Adulto<br>ano=2022<br>periodo=%{x}<br>total=%{y}<extra></extra>\",\"legendgroup\":\"Ala A Adulto\",\"marker\":{\"color\":\"#FECB52\",\"pattern\":{\"shape\":\"\"}},\"name\":\"Ala A Adulto\",\"offsetgroup\":\"Ala A Adulto\",\"orientation\":\"v\",\"showlegend\":true,\"textposition\":\"auto\",\"x\":[\"2022-04-01T00:00:00\",\"2022-11-01T00:00:00\",\"2022-12-01T00:00:00\"],\"xaxis\":\"x\",\"y\":[2,1,11],\"yaxis\":\"y\",\"type\":\"bar\"},{\"alignmentgroup\":\"True\",\"hovertemplate\":\"unidade=Ala A Adulto<br>ano=2023<br>periodo=%{x}<br>total=%{y}<extra></extra>\",\"legendgroup\":\"Ala A Adulto\",\"marker\":{\"color\":\"#FECB52\",\"pattern\":{\"shape\":\"\"}},\"name\":\"Ala A Adulto\",\"offsetgroup\":\"Ala A Adulto\",\"orientation\":\"v\",\"showlegend\":false,\"textposition\":\"auto\",\"x\":[\"2023-01-01T00:00:00\",\"2023-02-01T00:00:00\"],\"xaxis\":\"x2\",\"y\":[5,4],\"yaxis\":\"y2\",\"type\":\"bar\"},{\"alignmentgroup\":\"True\",\"hovertemplate\":\"unidade=Institucional<br>ano=2022<br>periodo=%{x}<br>total=%{y}<extra></extra>\",\"legendgroup\":\"Institucional\",\"marker\":{\"color\":\"#636efa\",\"pattern\":{\"shape\":\"\"}},\"name\":\"Institucional\",\"offsetgroup\":\"Institucional\",\"orientation\":\"v\",\"showlegend\":true,\"textposition\":\"auto\",\"x\":[\"2022-04-01T00:00:00\"],\"xaxis\":\"x\",\"y\":[1],\"yaxis\":\"y\",\"type\":\"bar\"},{\"alignmentgroup\":\"True\",\"hovertemplate\":\"unidade=Ala A Pedi\\u00e1trica<br>ano=2022<br>periodo=%{x}<br>total=%{y}<extra></extra>\",\"legendgroup\":\"Ala A Pedi\\u00e1trica\",\"marker\":{\"color\":\"#EF553B\",\"pattern\":{\"shape\":\"\"}},\"name\":\"Ala A Pedi\\u00e1trica\",\"offsetgroup\":\"Ala A Pedi\\u00e1trica\",\"orientation\":\"v\",\"showlegend\":true,\"textposition\":\"auto\",\"x\":[\"2022-05-01T00:00:00\",\"2022-11-01T00:00:00\",\"2022-12-01T00:00:00\"],\"xaxis\":\"x\",\"y\":[1,3,3],\"yaxis\":\"y\",\"type\":\"bar\"},{\"alignmentgroup\":\"True\",\"hovertemplate\":\"unidade=Ala A Pedi\\u00e1trica<br>ano=2023<br>periodo=%{x}<br>total=%{y}<extra></extra>\",\"legendgroup\":\"Ala A Pedi\\u00e1trica\",\"marker\":{\"color\":\"#EF553B\",\"pattern\":{\"shape\":\"\"}},\"name\":\"Ala A Pedi\\u00e1trica\",\"offsetgroup\":\"Ala A Pedi\\u00e1trica\",\"orientation\":\"v\",\"showlegend\":false,\"textposition\":\"auto\",\"x\":[\"2023-01-01T00:00:00\",\"2023-02-01T00:00:00\"],\"xaxis\":\"x2\",\"y\":[4,5],\"yaxis\":\"y2\",\"type\":\"bar\"},{\"alignmentgroup\":\"True\",\"hovertemplate\":\"unidade=Farm\\u00e1cia<br>ano=2022<br>periodo=%{x}<br>total=%{y}<extra></extra>\",\"legendgroup\":\"Farm\\u00e1cia\",\"marker\":{\"color\":\"#00cc96\",\"pattern\":{\"shape\":\"\"}},\"name\":\"Farm\\u00e1cia\",\"offsetgroup\":\"Farm\\u00e1cia\",\"orientation\":\"v\",\"showlegend\":true,\"textposition\":\"auto\",\"x\":[\"2022-06-01T00:00:00\",\"2022-12-01T00:00:00\"],\"xaxis\":\"x\",\"y\":[1,2],\"yaxis\":\"y\",\"type\":\"bar\"},{\"alignmentgroup\":\"True\",\"hovertemplate\":\"unidade=Farm\\u00e1cia<br>ano=2023<br>periodo=%{x}<br>total=%{y}<extra></extra>\",\"legendgroup\":\"Farm\\u00e1cia\",\"marker\":{\"color\":\"#00cc96\",\"pattern\":{\"shape\":\"\"}},\"name\":\"Farm\\u00e1cia\",\"offsetgroup\":\"Farm\\u00e1cia\",\"orientation\":\"v\",\"showlegend\":false,\"textposition\":\"auto\",\"x\":[\"2023-01-01T00:00:00\",\"2023-02-01T00:00:00\"],\"xaxis\":\"x2\",\"y\":[4,2],\"yaxis\":\"y2\",\"type\":\"bar\"},{\"alignmentgroup\":\"True\",\"hovertemplate\":\"unidade=Atendimento/Recep\\u00e7\\u00e3o<br>ano=2022<br>periodo=%{x}<br>total=%{y}<extra></extra>\",\"legendgroup\":\"Atendimento/Recep\\u00e7\\u00e3o\",\"marker\":{\"color\":\"#ab63fa\",\"pattern\":{\"shape\":\"\"}},\"name\":\"Atendimento/Recep\\u00e7\\u00e3o\",\"offsetgroup\":\"Atendimento/Recep\\u00e7\\u00e3o\",\"orientation\":\"v\",\"showlegend\":true,\"textposition\":\"auto\",\"x\":[\"2022-07-01T00:00:00\",\"2022-12-01T00:00:00\"],\"xaxis\":\"x\",\"y\":[1,1],\"yaxis\":\"y\",\"type\":\"bar\"},{\"alignmentgroup\":\"True\",\"hovertemplate\":\"unidade=Atendimento/Recep\\u00e7\\u00e3o<br>ano=2023<br>periodo=%{x}<br>total=%{y}<extra></extra>\",\"legendgroup\":\"Atendimento/Recep\\u00e7\\u00e3o\",\"marker\":{\"color\":\"#ab63fa\",\"pattern\":{\"shape\":\"\"}},\"name\":\"Atendimento/Recep\\u00e7\\u00e3o\",\"offsetgroup\":\"Atendimento/Recep\\u00e7\\u00e3o\",\"orientation\":\"v\",\"showlegend\":false,\"textposition\":\"auto\",\"x\":[\"2023-01-01T00:00:00\"],\"xaxis\":\"x2\",\"y\":[4],\"yaxis\":\"y2\",\"type\":\"bar\"},{\"alignmentgroup\":\"True\",\"hovertemplate\":\"unidade=Laborat\\u00f3rio<br>ano=2022<br>periodo=%{x}<br>total=%{y}<extra></extra>\",\"legendgroup\":\"Laborat\\u00f3rio\",\"marker\":{\"color\":\"#FFA15A\",\"pattern\":{\"shape\":\"\"}},\"name\":\"Laborat\\u00f3rio\",\"offsetgroup\":\"Laborat\\u00f3rio\",\"orientation\":\"v\",\"showlegend\":true,\"textposition\":\"auto\",\"x\":[\"2022-12-01T00:00:00\"],\"xaxis\":\"x\",\"y\":[2],\"yaxis\":\"y\",\"type\":\"bar\"},{\"alignmentgroup\":\"True\",\"hovertemplate\":\"unidade=Laborat\\u00f3rio<br>ano=2023<br>periodo=%{x}<br>total=%{y}<extra></extra>\",\"legendgroup\":\"Laborat\\u00f3rio\",\"marker\":{\"color\":\"#FFA15A\",\"pattern\":{\"shape\":\"\"}},\"name\":\"Laborat\\u00f3rio\",\"offsetgroup\":\"Laborat\\u00f3rio\",\"orientation\":\"v\",\"showlegend\":false,\"textposition\":\"auto\",\"x\":[\"2023-01-01T00:00:00\",\"2023-02-01T00:00:00\"],\"xaxis\":\"x2\",\"y\":[4,6],\"yaxis\":\"y2\",\"type\":\"bar\"},{\"alignmentgroup\":\"True\",\"hovertemplate\":\"unidade=Leito Dia<br>ano=2022<br>periodo=%{x}<br>total=%{y}<extra></extra>\",\"legendgroup\":\"Leito Dia\",\"marker\":{\"color\":\"#19d3f3\",\"pattern\":{\"shape\":\"\"}},\"name\":\"Leito Dia\",\"offsetgroup\":\"Leito Dia\",\"orientation\":\"v\",\"showlegend\":true,\"textposition\":\"auto\",\"x\":[\"2022-12-01T00:00:00\"],\"xaxis\":\"x\",\"y\":[2],\"yaxis\":\"y\",\"type\":\"bar\"},{\"alignmentgroup\":\"True\",\"hovertemplate\":\"unidade=Leito Dia<br>ano=2023<br>periodo=%{x}<br>total=%{y}<extra></extra>\",\"legendgroup\":\"Leito Dia\",\"marker\":{\"color\":\"#19d3f3\",\"pattern\":{\"shape\":\"\"}},\"name\":\"Leito Dia\",\"offsetgroup\":\"Leito Dia\",\"orientation\":\"v\",\"showlegend\":false,\"textposition\":\"auto\",\"x\":[\"2023-01-01T00:00:00\"],\"xaxis\":\"x2\",\"y\":[1],\"yaxis\":\"y2\",\"type\":\"bar\"},{\"alignmentgroup\":\"True\",\"hovertemplate\":\"unidade=Nir<br>ano=2022<br>periodo=%{x}<br>total=%{y}<extra></extra>\",\"legendgroup\":\"Nir\",\"marker\":{\"color\":\"#FF6692\",\"pattern\":{\"shape\":\"\"}},\"name\":\"Nir\",\"offsetgroup\":\"Nir\",\"orientation\":\"v\",\"showlegend\":true,\"textposition\":\"auto\",\"x\":[\"2022-12-01T00:00:00\"],\"xaxis\":\"x\",\"y\":[1],\"yaxis\":\"y\",\"type\":\"bar\"},{\"alignmentgroup\":\"True\",\"hovertemplate\":\"unidade=Unidade de Origem do Paciente<br>ano=2022<br>periodo=%{x}<br>total=%{y}<extra></extra>\",\"legendgroup\":\"Unidade de Origem do Paciente\",\"marker\":{\"color\":\"#B6E880\",\"pattern\":{\"shape\":\"\"}},\"name\":\"Unidade de Origem do Paciente\",\"offsetgroup\":\"Unidade de Origem do Paciente\",\"orientation\":\"v\",\"showlegend\":true,\"textposition\":\"auto\",\"x\":[\"2022-12-01T00:00:00\"],\"xaxis\":\"x\",\"y\":[1],\"yaxis\":\"y\",\"type\":\"bar\"},{\"alignmentgroup\":\"True\",\"hovertemplate\":\"unidade=Unidade de Origem do Paciente<br>ano=2023<br>periodo=%{x}<br>total=%{y}<extra></extra>\",\"legendgroup\":\"Unidade de Origem do Paciente\",\"marker\":{\"color\":\"#B6E880\",\"pattern\":{\"shape\":\"\"}},\"name\":\"Unidade de Origem do Paciente\",\"offsetgroup\":\"Unidade de Origem do Paciente\",\"orientation\":\"v\",\"showlegend\":false,\"textposition\":\"auto\",\"x\":[\"2023-01-01T00:00:00\"],\"xaxis\":\"x2\",\"y\":[1],\"yaxis\":\"y2\",\"type\":\"bar\"},{\"alignmentgroup\":\"True\",\"hovertemplate\":\"unidade=Ambulat\\u00f3rio<br>ano=2023<br>periodo=%{x}<br>total=%{y}<extra></extra>\",\"legendgroup\":\"Ambulat\\u00f3rio\",\"marker\":{\"color\":\"#FF97FF\",\"pattern\":{\"shape\":\"\"}},\"name\":\"Ambulat\\u00f3rio\",\"offsetgroup\":\"Ambulat\\u00f3rio\",\"orientation\":\"v\",\"showlegend\":true,\"textposition\":\"auto\",\"x\":[\"2023-01-01T00:00:00\"],\"xaxis\":\"x2\",\"y\":[4],\"yaxis\":\"y2\",\"type\":\"bar\"},{\"alignmentgroup\":\"True\",\"hovertemplate\":\"unidade=Centro Cir\\u00fargico<br>ano=2023<br>periodo=%{x}<br>total=%{y}<extra></extra>\",\"legendgroup\":\"Centro Cir\\u00fargico\",\"marker\":{\"color\":\"#FECB52\",\"pattern\":{\"shape\":\"\"}},\"name\":\"Centro Cir\\u00fargico\",\"offsetgroup\":\"Centro Cir\\u00fargico\",\"orientation\":\"v\",\"showlegend\":true,\"textposition\":\"auto\",\"x\":[\"2023-01-01T00:00:00\"],\"xaxis\":\"x2\",\"y\":[3],\"yaxis\":\"y2\",\"type\":\"bar\"},{\"alignmentgroup\":\"True\",\"hovertemplate\":\"unidade=Fisioterapia<br>ano=2023<br>periodo=%{x}<br>total=%{y}<extra></extra>\",\"legendgroup\":\"Fisioterapia\",\"marker\":{\"color\":\"#636efa\",\"pattern\":{\"shape\":\"\"}},\"name\":\"Fisioterapia\",\"offsetgroup\":\"Fisioterapia\",\"orientation\":\"v\",\"showlegend\":true,\"textposition\":\"auto\",\"x\":[\"2023-01-01T00:00:00\"],\"xaxis\":\"x2\",\"y\":[2],\"yaxis\":\"y2\",\"type\":\"bar\"},{\"alignmentgroup\":\"True\",\"hovertemplate\":\"unidade=Nutri\\u00e7\\u00e3o<br>ano=2023<br>periodo=%{x}<br>total=%{y}<extra></extra>\",\"legendgroup\":\"Nutri\\u00e7\\u00e3o\",\"marker\":{\"color\":\"#EF553B\",\"pattern\":{\"shape\":\"\"}},\"name\":\"Nutri\\u00e7\\u00e3o\",\"offsetgroup\":\"Nutri\\u00e7\\u00e3o\",\"orientation\":\"v\",\"showlegend\":true,\"textposition\":\"auto\",\"x\":[\"2023-01-01T00:00:00\",\"2023-02-01T00:00:00\"],\"xaxis\":\"x2\",\"y\":[3,6],\"yaxis\":\"y2\",\"type\":\"bar\"},{\"alignmentgroup\":\"True\",\"hovertemplate\":\"unidade=Servi\\u00e7o Social<br>ano=2023<br>periodo=%{x}<br>total=%{y}<extra></extra>\",\"legendgroup\":\"Servi\\u00e7o Social\",\"marker\":{\"color\":\"#00cc96\",\"pattern\":{\"shape\":\"\"}},\"name\":\"Servi\\u00e7o Social\",\"offsetgroup\":\"Servi\\u00e7o Social\",\"orientation\":\"v\",\"showlegend\":true,\"textposition\":\"auto\",\"x\":[\"2023-01-01T00:00:00\"],\"xaxis\":\"x2\",\"y\":[1],\"yaxis\":\"y2\",\"type\":\"bar\"},{\"alignmentgroup\":\"True\",\"hovertemplate\":\"unidade=Ag\\u00eancia Transfusional<br>ano=2023<br>periodo=%{x}<br>total=%{y}<extra></extra>\",\"legendgroup\":\"Ag\\u00eancia Transfusional\",\"marker\":{\"color\":\"#ab63fa\",\"pattern\":{\"shape\":\"\"}},\"name\":\"Ag\\u00eancia Transfusional\",\"offsetgroup\":\"Ag\\u00eancia Transfusional\",\"orientation\":\"v\",\"showlegend\":true,\"textposition\":\"auto\",\"x\":[\"2023-02-01T00:00:00\"],\"xaxis\":\"x2\",\"y\":[1],\"yaxis\":\"y2\",\"type\":\"bar\"},{\"alignmentgroup\":\"True\",\"hovertemplate\":\"unidade=Cme<br>ano=2023<br>periodo=%{x}<br>total=%{y}<extra></extra>\",\"legendgroup\":\"Cme\",\"marker\":{\"color\":\"#FFA15A\",\"pattern\":{\"shape\":\"\"}},\"name\":\"Cme\",\"offsetgroup\":\"Cme\",\"orientation\":\"v\",\"showlegend\":true,\"textposition\":\"auto\",\"x\":[\"2023-02-01T00:00:00\"],\"xaxis\":\"x2\",\"y\":[1],\"yaxis\":\"y2\",\"type\":\"bar\"},{\"alignmentgroup\":\"True\",\"hovertemplate\":\"unidade=Vigil\\u00e2ncia (Portaria)<br>ano=2023<br>periodo=%{x}<br>total=%{y}<extra></extra>\",\"legendgroup\":\"Vigil\\u00e2ncia (Portaria)\",\"marker\":{\"color\":\"#19d3f3\",\"pattern\":{\"shape\":\"\"}},\"name\":\"Vigil\\u00e2ncia (Portaria)\",\"offsetgroup\":\"Vigil\\u00e2ncia (Portaria)\",\"orientation\":\"v\",\"showlegend\":true,\"textposition\":\"auto\",\"x\":[\"2023-02-01T00:00:00\"],\"xaxis\":\"x2\",\"y\":[1],\"yaxis\":\"y2\",\"type\":\"bar\"}],                        {\"template\":{\"data\":{\"histogram2dcontour\":[{\"type\":\"histogram2dcontour\",\"colorbar\":{\"outlinewidth\":0,\"ticks\":\"\"},\"colorscale\":[[0.0,\"#0d0887\"],[0.1111111111111111,\"#46039f\"],[0.2222222222222222,\"#7201a8\"],[0.3333333333333333,\"#9c179e\"],[0.4444444444444444,\"#bd3786\"],[0.5555555555555556,\"#d8576b\"],[0.6666666666666666,\"#ed7953\"],[0.7777777777777778,\"#fb9f3a\"],[0.8888888888888888,\"#fdca26\"],[1.0,\"#f0f921\"]]}],\"choropleth\":[{\"type\":\"choropleth\",\"colorbar\":{\"outlinewidth\":0,\"ticks\":\"\"}}],\"histogram2d\":[{\"type\":\"histogram2d\",\"colorbar\":{\"outlinewidth\":0,\"ticks\":\"\"},\"colorscale\":[[0.0,\"#0d0887\"],[0.1111111111111111,\"#46039f\"],[0.2222222222222222,\"#7201a8\"],[0.3333333333333333,\"#9c179e\"],[0.4444444444444444,\"#bd3786\"],[0.5555555555555556,\"#d8576b\"],[0.6666666666666666,\"#ed7953\"],[0.7777777777777778,\"#fb9f3a\"],[0.8888888888888888,\"#fdca26\"],[1.0,\"#f0f921\"]]}],\"heatmap\":[{\"type\":\"heatmap\",\"colorbar\":{\"outlinewidth\":0,\"ticks\":\"\"},\"colorscale\":[[0.0,\"#0d0887\"],[0.1111111111111111,\"#46039f\"],[0.2222222222222222,\"#7201a8\"],[0.3333333333333333,\"#9c179e\"],[0.4444444444444444,\"#bd3786\"],[0.5555555555555556,\"#d8576b\"],[0.6666666666666666,\"#ed7953\"],[0.7777777777777778,\"#fb9f3a\"],[0.8888888888888888,\"#fdca26\"],[1.0,\"#f0f921\"]]}],\"heatmapgl\":[{\"type\":\"heatmapgl\",\"colorbar\":{\"outlinewidth\":0,\"ticks\":\"\"},\"colorscale\":[[0.0,\"#0d0887\"],[0.1111111111111111,\"#46039f\"],[0.2222222222222222,\"#7201a8\"],[0.3333333333333333,\"#9c179e\"],[0.4444444444444444,\"#bd3786\"],[0.5555555555555556,\"#d8576b\"],[0.6666666666666666,\"#ed7953\"],[0.7777777777777778,\"#fb9f3a\"],[0.8888888888888888,\"#fdca26\"],[1.0,\"#f0f921\"]]}],\"contourcarpet\":[{\"type\":\"contourcarpet\",\"colorbar\":{\"outlinewidth\":0,\"ticks\":\"\"}}],\"contour\":[{\"type\":\"contour\",\"colorbar\":{\"outlinewidth\":0,\"ticks\":\"\"},\"colorscale\":[[0.0,\"#0d0887\"],[0.1111111111111111,\"#46039f\"],[0.2222222222222222,\"#7201a8\"],[0.3333333333333333,\"#9c179e\"],[0.4444444444444444,\"#bd3786\"],[0.5555555555555556,\"#d8576b\"],[0.6666666666666666,\"#ed7953\"],[0.7777777777777778,\"#fb9f3a\"],[0.8888888888888888,\"#fdca26\"],[1.0,\"#f0f921\"]]}],\"surface\":[{\"type\":\"surface\",\"colorbar\":{\"outlinewidth\":0,\"ticks\":\"\"},\"colorscale\":[[0.0,\"#0d0887\"],[0.1111111111111111,\"#46039f\"],[0.2222222222222222,\"#7201a8\"],[0.3333333333333333,\"#9c179e\"],[0.4444444444444444,\"#bd3786\"],[0.5555555555555556,\"#d8576b\"],[0.6666666666666666,\"#ed7953\"],[0.7777777777777778,\"#fb9f3a\"],[0.8888888888888888,\"#fdca26\"],[1.0,\"#f0f921\"]]}],\"mesh3d\":[{\"type\":\"mesh3d\",\"colorbar\":{\"outlinewidth\":0,\"ticks\":\"\"}}],\"scatter\":[{\"fillpattern\":{\"fillmode\":\"overlay\",\"size\":10,\"solidity\":0.2},\"type\":\"scatter\"}],\"parcoords\":[{\"type\":\"parcoords\",\"line\":{\"colorbar\":{\"outlinewidth\":0,\"ticks\":\"\"}}}],\"scatterpolargl\":[{\"type\":\"scatterpolargl\",\"marker\":{\"colorbar\":{\"outlinewidth\":0,\"ticks\":\"\"}}}],\"bar\":[{\"error_x\":{\"color\":\"#2a3f5f\"},\"error_y\":{\"color\":\"#2a3f5f\"},\"marker\":{\"line\":{\"color\":\"#E5ECF6\",\"width\":0.5},\"pattern\":{\"fillmode\":\"overlay\",\"size\":10,\"solidity\":0.2}},\"type\":\"bar\"}],\"scattergeo\":[{\"type\":\"scattergeo\",\"marker\":{\"colorbar\":{\"outlinewidth\":0,\"ticks\":\"\"}}}],\"scatterpolar\":[{\"type\":\"scatterpolar\",\"marker\":{\"colorbar\":{\"outlinewidth\":0,\"ticks\":\"\"}}}],\"histogram\":[{\"marker\":{\"pattern\":{\"fillmode\":\"overlay\",\"size\":10,\"solidity\":0.2}},\"type\":\"histogram\"}],\"scattergl\":[{\"type\":\"scattergl\",\"marker\":{\"colorbar\":{\"outlinewidth\":0,\"ticks\":\"\"}}}],\"scatter3d\":[{\"type\":\"scatter3d\",\"line\":{\"colorbar\":{\"outlinewidth\":0,\"ticks\":\"\"}},\"marker\":{\"colorbar\":{\"outlinewidth\":0,\"ticks\":\"\"}}}],\"scattermapbox\":[{\"type\":\"scattermapbox\",\"marker\":{\"colorbar\":{\"outlinewidth\":0,\"ticks\":\"\"}}}],\"scatterternary\":[{\"type\":\"scatterternary\",\"marker\":{\"colorbar\":{\"outlinewidth\":0,\"ticks\":\"\"}}}],\"scattercarpet\":[{\"type\":\"scattercarpet\",\"marker\":{\"colorbar\":{\"outlinewidth\":0,\"ticks\":\"\"}}}],\"carpet\":[{\"aaxis\":{\"endlinecolor\":\"#2a3f5f\",\"gridcolor\":\"white\",\"linecolor\":\"white\",\"minorgridcolor\":\"white\",\"startlinecolor\":\"#2a3f5f\"},\"baxis\":{\"endlinecolor\":\"#2a3f5f\",\"gridcolor\":\"white\",\"linecolor\":\"white\",\"minorgridcolor\":\"white\",\"startlinecolor\":\"#2a3f5f\"},\"type\":\"carpet\"}],\"table\":[{\"cells\":{\"fill\":{\"color\":\"#EBF0F8\"},\"line\":{\"color\":\"white\"}},\"header\":{\"fill\":{\"color\":\"#C8D4E3\"},\"line\":{\"color\":\"white\"}},\"type\":\"table\"}],\"barpolar\":[{\"marker\":{\"line\":{\"color\":\"#E5ECF6\",\"width\":0.5},\"pattern\":{\"fillmode\":\"overlay\",\"size\":10,\"solidity\":0.2}},\"type\":\"barpolar\"}],\"pie\":[{\"automargin\":true,\"type\":\"pie\"}]},\"layout\":{\"autotypenumbers\":\"strict\",\"colorway\":[\"#636efa\",\"#EF553B\",\"#00cc96\",\"#ab63fa\",\"#FFA15A\",\"#19d3f3\",\"#FF6692\",\"#B6E880\",\"#FF97FF\",\"#FECB52\"],\"font\":{\"color\":\"#2a3f5f\"},\"hovermode\":\"closest\",\"hoverlabel\":{\"align\":\"left\"},\"paper_bgcolor\":\"white\",\"plot_bgcolor\":\"#E5ECF6\",\"polar\":{\"bgcolor\":\"#E5ECF6\",\"angularaxis\":{\"gridcolor\":\"white\",\"linecolor\":\"white\",\"ticks\":\"\"},\"radialaxis\":{\"gridcolor\":\"white\",\"linecolor\":\"white\",\"ticks\":\"\"}},\"ternary\":{\"bgcolor\":\"#E5ECF6\",\"aaxis\":{\"gridcolor\":\"white\",\"linecolor\":\"white\",\"ticks\":\"\"},\"baxis\":{\"gridcolor\":\"white\",\"linecolor\":\"white\",\"ticks\":\"\"},\"caxis\":{\"gridcolor\":\"white\",\"linecolor\":\"white\",\"ticks\":\"\"}},\"coloraxis\":{\"colorbar\":{\"outlinewidth\":0,\"ticks\":\"\"}},\"colorscale\":{\"sequential\":[[0.0,\"#0d0887\"],[0.1111111111111111,\"#46039f\"],[0.2222222222222222,\"#7201a8\"],[0.3333333333333333,\"#9c179e\"],[0.4444444444444444,\"#bd3786\"],[0.5555555555555556,\"#d8576b\"],[0.6666666666666666,\"#ed7953\"],[0.7777777777777778,\"#fb9f3a\"],[0.8888888888888888,\"#fdca26\"],[1.0,\"#f0f921\"]],\"sequentialminus\":[[0.0,\"#0d0887\"],[0.1111111111111111,\"#46039f\"],[0.2222222222222222,\"#7201a8\"],[0.3333333333333333,\"#9c179e\"],[0.4444444444444444,\"#bd3786\"],[0.5555555555555556,\"#d8576b\"],[0.6666666666666666,\"#ed7953\"],[0.7777777777777778,\"#fb9f3a\"],[0.8888888888888888,\"#fdca26\"],[1.0,\"#f0f921\"]],\"diverging\":[[0,\"#8e0152\"],[0.1,\"#c51b7d\"],[0.2,\"#de77ae\"],[0.3,\"#f1b6da\"],[0.4,\"#fde0ef\"],[0.5,\"#f7f7f7\"],[0.6,\"#e6f5d0\"],[0.7,\"#b8e186\"],[0.8,\"#7fbc41\"],[0.9,\"#4d9221\"],[1,\"#276419\"]]},\"xaxis\":{\"gridcolor\":\"white\",\"linecolor\":\"white\",\"ticks\":\"\",\"title\":{\"standoff\":15},\"zerolinecolor\":\"white\",\"automargin\":true,\"zerolinewidth\":2},\"yaxis\":{\"gridcolor\":\"white\",\"linecolor\":\"white\",\"ticks\":\"\",\"title\":{\"standoff\":15},\"zerolinecolor\":\"white\",\"automargin\":true,\"zerolinewidth\":2},\"scene\":{\"xaxis\":{\"backgroundcolor\":\"#E5ECF6\",\"gridcolor\":\"white\",\"linecolor\":\"white\",\"showbackground\":true,\"ticks\":\"\",\"zerolinecolor\":\"white\",\"gridwidth\":2},\"yaxis\":{\"backgroundcolor\":\"#E5ECF6\",\"gridcolor\":\"white\",\"linecolor\":\"white\",\"showbackground\":true,\"ticks\":\"\",\"zerolinecolor\":\"white\",\"gridwidth\":2},\"zaxis\":{\"backgroundcolor\":\"#E5ECF6\",\"gridcolor\":\"white\",\"linecolor\":\"white\",\"showbackground\":true,\"ticks\":\"\",\"zerolinecolor\":\"white\",\"gridwidth\":2}},\"shapedefaults\":{\"line\":{\"color\":\"#2a3f5f\"}},\"annotationdefaults\":{\"arrowcolor\":\"#2a3f5f\",\"arrowhead\":0,\"arrowwidth\":1},\"geo\":{\"bgcolor\":\"white\",\"landcolor\":\"#E5ECF6\",\"subunitcolor\":\"white\",\"showland\":true,\"showlakes\":true,\"lakecolor\":\"white\"},\"title\":{\"x\":0.05},\"mapbox\":{\"style\":\"light\"}}},\"xaxis\":{\"anchor\":\"y\",\"domain\":[0.0,0.49],\"title\":{\"text\":\"periodo\"}},\"yaxis\":{\"anchor\":\"x\",\"domain\":[0.0,1.0],\"title\":{\"text\":\"total\"}},\"xaxis2\":{\"anchor\":\"y2\",\"domain\":[0.51,1.0],\"matches\":\"x\",\"title\":{\"text\":\"periodo\"}},\"yaxis2\":{\"anchor\":\"x2\",\"domain\":[0.0,1.0],\"matches\":\"y\",\"showticklabels\":false},\"annotations\":[{\"font\":{},\"showarrow\":false,\"text\":\"ano=2022\",\"x\":0.245,\"xanchor\":\"center\",\"xref\":\"paper\",\"y\":1.0,\"yanchor\":\"bottom\",\"yref\":\"paper\"},{\"font\":{},\"showarrow\":false,\"text\":\"ano=2023\",\"x\":0.755,\"xanchor\":\"center\",\"xref\":\"paper\",\"y\":1.0,\"yanchor\":\"bottom\",\"yref\":\"paper\"}],\"legend\":{\"title\":{\"text\":\"unidade\"},\"tracegroupgap\":0},\"margin\":{\"t\":60},\"barmode\":\"group\"},                        {\"responsive\": true}                    ).then(function(){\n",
       "                            \n",
       "var gd = document.getElementById('51932425-0ed9-4561-8efe-3ca794a0c079');\n",
       "var x = new MutationObserver(function (mutations, observer) {{\n",
       "        var display = window.getComputedStyle(gd).display;\n",
       "        if (!display || display === 'none') {{\n",
       "            console.log([gd, 'removed!']);\n",
       "            Plotly.purge(gd);\n",
       "            observer.disconnect();\n",
       "        }}\n",
       "}});\n",
       "\n",
       "// Listen for the removal of the full notebook cells\n",
       "var notebookContainer = gd.closest('#notebook-container');\n",
       "if (notebookContainer) {{\n",
       "    x.observe(notebookContainer, {childList: true});\n",
       "}}\n",
       "\n",
       "// Listen for the clearing of the current output cell\n",
       "var outputEl = gd.closest('.output');\n",
       "if (outputEl) {{\n",
       "    x.observe(outputEl, {childList: true});\n",
       "}}\n",
       "\n",
       "                        })                };                });            </script>        </div>"
      ]
     },
     "metadata": {},
     "output_type": "display_data"
    }
   ],
   "source": [
    "import plotly.express as px\n",
    "\n",
    "data_inicio = date(2022, 12, 1)\n",
    "data_fim = date(2023, 3, 1)\n",
    "\n",
    "df_filtrado = df1\n",
    "df_filtrado['col_8'] = pd.to_datetime(df_filtrado['col_8'])\n",
    "df_filtrado = df1.query('col_8>=@data_inicio and col_8<=@data_fim').sort_values(by=\"col_8\", ascending=True)\n",
    "\n",
    "dfx = (df_filtrado[['col_8', 'ano', 'mes', 'periodo', 'col_10']]\n",
    "       .groupby(['periodo', 'ano', 'mes', 'col_10'])\n",
    "       .count()\n",
    "       .reset_index()\n",
    "       .sort_values(by=['periodo', 'col_10'], ascending=True)\n",
    "       .rename(columns={\"col_10\": \"unidade\", \"col_8\": \"total\"})\n",
    "      )\n",
    "\n",
    "# dfx.head(10)\n",
    "px.bar(dfx, x='periodo', y='total', color='unidade', barmode=\"group\", facet_col=\"ano\")\n",
    "# px.bar(dfx, x='periodo', y='total', color='unidade')\n",
    "# len(dfx.unidade.unique())"
   ]
  },
  {
   "cell_type": "code",
   "execution_count": 410,
   "id": "e80f68af-a048-4da0-b718-43c95b68cc3f",
   "metadata": {
    "tags": []
   },
   "outputs": [
    {
     "data": {
      "text/html": [
       "<div>\n",
       "<style scoped>\n",
       "    .dataframe tbody tr th:only-of-type {\n",
       "        vertical-align: middle;\n",
       "    }\n",
       "\n",
       "    .dataframe tbody tr th {\n",
       "        vertical-align: top;\n",
       "    }\n",
       "\n",
       "    .dataframe thead th {\n",
       "        text-align: right;\n",
       "    }\n",
       "</style>\n",
       "<table border=\"1\" class=\"dataframe\">\n",
       "  <thead>\n",
       "    <tr style=\"text-align: right;\">\n",
       "      <th></th>\n",
       "      <th>periodo</th>\n",
       "      <th>ano</th>\n",
       "      <th>mes</th>\n",
       "      <th>unidade</th>\n",
       "      <th>total</th>\n",
       "    </tr>\n",
       "  </thead>\n",
       "  <tbody>\n",
       "    <tr>\n",
       "      <th>0</th>\n",
       "      <td>2022-01-01</td>\n",
       "      <td>2022</td>\n",
       "      <td>1</td>\n",
       "      <td>Ala C</td>\n",
       "      <td>3</td>\n",
       "    </tr>\n",
       "    <tr>\n",
       "      <th>1</th>\n",
       "      <td>2022-01-01</td>\n",
       "      <td>2022</td>\n",
       "      <td>1</td>\n",
       "      <td>Ala D</td>\n",
       "      <td>1</td>\n",
       "    </tr>\n",
       "    <tr>\n",
       "      <th>2</th>\n",
       "      <td>2022-01-01</td>\n",
       "      <td>2022</td>\n",
       "      <td>1</td>\n",
       "      <td>Atendimento</td>\n",
       "      <td>1</td>\n",
       "    </tr>\n",
       "    <tr>\n",
       "      <th>3</th>\n",
       "      <td>2022-01-01</td>\n",
       "      <td>2022</td>\n",
       "      <td>1</td>\n",
       "      <td>UTI Covid</td>\n",
       "      <td>1</td>\n",
       "    </tr>\n",
       "    <tr>\n",
       "      <th>4</th>\n",
       "      <td>2022-01-01</td>\n",
       "      <td>2022</td>\n",
       "      <td>1</td>\n",
       "      <td>UTI Pediátrica</td>\n",
       "      <td>1</td>\n",
       "    </tr>\n",
       "    <tr>\n",
       "      <th>5</th>\n",
       "      <td>2022-02-01</td>\n",
       "      <td>2022</td>\n",
       "      <td>2</td>\n",
       "      <td>Ala B</td>\n",
       "      <td>2</td>\n",
       "    </tr>\n",
       "    <tr>\n",
       "      <th>6</th>\n",
       "      <td>2022-02-01</td>\n",
       "      <td>2022</td>\n",
       "      <td>2</td>\n",
       "      <td>Ala C</td>\n",
       "      <td>1</td>\n",
       "    </tr>\n",
       "    <tr>\n",
       "      <th>7</th>\n",
       "      <td>2022-02-01</td>\n",
       "      <td>2022</td>\n",
       "      <td>2</td>\n",
       "      <td>Ala D</td>\n",
       "      <td>1</td>\n",
       "    </tr>\n",
       "    <tr>\n",
       "      <th>8</th>\n",
       "      <td>2022-02-01</td>\n",
       "      <td>2022</td>\n",
       "      <td>2</td>\n",
       "      <td>Ala E</td>\n",
       "      <td>1</td>\n",
       "    </tr>\n",
       "    <tr>\n",
       "      <th>9</th>\n",
       "      <td>2022-02-01</td>\n",
       "      <td>2022</td>\n",
       "      <td>2</td>\n",
       "      <td>Emergência</td>\n",
       "      <td>1</td>\n",
       "    </tr>\n",
       "  </tbody>\n",
       "</table>\n",
       "</div>"
      ],
      "text/plain": [
       "     periodo   ano  mes         unidade  total\n",
       "0 2022-01-01  2022    1           Ala C      3\n",
       "1 2022-01-01  2022    1           Ala D      1\n",
       "2 2022-01-01  2022    1     Atendimento      1\n",
       "3 2022-01-01  2022    1       UTI Covid      1\n",
       "4 2022-01-01  2022    1  UTI Pediátrica      1\n",
       "5 2022-02-01  2022    2           Ala B      2\n",
       "6 2022-02-01  2022    2           Ala C      1\n",
       "7 2022-02-01  2022    2           Ala D      1\n",
       "8 2022-02-01  2022    2           Ala E      1\n",
       "9 2022-02-01  2022    2      Emergência      1"
      ]
     },
     "execution_count": 410,
     "metadata": {},
     "output_type": "execute_result"
    }
   ],
   "source": [
    "dfx.head(10)"
   ]
  },
  {
   "cell_type": "code",
   "execution_count": 427,
   "id": "41221c4c-360e-4fa8-a993-50955b1948dd",
   "metadata": {
    "tags": []
   },
   "outputs": [
    {
     "data": {
      "application/vnd.plotly.v1+json": {
       "config": {
        "plotlyServerURL": "https://plot.ly"
       },
       "data": [
        {
         "type": "bar",
         "x": [
          "2023-02-01T00:00:00"
         ],
         "xaxis": "x",
         "y": [
          1
         ],
         "yaxis": "y"
        },
        {
         "type": "bar",
         "x": [
          "2022-04-01T00:00:00",
          "2022-11-01T00:00:00",
          "2022-12-01T00:00:00",
          "2023-01-01T00:00:00",
          "2023-02-01T00:00:00"
         ],
         "xaxis": "x2",
         "y": [
          2,
          1,
          11,
          5,
          4
         ],
         "yaxis": "y2"
        },
        {
         "type": "bar",
         "x": [
          "2022-05-01T00:00:00",
          "2022-11-01T00:00:00",
          "2022-12-01T00:00:00",
          "2023-01-01T00:00:00",
          "2023-02-01T00:00:00"
         ],
         "xaxis": "x3",
         "y": [
          1,
          3,
          3,
          4,
          5
         ],
         "yaxis": "y3"
        },
        {
         "type": "bar",
         "x": [
          "2022-02-01T00:00:00",
          "2022-04-01T00:00:00",
          "2022-08-01T00:00:00",
          "2022-10-01T00:00:00",
          "2022-12-01T00:00:00",
          "2023-01-01T00:00:00",
          "2023-02-01T00:00:00"
         ],
         "xaxis": "x4",
         "y": [
          2,
          1,
          3,
          2,
          9,
          24,
          10
         ],
         "yaxis": "y4"
        },
        {
         "type": "bar",
         "x": [
          "2022-01-01T00:00:00",
          "2022-02-01T00:00:00",
          "2022-04-01T00:00:00",
          "2022-06-01T00:00:00",
          "2022-07-01T00:00:00",
          "2022-09-01T00:00:00",
          "2022-10-01T00:00:00",
          "2022-11-01T00:00:00",
          "2022-12-01T00:00:00",
          "2023-01-01T00:00:00",
          "2023-02-01T00:00:00",
          "2023-10-01T00:00:00"
         ],
         "xaxis": "x5",
         "y": [
          3,
          1,
          1,
          1,
          4,
          1,
          1,
          2,
          16,
          44,
          22,
          1
         ],
         "yaxis": "y5"
        },
        {
         "type": "bar",
         "x": [
          "2022-01-01T00:00:00",
          "2022-02-01T00:00:00",
          "2022-07-01T00:00:00",
          "2022-11-01T00:00:00",
          "2022-12-01T00:00:00",
          "2023-01-01T00:00:00",
          "2023-02-01T00:00:00"
         ],
         "xaxis": "x6",
         "y": [
          1,
          1,
          3,
          2,
          8,
          7,
          2
         ],
         "yaxis": "y6"
        },
        {
         "type": "bar",
         "x": [
          "2022-02-01T00:00:00",
          "2022-04-01T00:00:00",
          "2022-11-01T00:00:00",
          "2022-12-01T00:00:00",
          "2023-01-01T00:00:00",
          "2023-02-01T00:00:00"
         ],
         "xaxis": "x7",
         "y": [
          1,
          1,
          2,
          7,
          4,
          4
         ],
         "yaxis": "y7"
        },
        {
         "type": "bar",
         "x": [
          "2023-01-01T00:00:00"
         ],
         "xaxis": "x8",
         "y": [
          4
         ],
         "yaxis": "y8"
        },
        {
         "type": "bar",
         "x": [
          "2022-01-01T00:00:00",
          "2022-10-01T00:00:00",
          "2022-12-01T00:00:00",
          "2023-01-01T00:00:00",
          "2023-02-01T00:00:00"
         ],
         "xaxis": "x9",
         "y": [
          1,
          1,
          2,
          1,
          3
         ],
         "yaxis": "y9"
        },
        {
         "type": "bar",
         "x": [
          "2022-07-01T00:00:00",
          "2022-12-01T00:00:00",
          "2023-01-01T00:00:00"
         ],
         "xaxis": "x10",
         "y": [
          1,
          1,
          4
         ],
         "yaxis": "y10"
        },
        {
         "type": "bar",
         "x": [
          "2023-01-01T00:00:00"
         ],
         "xaxis": "x11",
         "y": [
          3
         ],
         "yaxis": "y11"
        },
        {
         "type": "bar",
         "x": [
          "2023-02-01T00:00:00"
         ],
         "xaxis": "x12",
         "y": [
          1
         ],
         "yaxis": "y12"
        },
        {
         "type": "bar",
         "x": [
          "2022-02-01T00:00:00",
          "2022-05-01T00:00:00",
          "2022-08-01T00:00:00",
          "2022-10-01T00:00:00",
          "2022-12-01T00:00:00",
          "2023-01-01T00:00:00",
          "2023-02-01T00:00:00"
         ],
         "xaxis": "x13",
         "y": [
          1,
          2,
          1,
          2,
          4,
          17,
          14
         ],
         "yaxis": "y13"
        },
        {
         "type": "bar",
         "x": [
          "2022-06-01T00:00:00",
          "2022-12-01T00:00:00",
          "2023-01-01T00:00:00",
          "2023-02-01T00:00:00"
         ],
         "xaxis": "x14",
         "y": [
          1,
          2,
          4,
          2
         ],
         "yaxis": "y14"
        },
        {
         "type": "bar",
         "x": [
          "2023-01-01T00:00:00"
         ],
         "xaxis": "x15",
         "y": [
          2
         ],
         "yaxis": "y15"
        },
        {
         "type": "bar",
         "x": [
          "2022-04-01T00:00:00"
         ],
         "xaxis": "x16",
         "y": [
          1
         ],
         "yaxis": "y16"
        },
        {
         "type": "bar",
         "x": [
          "2022-12-01T00:00:00",
          "2023-01-01T00:00:00",
          "2023-02-01T00:00:00"
         ],
         "xaxis": "x17",
         "y": [
          2,
          4,
          6
         ],
         "yaxis": "y17"
        },
        {
         "type": "bar",
         "x": [
          "2022-12-01T00:00:00",
          "2023-01-01T00:00:00"
         ],
         "xaxis": "x18",
         "y": [
          2,
          1
         ],
         "yaxis": "y18"
        },
        {
         "type": "bar",
         "x": [
          "2022-12-01T00:00:00"
         ],
         "xaxis": "x19",
         "y": [
          1
         ],
         "yaxis": "y19"
        },
        {
         "type": "bar",
         "x": [
          "2023-01-01T00:00:00",
          "2023-02-01T00:00:00"
         ],
         "xaxis": "x20",
         "y": [
          3,
          6
         ],
         "yaxis": "y20"
        },
        {
         "type": "bar",
         "x": [
          "2023-01-01T00:00:00"
         ],
         "xaxis": "x21",
         "y": [
          1
         ],
         "yaxis": "y21"
        },
        {
         "type": "bar",
         "x": [
          "2022-02-01T00:00:00",
          "2022-04-01T00:00:00",
          "2022-05-01T00:00:00",
          "2022-07-01T00:00:00",
          "2022-08-01T00:00:00",
          "2022-09-01T00:00:00",
          "2022-12-01T00:00:00",
          "2023-01-01T00:00:00",
          "2023-02-01T00:00:00"
         ],
         "xaxis": "x22",
         "y": [
          1,
          1,
          1,
          1,
          3,
          3,
          17,
          43,
          24
         ],
         "yaxis": "y22"
        },
        {
         "type": "bar",
         "x": [
          "2022-01-01T00:00:00",
          "2022-06-01T00:00:00",
          "2022-07-01T00:00:00",
          "2022-09-01T00:00:00",
          "2022-10-01T00:00:00",
          "2022-12-01T00:00:00",
          "2023-01-01T00:00:00",
          "2023-02-01T00:00:00"
         ],
         "xaxis": "x23",
         "y": [
          1,
          1,
          2,
          2,
          2,
          12,
          12,
          9
         ],
         "yaxis": "y23"
        },
        {
         "type": "bar",
         "x": [
          "2022-01-01T00:00:00",
          "2022-02-01T00:00:00",
          "2022-12-01T00:00:00",
          "2023-01-01T00:00:00",
          "2023-02-01T00:00:00"
         ],
         "xaxis": "x24",
         "y": [
          1,
          2,
          6,
          3,
          5
         ],
         "yaxis": "y24"
        },
        {
         "type": "bar",
         "x": [
          "2022-12-01T00:00:00",
          "2023-01-01T00:00:00"
         ],
         "xaxis": "x25",
         "y": [
          1,
          1
         ],
         "yaxis": "y25"
        },
        {
         "type": "bar",
         "x": [
          "2023-02-01T00:00:00"
         ],
         "xaxis": "x26",
         "y": [
          1
         ],
         "yaxis": "y26"
        }
       ],
       "layout": {
        "annotations": [
         {
          "font": {
           "size": 16
          },
          "showarrow": false,
          "text": "Agência Transfusional",
          "x": 0.14444444444444446,
          "xanchor": "center",
          "xref": "paper",
          "y": 1,
          "yanchor": "bottom",
          "yref": "paper"
         },
         {
          "font": {
           "size": 16
          },
          "showarrow": false,
          "text": "Ala A Adulto",
          "x": 0.5,
          "xanchor": "center",
          "xref": "paper",
          "y": 1,
          "yanchor": "bottom",
          "yref": "paper"
         },
         {
          "font": {
           "size": 16
          },
          "showarrow": false,
          "text": "Ala A Pediátrica",
          "x": 0.8555555555555556,
          "xanchor": "center",
          "xref": "paper",
          "y": 1,
          "yanchor": "bottom",
          "yref": "paper"
         },
         {
          "font": {
           "size": 16
          },
          "showarrow": false,
          "text": "Ala B",
          "x": 0.14444444444444446,
          "xanchor": "center",
          "xref": "paper",
          "y": 0.8827160493827161,
          "yanchor": "bottom",
          "yref": "paper"
         },
         {
          "font": {
           "size": 16
          },
          "showarrow": false,
          "text": "Ala C",
          "x": 0.5,
          "xanchor": "center",
          "xref": "paper",
          "y": 0.8827160493827161,
          "yanchor": "bottom",
          "yref": "paper"
         },
         {
          "font": {
           "size": 16
          },
          "showarrow": false,
          "text": "Ala D",
          "x": 0.8555555555555556,
          "xanchor": "center",
          "xref": "paper",
          "y": 0.8827160493827161,
          "yanchor": "bottom",
          "yref": "paper"
         },
         {
          "font": {
           "size": 16
          },
          "showarrow": false,
          "text": "Ala E",
          "x": 0.14444444444444446,
          "xanchor": "center",
          "xref": "paper",
          "y": 0.7654320987654322,
          "yanchor": "bottom",
          "yref": "paper"
         },
         {
          "font": {
           "size": 16
          },
          "showarrow": false,
          "text": "Ambulatório",
          "x": 0.5,
          "xanchor": "center",
          "xref": "paper",
          "y": 0.7654320987654322,
          "yanchor": "bottom",
          "yref": "paper"
         },
         {
          "font": {
           "size": 16
          },
          "showarrow": false,
          "text": "Atendimento",
          "x": 0.8555555555555556,
          "xanchor": "center",
          "xref": "paper",
          "y": 0.7654320987654322,
          "yanchor": "bottom",
          "yref": "paper"
         },
         {
          "font": {
           "size": 16
          },
          "showarrow": false,
          "text": "Atendimento/Recepção",
          "x": 0.14444444444444446,
          "xanchor": "center",
          "xref": "paper",
          "y": 0.6481481481481483,
          "yanchor": "bottom",
          "yref": "paper"
         },
         {
          "font": {
           "size": 16
          },
          "showarrow": false,
          "text": "Centro Cirúrgico",
          "x": 0.5,
          "xanchor": "center",
          "xref": "paper",
          "y": 0.6481481481481483,
          "yanchor": "bottom",
          "yref": "paper"
         },
         {
          "font": {
           "size": 16
          },
          "showarrow": false,
          "text": "Cme",
          "x": 0.8555555555555556,
          "xanchor": "center",
          "xref": "paper",
          "y": 0.6481481481481483,
          "yanchor": "bottom",
          "yref": "paper"
         },
         {
          "font": {
           "size": 16
          },
          "showarrow": false,
          "text": "Emergência",
          "x": 0.14444444444444446,
          "xanchor": "center",
          "xref": "paper",
          "y": 0.5308641975308642,
          "yanchor": "bottom",
          "yref": "paper"
         },
         {
          "font": {
           "size": 16
          },
          "showarrow": false,
          "text": "Farmácia",
          "x": 0.5,
          "xanchor": "center",
          "xref": "paper",
          "y": 0.5308641975308642,
          "yanchor": "bottom",
          "yref": "paper"
         },
         {
          "font": {
           "size": 16
          },
          "showarrow": false,
          "text": "Fisioterapia",
          "x": 0.8555555555555556,
          "xanchor": "center",
          "xref": "paper",
          "y": 0.5308641975308642,
          "yanchor": "bottom",
          "yref": "paper"
         },
         {
          "font": {
           "size": 16
          },
          "showarrow": false,
          "text": "Institucional",
          "x": 0.14444444444444446,
          "xanchor": "center",
          "xref": "paper",
          "y": 0.41358024691358025,
          "yanchor": "bottom",
          "yref": "paper"
         },
         {
          "font": {
           "size": 16
          },
          "showarrow": false,
          "text": "Laboratório",
          "x": 0.5,
          "xanchor": "center",
          "xref": "paper",
          "y": 0.41358024691358025,
          "yanchor": "bottom",
          "yref": "paper"
         },
         {
          "font": {
           "size": 16
          },
          "showarrow": false,
          "text": "Leito Dia",
          "x": 0.8555555555555556,
          "xanchor": "center",
          "xref": "paper",
          "y": 0.41358024691358025,
          "yanchor": "bottom",
          "yref": "paper"
         },
         {
          "font": {
           "size": 16
          },
          "showarrow": false,
          "text": "Nir",
          "x": 0.14444444444444446,
          "xanchor": "center",
          "xref": "paper",
          "y": 0.2962962962962963,
          "yanchor": "bottom",
          "yref": "paper"
         },
         {
          "font": {
           "size": 16
          },
          "showarrow": false,
          "text": "Nutrição",
          "x": 0.5,
          "xanchor": "center",
          "xref": "paper",
          "y": 0.2962962962962963,
          "yanchor": "bottom",
          "yref": "paper"
         },
         {
          "font": {
           "size": 16
          },
          "showarrow": false,
          "text": "Serviço Social",
          "x": 0.8555555555555556,
          "xanchor": "center",
          "xref": "paper",
          "y": 0.2962962962962963,
          "yanchor": "bottom",
          "yref": "paper"
         },
         {
          "font": {
           "size": 16
          },
          "showarrow": false,
          "text": "UTI Adulto",
          "x": 0.14444444444444446,
          "xanchor": "center",
          "xref": "paper",
          "y": 0.17901234567901234,
          "yanchor": "bottom",
          "yref": "paper"
         },
         {
          "font": {
           "size": 16
          },
          "showarrow": false,
          "text": "UTI Covid",
          "x": 0.5,
          "xanchor": "center",
          "xref": "paper",
          "y": 0.17901234567901234,
          "yanchor": "bottom",
          "yref": "paper"
         },
         {
          "font": {
           "size": 16
          },
          "showarrow": false,
          "text": "UTI Pediátrica",
          "x": 0.8555555555555556,
          "xanchor": "center",
          "xref": "paper",
          "y": 0.17901234567901234,
          "yanchor": "bottom",
          "yref": "paper"
         },
         {
          "font": {
           "size": 16
          },
          "showarrow": false,
          "text": "Unidade de Origem do Paciente",
          "x": 0.14444444444444446,
          "xanchor": "center",
          "xref": "paper",
          "y": 0.0617283950617284,
          "yanchor": "bottom",
          "yref": "paper"
         },
         {
          "font": {
           "size": 16
          },
          "showarrow": false,
          "text": "Vigilância (Portaria)",
          "x": 0.5,
          "xanchor": "center",
          "xref": "paper",
          "y": 0.0617283950617284,
          "yanchor": "bottom",
          "yref": "paper"
         }
        ],
        "coloraxis": {
         "colorscale": [
          [
           0,
           "rgb(255,0,0)"
          ],
          [
           1,
           "rgb(0,0,255)"
          ]
         ]
        },
        "height": 2500,
        "showlegend": false,
        "template": {
         "data": {
          "bar": [
           {
            "error_x": {
             "color": "#2a3f5f"
            },
            "error_y": {
             "color": "#2a3f5f"
            },
            "marker": {
             "line": {
              "color": "white",
              "width": 0.5
             },
             "pattern": {
              "fillmode": "overlay",
              "size": 10,
              "solidity": 0.2
             }
            },
            "type": "bar"
           }
          ],
          "barpolar": [
           {
            "marker": {
             "line": {
              "color": "white",
              "width": 0.5
             },
             "pattern": {
              "fillmode": "overlay",
              "size": 10,
              "solidity": 0.2
             }
            },
            "type": "barpolar"
           }
          ],
          "carpet": [
           {
            "aaxis": {
             "endlinecolor": "#2a3f5f",
             "gridcolor": "#C8D4E3",
             "linecolor": "#C8D4E3",
             "minorgridcolor": "#C8D4E3",
             "startlinecolor": "#2a3f5f"
            },
            "baxis": {
             "endlinecolor": "#2a3f5f",
             "gridcolor": "#C8D4E3",
             "linecolor": "#C8D4E3",
             "minorgridcolor": "#C8D4E3",
             "startlinecolor": "#2a3f5f"
            },
            "type": "carpet"
           }
          ],
          "choropleth": [
           {
            "colorbar": {
             "outlinewidth": 0,
             "ticks": ""
            },
            "type": "choropleth"
           }
          ],
          "contour": [
           {
            "colorbar": {
             "outlinewidth": 0,
             "ticks": ""
            },
            "colorscale": [
             [
              0,
              "#0d0887"
             ],
             [
              0.1111111111111111,
              "#46039f"
             ],
             [
              0.2222222222222222,
              "#7201a8"
             ],
             [
              0.3333333333333333,
              "#9c179e"
             ],
             [
              0.4444444444444444,
              "#bd3786"
             ],
             [
              0.5555555555555556,
              "#d8576b"
             ],
             [
              0.6666666666666666,
              "#ed7953"
             ],
             [
              0.7777777777777778,
              "#fb9f3a"
             ],
             [
              0.8888888888888888,
              "#fdca26"
             ],
             [
              1,
              "#f0f921"
             ]
            ],
            "type": "contour"
           }
          ],
          "contourcarpet": [
           {
            "colorbar": {
             "outlinewidth": 0,
             "ticks": ""
            },
            "type": "contourcarpet"
           }
          ],
          "heatmap": [
           {
            "colorbar": {
             "outlinewidth": 0,
             "ticks": ""
            },
            "colorscale": [
             [
              0,
              "#0d0887"
             ],
             [
              0.1111111111111111,
              "#46039f"
             ],
             [
              0.2222222222222222,
              "#7201a8"
             ],
             [
              0.3333333333333333,
              "#9c179e"
             ],
             [
              0.4444444444444444,
              "#bd3786"
             ],
             [
              0.5555555555555556,
              "#d8576b"
             ],
             [
              0.6666666666666666,
              "#ed7953"
             ],
             [
              0.7777777777777778,
              "#fb9f3a"
             ],
             [
              0.8888888888888888,
              "#fdca26"
             ],
             [
              1,
              "#f0f921"
             ]
            ],
            "type": "heatmap"
           }
          ],
          "heatmapgl": [
           {
            "colorbar": {
             "outlinewidth": 0,
             "ticks": ""
            },
            "colorscale": [
             [
              0,
              "#0d0887"
             ],
             [
              0.1111111111111111,
              "#46039f"
             ],
             [
              0.2222222222222222,
              "#7201a8"
             ],
             [
              0.3333333333333333,
              "#9c179e"
             ],
             [
              0.4444444444444444,
              "#bd3786"
             ],
             [
              0.5555555555555556,
              "#d8576b"
             ],
             [
              0.6666666666666666,
              "#ed7953"
             ],
             [
              0.7777777777777778,
              "#fb9f3a"
             ],
             [
              0.8888888888888888,
              "#fdca26"
             ],
             [
              1,
              "#f0f921"
             ]
            ],
            "type": "heatmapgl"
           }
          ],
          "histogram": [
           {
            "marker": {
             "pattern": {
              "fillmode": "overlay",
              "size": 10,
              "solidity": 0.2
             }
            },
            "type": "histogram"
           }
          ],
          "histogram2d": [
           {
            "colorbar": {
             "outlinewidth": 0,
             "ticks": ""
            },
            "colorscale": [
             [
              0,
              "#0d0887"
             ],
             [
              0.1111111111111111,
              "#46039f"
             ],
             [
              0.2222222222222222,
              "#7201a8"
             ],
             [
              0.3333333333333333,
              "#9c179e"
             ],
             [
              0.4444444444444444,
              "#bd3786"
             ],
             [
              0.5555555555555556,
              "#d8576b"
             ],
             [
              0.6666666666666666,
              "#ed7953"
             ],
             [
              0.7777777777777778,
              "#fb9f3a"
             ],
             [
              0.8888888888888888,
              "#fdca26"
             ],
             [
              1,
              "#f0f921"
             ]
            ],
            "type": "histogram2d"
           }
          ],
          "histogram2dcontour": [
           {
            "colorbar": {
             "outlinewidth": 0,
             "ticks": ""
            },
            "colorscale": [
             [
              0,
              "#0d0887"
             ],
             [
              0.1111111111111111,
              "#46039f"
             ],
             [
              0.2222222222222222,
              "#7201a8"
             ],
             [
              0.3333333333333333,
              "#9c179e"
             ],
             [
              0.4444444444444444,
              "#bd3786"
             ],
             [
              0.5555555555555556,
              "#d8576b"
             ],
             [
              0.6666666666666666,
              "#ed7953"
             ],
             [
              0.7777777777777778,
              "#fb9f3a"
             ],
             [
              0.8888888888888888,
              "#fdca26"
             ],
             [
              1,
              "#f0f921"
             ]
            ],
            "type": "histogram2dcontour"
           }
          ],
          "mesh3d": [
           {
            "colorbar": {
             "outlinewidth": 0,
             "ticks": ""
            },
            "type": "mesh3d"
           }
          ],
          "parcoords": [
           {
            "line": {
             "colorbar": {
              "outlinewidth": 0,
              "ticks": ""
             }
            },
            "type": "parcoords"
           }
          ],
          "pie": [
           {
            "automargin": true,
            "type": "pie"
           }
          ],
          "scatter": [
           {
            "fillpattern": {
             "fillmode": "overlay",
             "size": 10,
             "solidity": 0.2
            },
            "type": "scatter"
           }
          ],
          "scatter3d": [
           {
            "line": {
             "colorbar": {
              "outlinewidth": 0,
              "ticks": ""
             }
            },
            "marker": {
             "colorbar": {
              "outlinewidth": 0,
              "ticks": ""
             }
            },
            "type": "scatter3d"
           }
          ],
          "scattercarpet": [
           {
            "marker": {
             "colorbar": {
              "outlinewidth": 0,
              "ticks": ""
             }
            },
            "type": "scattercarpet"
           }
          ],
          "scattergeo": [
           {
            "marker": {
             "colorbar": {
              "outlinewidth": 0,
              "ticks": ""
             }
            },
            "type": "scattergeo"
           }
          ],
          "scattergl": [
           {
            "marker": {
             "colorbar": {
              "outlinewidth": 0,
              "ticks": ""
             }
            },
            "type": "scattergl"
           }
          ],
          "scattermapbox": [
           {
            "marker": {
             "colorbar": {
              "outlinewidth": 0,
              "ticks": ""
             }
            },
            "type": "scattermapbox"
           }
          ],
          "scatterpolar": [
           {
            "marker": {
             "colorbar": {
              "outlinewidth": 0,
              "ticks": ""
             }
            },
            "type": "scatterpolar"
           }
          ],
          "scatterpolargl": [
           {
            "marker": {
             "colorbar": {
              "outlinewidth": 0,
              "ticks": ""
             }
            },
            "type": "scatterpolargl"
           }
          ],
          "scatterternary": [
           {
            "marker": {
             "colorbar": {
              "outlinewidth": 0,
              "ticks": ""
             }
            },
            "type": "scatterternary"
           }
          ],
          "surface": [
           {
            "colorbar": {
             "outlinewidth": 0,
             "ticks": ""
            },
            "colorscale": [
             [
              0,
              "#0d0887"
             ],
             [
              0.1111111111111111,
              "#46039f"
             ],
             [
              0.2222222222222222,
              "#7201a8"
             ],
             [
              0.3333333333333333,
              "#9c179e"
             ],
             [
              0.4444444444444444,
              "#bd3786"
             ],
             [
              0.5555555555555556,
              "#d8576b"
             ],
             [
              0.6666666666666666,
              "#ed7953"
             ],
             [
              0.7777777777777778,
              "#fb9f3a"
             ],
             [
              0.8888888888888888,
              "#fdca26"
             ],
             [
              1,
              "#f0f921"
             ]
            ],
            "type": "surface"
           }
          ],
          "table": [
           {
            "cells": {
             "fill": {
              "color": "#EBF0F8"
             },
             "line": {
              "color": "white"
             }
            },
            "header": {
             "fill": {
              "color": "#C8D4E3"
             },
             "line": {
              "color": "white"
             }
            },
            "type": "table"
           }
          ]
         },
         "layout": {
          "annotationdefaults": {
           "arrowcolor": "#2a3f5f",
           "arrowhead": 0,
           "arrowwidth": 1
          },
          "autotypenumbers": "strict",
          "coloraxis": {
           "colorbar": {
            "outlinewidth": 0,
            "ticks": ""
           }
          },
          "colorscale": {
           "diverging": [
            [
             0,
             "#8e0152"
            ],
            [
             0.1,
             "#c51b7d"
            ],
            [
             0.2,
             "#de77ae"
            ],
            [
             0.3,
             "#f1b6da"
            ],
            [
             0.4,
             "#fde0ef"
            ],
            [
             0.5,
             "#f7f7f7"
            ],
            [
             0.6,
             "#e6f5d0"
            ],
            [
             0.7,
             "#b8e186"
            ],
            [
             0.8,
             "#7fbc41"
            ],
            [
             0.9,
             "#4d9221"
            ],
            [
             1,
             "#276419"
            ]
           ],
           "sequential": [
            [
             0,
             "#0d0887"
            ],
            [
             0.1111111111111111,
             "#46039f"
            ],
            [
             0.2222222222222222,
             "#7201a8"
            ],
            [
             0.3333333333333333,
             "#9c179e"
            ],
            [
             0.4444444444444444,
             "#bd3786"
            ],
            [
             0.5555555555555556,
             "#d8576b"
            ],
            [
             0.6666666666666666,
             "#ed7953"
            ],
            [
             0.7777777777777778,
             "#fb9f3a"
            ],
            [
             0.8888888888888888,
             "#fdca26"
            ],
            [
             1,
             "#f0f921"
            ]
           ],
           "sequentialminus": [
            [
             0,
             "#0d0887"
            ],
            [
             0.1111111111111111,
             "#46039f"
            ],
            [
             0.2222222222222222,
             "#7201a8"
            ],
            [
             0.3333333333333333,
             "#9c179e"
            ],
            [
             0.4444444444444444,
             "#bd3786"
            ],
            [
             0.5555555555555556,
             "#d8576b"
            ],
            [
             0.6666666666666666,
             "#ed7953"
            ],
            [
             0.7777777777777778,
             "#fb9f3a"
            ],
            [
             0.8888888888888888,
             "#fdca26"
            ],
            [
             1,
             "#f0f921"
            ]
           ]
          },
          "colorway": [
           "#636efa",
           "#EF553B",
           "#00cc96",
           "#ab63fa",
           "#FFA15A",
           "#19d3f3",
           "#FF6692",
           "#B6E880",
           "#FF97FF",
           "#FECB52"
          ],
          "font": {
           "color": "#2a3f5f"
          },
          "geo": {
           "bgcolor": "white",
           "lakecolor": "white",
           "landcolor": "white",
           "showlakes": true,
           "showland": true,
           "subunitcolor": "#C8D4E3"
          },
          "hoverlabel": {
           "align": "left"
          },
          "hovermode": "closest",
          "mapbox": {
           "style": "light"
          },
          "paper_bgcolor": "white",
          "plot_bgcolor": "white",
          "polar": {
           "angularaxis": {
            "gridcolor": "#EBF0F8",
            "linecolor": "#EBF0F8",
            "ticks": ""
           },
           "bgcolor": "white",
           "radialaxis": {
            "gridcolor": "#EBF0F8",
            "linecolor": "#EBF0F8",
            "ticks": ""
           }
          },
          "scene": {
           "xaxis": {
            "backgroundcolor": "white",
            "gridcolor": "#DFE8F3",
            "gridwidth": 2,
            "linecolor": "#EBF0F8",
            "showbackground": true,
            "ticks": "",
            "zerolinecolor": "#EBF0F8"
           },
           "yaxis": {
            "backgroundcolor": "white",
            "gridcolor": "#DFE8F3",
            "gridwidth": 2,
            "linecolor": "#EBF0F8",
            "showbackground": true,
            "ticks": "",
            "zerolinecolor": "#EBF0F8"
           },
           "zaxis": {
            "backgroundcolor": "white",
            "gridcolor": "#DFE8F3",
            "gridwidth": 2,
            "linecolor": "#EBF0F8",
            "showbackground": true,
            "ticks": "",
            "zerolinecolor": "#EBF0F8"
           }
          },
          "shapedefaults": {
           "line": {
            "color": "#2a3f5f"
           }
          },
          "ternary": {
           "aaxis": {
            "gridcolor": "#DFE8F3",
            "linecolor": "#A2B1C6",
            "ticks": ""
           },
           "baxis": {
            "gridcolor": "#DFE8F3",
            "linecolor": "#A2B1C6",
            "ticks": ""
           },
           "bgcolor": "white",
           "caxis": {
            "gridcolor": "#DFE8F3",
            "linecolor": "#A2B1C6",
            "ticks": ""
           }
          },
          "title": {
           "x": 0.05
          },
          "xaxis": {
           "automargin": true,
           "gridcolor": "#EBF0F8",
           "linecolor": "#EBF0F8",
           "ticks": "",
           "title": {
            "standoff": 15
           },
           "zerolinecolor": "#EBF0F8",
           "zerolinewidth": 2
          },
          "yaxis": {
           "automargin": true,
           "gridcolor": "#EBF0F8",
           "linecolor": "#EBF0F8",
           "ticks": "",
           "title": {
            "standoff": 15
           },
           "zerolinecolor": "#EBF0F8",
           "zerolinewidth": 2
          }
         }
        },
        "title": {
         "text": "Multiple Subplots with Titles"
        },
        "width": 1000,
        "xaxis": {
         "anchor": "y",
         "autorange": true,
         "domain": [
          0,
          0.2888888888888889
         ],
         "range": [
          "2023-01-31 23:59:59.9995",
          "2023-02-01 00:00:00.0005"
         ],
         "type": "date"
        },
        "xaxis10": {
         "anchor": "y10",
         "autorange": true,
         "domain": [
          0,
          0.2888888888888889
         ],
         "range": [
          "2022-06-15 12:00",
          "2023-01-16 12:00"
         ],
         "type": "date"
        },
        "xaxis11": {
         "anchor": "y11",
         "autorange": true,
         "domain": [
          0.35555555555555557,
          0.6444444444444445
         ],
         "range": [
          "2022-12-31 23:59:59.9995",
          "2023-01-01 00:00:00.0005"
         ],
         "type": "date"
        },
        "xaxis12": {
         "anchor": "y12",
         "autorange": true,
         "domain": [
          0.7111111111111111,
          1
         ],
         "range": [
          "2023-01-31 23:59:59.9995",
          "2023-02-01 00:00:00.0005"
         ],
         "type": "date"
        },
        "xaxis13": {
         "anchor": "y13",
         "autorange": true,
         "domain": [
          0,
          0.2888888888888889
         ],
         "range": [
          "2022-01-16 12:00",
          "2023-02-16 12:00"
         ],
         "type": "date"
        },
        "xaxis14": {
         "anchor": "y14",
         "autorange": true,
         "domain": [
          0.35555555555555557,
          0.6444444444444445
         ],
         "range": [
          "2022-05-16 12:00",
          "2023-02-16 12:00"
         ],
         "type": "date"
        },
        "xaxis15": {
         "anchor": "y15",
         "autorange": true,
         "domain": [
          0.7111111111111111,
          1
         ],
         "range": [
          "2022-12-31 23:59:59.9995",
          "2023-01-01 00:00:00.0005"
         ],
         "type": "date"
        },
        "xaxis16": {
         "anchor": "y16",
         "autorange": true,
         "domain": [
          0,
          0.2888888888888889
         ],
         "range": [
          "2022-03-31 23:59:59.9995",
          "2022-04-01 00:00:00.0005"
         ],
         "type": "date"
        },
        "xaxis17": {
         "anchor": "y17",
         "autorange": true,
         "domain": [
          0.35555555555555557,
          0.6444444444444445
         ],
         "range": [
          "2022-11-15 12:00",
          "2023-02-16 12:00"
         ],
         "type": "date"
        },
        "xaxis18": {
         "anchor": "y18",
         "autorange": true,
         "domain": [
          0.7111111111111111,
          1
         ],
         "range": [
          "2022-11-15 12:00",
          "2023-01-16 12:00"
         ],
         "type": "date"
        },
        "xaxis19": {
         "anchor": "y19",
         "autorange": true,
         "domain": [
          0,
          0.2888888888888889
         ],
         "range": [
          "2022-11-30 23:59:59.9995",
          "2022-12-01 00:00:00.0005"
         ],
         "type": "date"
        },
        "xaxis2": {
         "anchor": "y2",
         "autorange": true,
         "domain": [
          0.35555555555555557,
          0.6444444444444445
         ],
         "range": [
          "2022-03-17",
          "2023-02-16"
         ],
         "type": "date"
        },
        "xaxis20": {
         "anchor": "y20",
         "autorange": true,
         "domain": [
          0.35555555555555557,
          0.6444444444444445
         ],
         "range": [
          "2022-12-16 12:00",
          "2023-02-16 12:00"
         ],
         "type": "date"
        },
        "xaxis21": {
         "anchor": "y21",
         "autorange": true,
         "domain": [
          0.7111111111111111,
          1
         ],
         "range": [
          "2022-12-31 23:59:59.9995",
          "2023-01-01 00:00:00.0005"
         ],
         "type": "date"
        },
        "xaxis22": {
         "anchor": "y22",
         "autorange": true,
         "domain": [
          0,
          0.2888888888888889
         ],
         "range": [
          "2022-01-17",
          "2023-02-16"
         ],
         "type": "date"
        },
        "xaxis23": {
         "anchor": "y23",
         "autorange": true,
         "domain": [
          0.35555555555555557,
          0.6444444444444445
         ],
         "range": [
          "2021-12-17",
          "2023-02-16"
         ],
         "type": "date"
        },
        "xaxis24": {
         "anchor": "y24",
         "autorange": true,
         "domain": [
          0.7111111111111111,
          1
         ],
         "range": [
          "2021-12-16 12:00",
          "2023-02-16 12:00"
         ],
         "type": "date"
        },
        "xaxis25": {
         "anchor": "y25",
         "autorange": true,
         "domain": [
          0,
          0.2888888888888889
         ],
         "range": [
          "2022-11-15 12:00",
          "2023-01-16 12:00"
         ],
         "type": "date"
        },
        "xaxis26": {
         "anchor": "y26",
         "autorange": true,
         "domain": [
          0.35555555555555557,
          0.6444444444444445
         ],
         "range": [
          "2023-01-31 23:59:59.9995",
          "2023-02-01 00:00:00.0005"
         ],
         "type": "date"
        },
        "xaxis27": {
         "anchor": "y27",
         "domain": [
          0.7111111111111111,
          1
         ]
        },
        "xaxis3": {
         "anchor": "y3",
         "autorange": true,
         "domain": [
          0.7111111111111111,
          1
         ],
         "range": [
          "2022-04-16",
          "2023-02-16"
         ],
         "type": "date"
        },
        "xaxis4": {
         "anchor": "y4",
         "autorange": true,
         "domain": [
          0,
          0.2888888888888889
         ],
         "range": [
          "2022-01-16 12:00",
          "2023-02-16 12:00"
         ],
         "type": "date"
        },
        "xaxis5": {
         "anchor": "y5",
         "autorange": true,
         "domain": [
          0.35555555555555557,
          0.6444444444444445
         ],
         "range": [
          "2021-12-17",
          "2023-10-16"
         ],
         "type": "date"
        },
        "xaxis6": {
         "anchor": "y6",
         "autorange": true,
         "domain": [
          0.7111111111111111,
          1
         ],
         "range": [
          "2021-12-17",
          "2023-02-16"
         ],
         "type": "date"
        },
        "xaxis7": {
         "anchor": "y7",
         "autorange": true,
         "domain": [
          0,
          0.2888888888888889
         ],
         "range": [
          "2022-01-17",
          "2023-02-16"
         ],
         "type": "date"
        },
        "xaxis8": {
         "anchor": "y8",
         "autorange": true,
         "domain": [
          0.35555555555555557,
          0.6444444444444445
         ],
         "range": [
          "2022-12-31 23:59:59.9995",
          "2023-01-01 00:00:00.0005"
         ],
         "type": "date"
        },
        "xaxis9": {
         "anchor": "y9",
         "autorange": true,
         "domain": [
          0.7111111111111111,
          1
         ],
         "range": [
          "2021-12-16 12:00",
          "2023-02-16 12:00"
         ],
         "type": "date"
        },
        "yaxis": {
         "anchor": "x",
         "autorange": true,
         "domain": [
          0.9382716049382716,
          1
         ],
         "range": [
          0,
          1.0526315789473684
         ],
         "type": "linear"
        },
        "yaxis10": {
         "anchor": "x10",
         "autorange": true,
         "domain": [
          0.5864197530864198,
          0.6481481481481483
         ],
         "range": [
          0,
          4.2105263157894735
         ],
         "type": "linear"
        },
        "yaxis11": {
         "anchor": "x11",
         "autorange": true,
         "domain": [
          0.5864197530864198,
          0.6481481481481483
         ],
         "range": [
          0,
          3.1578947368421053
         ],
         "type": "linear"
        },
        "yaxis12": {
         "anchor": "x12",
         "autorange": true,
         "domain": [
          0.5864197530864198,
          0.6481481481481483
         ],
         "range": [
          0,
          1.0526315789473684
         ],
         "type": "linear"
        },
        "yaxis13": {
         "anchor": "x13",
         "autorange": true,
         "domain": [
          0.4691358024691358,
          0.5308641975308642
         ],
         "range": [
          0,
          17.894736842105264
         ],
         "type": "linear"
        },
        "yaxis14": {
         "anchor": "x14",
         "autorange": true,
         "domain": [
          0.4691358024691358,
          0.5308641975308642
         ],
         "range": [
          0,
          4.2105263157894735
         ],
         "type": "linear"
        },
        "yaxis15": {
         "anchor": "x15",
         "autorange": true,
         "domain": [
          0.4691358024691358,
          0.5308641975308642
         ],
         "range": [
          0,
          2.1052631578947367
         ],
         "type": "linear"
        },
        "yaxis16": {
         "anchor": "x16",
         "autorange": true,
         "domain": [
          0.35185185185185186,
          0.41358024691358025
         ],
         "range": [
          0,
          1.0526315789473684
         ],
         "type": "linear"
        },
        "yaxis17": {
         "anchor": "x17",
         "autorange": true,
         "domain": [
          0.35185185185185186,
          0.41358024691358025
         ],
         "range": [
          0,
          6.315789473684211
         ],
         "type": "linear"
        },
        "yaxis18": {
         "anchor": "x18",
         "autorange": true,
         "domain": [
          0.35185185185185186,
          0.41358024691358025
         ],
         "range": [
          0,
          2.1052631578947367
         ],
         "type": "linear"
        },
        "yaxis19": {
         "anchor": "x19",
         "autorange": true,
         "domain": [
          0.2345679012345679,
          0.2962962962962963
         ],
         "range": [
          0,
          1.0526315789473684
         ],
         "type": "linear"
        },
        "yaxis2": {
         "anchor": "x2",
         "autorange": true,
         "domain": [
          0.9382716049382716,
          1
         ],
         "range": [
          0,
          11.578947368421053
         ],
         "type": "linear"
        },
        "yaxis20": {
         "anchor": "x20",
         "autorange": true,
         "domain": [
          0.2345679012345679,
          0.2962962962962963
         ],
         "range": [
          0,
          6.315789473684211
         ],
         "type": "linear"
        },
        "yaxis21": {
         "anchor": "x21",
         "autorange": true,
         "domain": [
          0.2345679012345679,
          0.2962962962962963
         ],
         "range": [
          0,
          1.0526315789473684
         ],
         "type": "linear"
        },
        "yaxis22": {
         "anchor": "x22",
         "autorange": true,
         "domain": [
          0.11728395061728394,
          0.17901234567901234
         ],
         "range": [
          0,
          45.26315789473684
         ],
         "type": "linear"
        },
        "yaxis23": {
         "anchor": "x23",
         "autorange": true,
         "domain": [
          0.11728395061728394,
          0.17901234567901234
         ],
         "range": [
          0,
          12.631578947368421
         ],
         "type": "linear"
        },
        "yaxis24": {
         "anchor": "x24",
         "autorange": true,
         "domain": [
          0.11728395061728394,
          0.17901234567901234
         ],
         "range": [
          0,
          6.315789473684211
         ],
         "type": "linear"
        },
        "yaxis25": {
         "anchor": "x25",
         "autorange": true,
         "domain": [
          0,
          0.0617283950617284
         ],
         "range": [
          0,
          1.0526315789473684
         ],
         "type": "linear"
        },
        "yaxis26": {
         "anchor": "x26",
         "autorange": true,
         "domain": [
          0,
          0.0617283950617284
         ],
         "range": [
          0,
          1.0526315789473684
         ],
         "type": "linear"
        },
        "yaxis27": {
         "anchor": "x27",
         "domain": [
          0,
          0.0617283950617284
         ]
        },
        "yaxis3": {
         "anchor": "x3",
         "autorange": true,
         "domain": [
          0.9382716049382716,
          1
         ],
         "range": [
          0,
          5.2631578947368425
         ],
         "type": "linear"
        },
        "yaxis4": {
         "anchor": "x4",
         "autorange": true,
         "domain": [
          0.8209876543209876,
          0.8827160493827161
         ],
         "range": [
          0,
          25.263157894736842
         ],
         "type": "linear"
        },
        "yaxis5": {
         "anchor": "x5",
         "autorange": true,
         "domain": [
          0.8209876543209876,
          0.8827160493827161
         ],
         "range": [
          0,
          46.31578947368421
         ],
         "type": "linear"
        },
        "yaxis6": {
         "anchor": "x6",
         "autorange": true,
         "domain": [
          0.8209876543209876,
          0.8827160493827161
         ],
         "range": [
          0,
          8.421052631578947
         ],
         "type": "linear"
        },
        "yaxis7": {
         "anchor": "x7",
         "autorange": true,
         "domain": [
          0.7037037037037037,
          0.7654320987654322
         ],
         "range": [
          0,
          7.368421052631579
         ],
         "type": "linear"
        },
        "yaxis8": {
         "anchor": "x8",
         "autorange": true,
         "domain": [
          0.7037037037037037,
          0.7654320987654322
         ],
         "range": [
          0,
          4.2105263157894735
         ],
         "type": "linear"
        },
        "yaxis9": {
         "anchor": "x9",
         "autorange": true,
         "domain": [
          0.7037037037037037,
          0.7654320987654322
         ],
         "range": [
          0,
          3.1578947368421053
         ],
         "type": "linear"
        }
       }
      },
      "image/png": "[encoded data removed]",
      "text/html": [
       "<div>                            <div id=\"034c194d-7f4e-41d1-a0c3-11922578511f\" class=\"plotly-graph-div\" style=\"height:2500px; width:1000px;\"></div>            <script type=\"text/javascript\">                require([\"plotly\"], function(Plotly) {                    window.PLOTLYENV=window.PLOTLYENV || {};                                    if (document.getElementById(\"034c194d-7f4e-41d1-a0c3-11922578511f\")) {                    Plotly.newPlot(                        \"034c194d-7f4e-41d1-a0c3-11922578511f\",                        [{\"x\":[\"2023-02-01T00:00:00\"],\"y\":[1],\"type\":\"bar\",\"xaxis\":\"x\",\"yaxis\":\"y\"},{\"x\":[\"2022-04-01T00:00:00\",\"2022-11-01T00:00:00\",\"2022-12-01T00:00:00\",\"2023-01-01T00:00:00\",\"2023-02-01T00:00:00\"],\"y\":[2,1,11,5,4],\"type\":\"bar\",\"xaxis\":\"x2\",\"yaxis\":\"y2\"},{\"x\":[\"2022-05-01T00:00:00\",\"2022-11-01T00:00:00\",\"2022-12-01T00:00:00\",\"2023-01-01T00:00:00\",\"2023-02-01T00:00:00\"],\"y\":[1,3,3,4,5],\"type\":\"bar\",\"xaxis\":\"x3\",\"yaxis\":\"y3\"},{\"x\":[\"2022-02-01T00:00:00\",\"2022-04-01T00:00:00\",\"2022-08-01T00:00:00\",\"2022-10-01T00:00:00\",\"2022-12-01T00:00:00\",\"2023-01-01T00:00:00\",\"2023-02-01T00:00:00\"],\"y\":[2,1,3,2,9,24,10],\"type\":\"bar\",\"xaxis\":\"x4\",\"yaxis\":\"y4\"},{\"x\":[\"2022-01-01T00:00:00\",\"2022-02-01T00:00:00\",\"2022-04-01T00:00:00\",\"2022-06-01T00:00:00\",\"2022-07-01T00:00:00\",\"2022-09-01T00:00:00\",\"2022-10-01T00:00:00\",\"2022-11-01T00:00:00\",\"2022-12-01T00:00:00\",\"2023-01-01T00:00:00\",\"2023-02-01T00:00:00\",\"2023-10-01T00:00:00\"],\"y\":[3,1,1,1,4,1,1,2,16,44,22,1],\"type\":\"bar\",\"xaxis\":\"x5\",\"yaxis\":\"y5\"},{\"x\":[\"2022-01-01T00:00:00\",\"2022-02-01T00:00:00\",\"2022-07-01T00:00:00\",\"2022-11-01T00:00:00\",\"2022-12-01T00:00:00\",\"2023-01-01T00:00:00\",\"2023-02-01T00:00:00\"],\"y\":[1,1,3,2,8,7,2],\"type\":\"bar\",\"xaxis\":\"x6\",\"yaxis\":\"y6\"},{\"x\":[\"2022-02-01T00:00:00\",\"2022-04-01T00:00:00\",\"2022-11-01T00:00:00\",\"2022-12-01T00:00:00\",\"2023-01-01T00:00:00\",\"2023-02-01T00:00:00\"],\"y\":[1,1,2,7,4,4],\"type\":\"bar\",\"xaxis\":\"x7\",\"yaxis\":\"y7\"},{\"x\":[\"2023-01-01T00:00:00\"],\"y\":[4],\"type\":\"bar\",\"xaxis\":\"x8\",\"yaxis\":\"y8\"},{\"x\":[\"2022-01-01T00:00:00\",\"2022-10-01T00:00:00\",\"2022-12-01T00:00:00\",\"2023-01-01T00:00:00\",\"2023-02-01T00:00:00\"],\"y\":[1,1,2,1,3],\"type\":\"bar\",\"xaxis\":\"x9\",\"yaxis\":\"y9\"},{\"x\":[\"2022-07-01T00:00:00\",\"2022-12-01T00:00:00\",\"2023-01-01T00:00:00\"],\"y\":[1,1,4],\"type\":\"bar\",\"xaxis\":\"x10\",\"yaxis\":\"y10\"},{\"x\":[\"2023-01-01T00:00:00\"],\"y\":[3],\"type\":\"bar\",\"xaxis\":\"x11\",\"yaxis\":\"y11\"},{\"x\":[\"2023-02-01T00:00:00\"],\"y\":[1],\"type\":\"bar\",\"xaxis\":\"x12\",\"yaxis\":\"y12\"},{\"x\":[\"2022-02-01T00:00:00\",\"2022-05-01T00:00:00\",\"2022-08-01T00:00:00\",\"2022-10-01T00:00:00\",\"2022-12-01T00:00:00\",\"2023-01-01T00:00:00\",\"2023-02-01T00:00:00\"],\"y\":[1,2,1,2,4,17,14],\"type\":\"bar\",\"xaxis\":\"x13\",\"yaxis\":\"y13\"},{\"x\":[\"2022-06-01T00:00:00\",\"2022-12-01T00:00:00\",\"2023-01-01T00:00:00\",\"2023-02-01T00:00:00\"],\"y\":[1,2,4,2],\"type\":\"bar\",\"xaxis\":\"x14\",\"yaxis\":\"y14\"},{\"x\":[\"2023-01-01T00:00:00\"],\"y\":[2],\"type\":\"bar\",\"xaxis\":\"x15\",\"yaxis\":\"y15\"},{\"x\":[\"2022-04-01T00:00:00\"],\"y\":[1],\"type\":\"bar\",\"xaxis\":\"x16\",\"yaxis\":\"y16\"},{\"x\":[\"2022-12-01T00:00:00\",\"2023-01-01T00:00:00\",\"2023-02-01T00:00:00\"],\"y\":[2,4,6],\"type\":\"bar\",\"xaxis\":\"x17\",\"yaxis\":\"y17\"},{\"x\":[\"2022-12-01T00:00:00\",\"2023-01-01T00:00:00\"],\"y\":[2,1],\"type\":\"bar\",\"xaxis\":\"x18\",\"yaxis\":\"y18\"},{\"x\":[\"2022-12-01T00:00:00\"],\"y\":[1],\"type\":\"bar\",\"xaxis\":\"x19\",\"yaxis\":\"y19\"},{\"x\":[\"2023-01-01T00:00:00\",\"2023-02-01T00:00:00\"],\"y\":[3,6],\"type\":\"bar\",\"xaxis\":\"x20\",\"yaxis\":\"y20\"},{\"x\":[\"2023-01-01T00:00:00\"],\"y\":[1],\"type\":\"bar\",\"xaxis\":\"x21\",\"yaxis\":\"y21\"},{\"x\":[\"2022-02-01T00:00:00\",\"2022-04-01T00:00:00\",\"2022-05-01T00:00:00\",\"2022-07-01T00:00:00\",\"2022-08-01T00:00:00\",\"2022-09-01T00:00:00\",\"2022-12-01T00:00:00\",\"2023-01-01T00:00:00\",\"2023-02-01T00:00:00\"],\"y\":[1,1,1,1,3,3,17,43,24],\"type\":\"bar\",\"xaxis\":\"x22\",\"yaxis\":\"y22\"},{\"x\":[\"2022-01-01T00:00:00\",\"2022-06-01T00:00:00\",\"2022-07-01T00:00:00\",\"2022-09-01T00:00:00\",\"2022-10-01T00:00:00\",\"2022-12-01T00:00:00\",\"2023-01-01T00:00:00\",\"2023-02-01T00:00:00\"],\"y\":[1,1,2,2,2,12,12,9],\"type\":\"bar\",\"xaxis\":\"x23\",\"yaxis\":\"y23\"},{\"x\":[\"2022-01-01T00:00:00\",\"2022-02-01T00:00:00\",\"2022-12-01T00:00:00\",\"2023-01-01T00:00:00\",\"2023-02-01T00:00:00\"],\"y\":[1,2,6,3,5],\"type\":\"bar\",\"xaxis\":\"x24\",\"yaxis\":\"y24\"},{\"x\":[\"2022-12-01T00:00:00\",\"2023-01-01T00:00:00\"],\"y\":[1,1],\"type\":\"bar\",\"xaxis\":\"x25\",\"yaxis\":\"y25\"},{\"x\":[\"2023-02-01T00:00:00\"],\"y\":[1],\"type\":\"bar\",\"xaxis\":\"x26\",\"yaxis\":\"y26\"}],                        {\"template\":{\"data\":{\"barpolar\":[{\"marker\":{\"line\":{\"color\":\"white\",\"width\":0.5},\"pattern\":{\"fillmode\":\"overlay\",\"size\":10,\"solidity\":0.2}},\"type\":\"barpolar\"}],\"bar\":[{\"error_x\":{\"color\":\"#2a3f5f\"},\"error_y\":{\"color\":\"#2a3f5f\"},\"marker\":{\"line\":{\"color\":\"white\",\"width\":0.5},\"pattern\":{\"fillmode\":\"overlay\",\"size\":10,\"solidity\":0.2}},\"type\":\"bar\"}],\"carpet\":[{\"aaxis\":{\"endlinecolor\":\"#2a3f5f\",\"gridcolor\":\"#C8D4E3\",\"linecolor\":\"#C8D4E3\",\"minorgridcolor\":\"#C8D4E3\",\"startlinecolor\":\"#2a3f5f\"},\"baxis\":{\"endlinecolor\":\"#2a3f5f\",\"gridcolor\":\"#C8D4E3\",\"linecolor\":\"#C8D4E3\",\"minorgridcolor\":\"#C8D4E3\",\"startlinecolor\":\"#2a3f5f\"},\"type\":\"carpet\"}],\"choropleth\":[{\"colorbar\":{\"outlinewidth\":0,\"ticks\":\"\"},\"type\":\"choropleth\"}],\"contourcarpet\":[{\"colorbar\":{\"outlinewidth\":0,\"ticks\":\"\"},\"type\":\"contourcarpet\"}],\"contour\":[{\"colorbar\":{\"outlinewidth\":0,\"ticks\":\"\"},\"colorscale\":[[0.0,\"#0d0887\"],[0.1111111111111111,\"#46039f\"],[0.2222222222222222,\"#7201a8\"],[0.3333333333333333,\"#9c179e\"],[0.4444444444444444,\"#bd3786\"],[0.5555555555555556,\"#d8576b\"],[0.6666666666666666,\"#ed7953\"],[0.7777777777777778,\"#fb9f3a\"],[0.8888888888888888,\"#fdca26\"],[1.0,\"#f0f921\"]],\"type\":\"contour\"}],\"heatmapgl\":[{\"colorbar\":{\"outlinewidth\":0,\"ticks\":\"\"},\"colorscale\":[[0.0,\"#0d0887\"],[0.1111111111111111,\"#46039f\"],[0.2222222222222222,\"#7201a8\"],[0.3333333333333333,\"#9c179e\"],[0.4444444444444444,\"#bd3786\"],[0.5555555555555556,\"#d8576b\"],[0.6666666666666666,\"#ed7953\"],[0.7777777777777778,\"#fb9f3a\"],[0.8888888888888888,\"#fdca26\"],[1.0,\"#f0f921\"]],\"type\":\"heatmapgl\"}],\"heatmap\":[{\"colorbar\":{\"outlinewidth\":0,\"ticks\":\"\"},\"colorscale\":[[0.0,\"#0d0887\"],[0.1111111111111111,\"#46039f\"],[0.2222222222222222,\"#7201a8\"],[0.3333333333333333,\"#9c179e\"],[0.4444444444444444,\"#bd3786\"],[0.5555555555555556,\"#d8576b\"],[0.6666666666666666,\"#ed7953\"],[0.7777777777777778,\"#fb9f3a\"],[0.8888888888888888,\"#fdca26\"],[1.0,\"#f0f921\"]],\"type\":\"heatmap\"}],\"histogram2dcontour\":[{\"colorbar\":{\"outlinewidth\":0,\"ticks\":\"\"},\"colorscale\":[[0.0,\"#0d0887\"],[0.1111111111111111,\"#46039f\"],[0.2222222222222222,\"#7201a8\"],[0.3333333333333333,\"#9c179e\"],[0.4444444444444444,\"#bd3786\"],[0.5555555555555556,\"#d8576b\"],[0.6666666666666666,\"#ed7953\"],[0.7777777777777778,\"#fb9f3a\"],[0.8888888888888888,\"#fdca26\"],[1.0,\"#f0f921\"]],\"type\":\"histogram2dcontour\"}],\"histogram2d\":[{\"colorbar\":{\"outlinewidth\":0,\"ticks\":\"\"},\"colorscale\":[[0.0,\"#0d0887\"],[0.1111111111111111,\"#46039f\"],[0.2222222222222222,\"#7201a8\"],[0.3333333333333333,\"#9c179e\"],[0.4444444444444444,\"#bd3786\"],[0.5555555555555556,\"#d8576b\"],[0.6666666666666666,\"#ed7953\"],[0.7777777777777778,\"#fb9f3a\"],[0.8888888888888888,\"#fdca26\"],[1.0,\"#f0f921\"]],\"type\":\"histogram2d\"}],\"histogram\":[{\"marker\":{\"pattern\":{\"fillmode\":\"overlay\",\"size\":10,\"solidity\":0.2}},\"type\":\"histogram\"}],\"mesh3d\":[{\"colorbar\":{\"outlinewidth\":0,\"ticks\":\"\"},\"type\":\"mesh3d\"}],\"parcoords\":[{\"line\":{\"colorbar\":{\"outlinewidth\":0,\"ticks\":\"\"}},\"type\":\"parcoords\"}],\"pie\":[{\"automargin\":true,\"type\":\"pie\"}],\"scatter3d\":[{\"line\":{\"colorbar\":{\"outlinewidth\":0,\"ticks\":\"\"}},\"marker\":{\"colorbar\":{\"outlinewidth\":0,\"ticks\":\"\"}},\"type\":\"scatter3d\"}],\"scattercarpet\":[{\"marker\":{\"colorbar\":{\"outlinewidth\":0,\"ticks\":\"\"}},\"type\":\"scattercarpet\"}],\"scattergeo\":[{\"marker\":{\"colorbar\":{\"outlinewidth\":0,\"ticks\":\"\"}},\"type\":\"scattergeo\"}],\"scattergl\":[{\"marker\":{\"colorbar\":{\"outlinewidth\":0,\"ticks\":\"\"}},\"type\":\"scattergl\"}],\"scattermapbox\":[{\"marker\":{\"colorbar\":{\"outlinewidth\":0,\"ticks\":\"\"}},\"type\":\"scattermapbox\"}],\"scatterpolargl\":[{\"marker\":{\"colorbar\":{\"outlinewidth\":0,\"ticks\":\"\"}},\"type\":\"scatterpolargl\"}],\"scatterpolar\":[{\"marker\":{\"colorbar\":{\"outlinewidth\":0,\"ticks\":\"\"}},\"type\":\"scatterpolar\"}],\"scatter\":[{\"fillpattern\":{\"fillmode\":\"overlay\",\"size\":10,\"solidity\":0.2},\"type\":\"scatter\"}],\"scatterternary\":[{\"marker\":{\"colorbar\":{\"outlinewidth\":0,\"ticks\":\"\"}},\"type\":\"scatterternary\"}],\"surface\":[{\"colorbar\":{\"outlinewidth\":0,\"ticks\":\"\"},\"colorscale\":[[0.0,\"#0d0887\"],[0.1111111111111111,\"#46039f\"],[0.2222222222222222,\"#7201a8\"],[0.3333333333333333,\"#9c179e\"],[0.4444444444444444,\"#bd3786\"],[0.5555555555555556,\"#d8576b\"],[0.6666666666666666,\"#ed7953\"],[0.7777777777777778,\"#fb9f3a\"],[0.8888888888888888,\"#fdca26\"],[1.0,\"#f0f921\"]],\"type\":\"surface\"}],\"table\":[{\"cells\":{\"fill\":{\"color\":\"#EBF0F8\"},\"line\":{\"color\":\"white\"}},\"header\":{\"fill\":{\"color\":\"#C8D4E3\"},\"line\":{\"color\":\"white\"}},\"type\":\"table\"}]},\"layout\":{\"annotationdefaults\":{\"arrowcolor\":\"#2a3f5f\",\"arrowhead\":0,\"arrowwidth\":1},\"autotypenumbers\":\"strict\",\"coloraxis\":{\"colorbar\":{\"outlinewidth\":0,\"ticks\":\"\"}},\"colorscale\":{\"diverging\":[[0,\"#8e0152\"],[0.1,\"#c51b7d\"],[0.2,\"#de77ae\"],[0.3,\"#f1b6da\"],[0.4,\"#fde0ef\"],[0.5,\"#f7f7f7\"],[0.6,\"#e6f5d0\"],[0.7,\"#b8e186\"],[0.8,\"#7fbc41\"],[0.9,\"#4d9221\"],[1,\"#276419\"]],\"sequential\":[[0.0,\"#0d0887\"],[0.1111111111111111,\"#46039f\"],[0.2222222222222222,\"#7201a8\"],[0.3333333333333333,\"#9c179e\"],[0.4444444444444444,\"#bd3786\"],[0.5555555555555556,\"#d8576b\"],[0.6666666666666666,\"#ed7953\"],[0.7777777777777778,\"#fb9f3a\"],[0.8888888888888888,\"#fdca26\"],[1.0,\"#f0f921\"]],\"sequentialminus\":[[0.0,\"#0d0887\"],[0.1111111111111111,\"#46039f\"],[0.2222222222222222,\"#7201a8\"],[0.3333333333333333,\"#9c179e\"],[0.4444444444444444,\"#bd3786\"],[0.5555555555555556,\"#d8576b\"],[0.6666666666666666,\"#ed7953\"],[0.7777777777777778,\"#fb9f3a\"],[0.8888888888888888,\"#fdca26\"],[1.0,\"#f0f921\"]]},\"colorway\":[\"#636efa\",\"#EF553B\",\"#00cc96\",\"#ab63fa\",\"#FFA15A\",\"#19d3f3\",\"#FF6692\",\"#B6E880\",\"#FF97FF\",\"#FECB52\"],\"font\":{\"color\":\"#2a3f5f\"},\"geo\":{\"bgcolor\":\"white\",\"lakecolor\":\"white\",\"landcolor\":\"white\",\"showlakes\":true,\"showland\":true,\"subunitcolor\":\"#C8D4E3\"},\"hoverlabel\":{\"align\":\"left\"},\"hovermode\":\"closest\",\"mapbox\":{\"style\":\"light\"},\"paper_bgcolor\":\"white\",\"plot_bgcolor\":\"white\",\"polar\":{\"angularaxis\":{\"gridcolor\":\"#EBF0F8\",\"linecolor\":\"#EBF0F8\",\"ticks\":\"\"},\"bgcolor\":\"white\",\"radialaxis\":{\"gridcolor\":\"#EBF0F8\",\"linecolor\":\"#EBF0F8\",\"ticks\":\"\"}},\"scene\":{\"xaxis\":{\"backgroundcolor\":\"white\",\"gridcolor\":\"#DFE8F3\",\"gridwidth\":2,\"linecolor\":\"#EBF0F8\",\"showbackground\":true,\"ticks\":\"\",\"zerolinecolor\":\"#EBF0F8\"},\"yaxis\":{\"backgroundcolor\":\"white\",\"gridcolor\":\"#DFE8F3\",\"gridwidth\":2,\"linecolor\":\"#EBF0F8\",\"showbackground\":true,\"ticks\":\"\",\"zerolinecolor\":\"#EBF0F8\"},\"zaxis\":{\"backgroundcolor\":\"white\",\"gridcolor\":\"#DFE8F3\",\"gridwidth\":2,\"linecolor\":\"#EBF0F8\",\"showbackground\":true,\"ticks\":\"\",\"zerolinecolor\":\"#EBF0F8\"}},\"shapedefaults\":{\"line\":{\"color\":\"#2a3f5f\"}},\"ternary\":{\"aaxis\":{\"gridcolor\":\"#DFE8F3\",\"linecolor\":\"#A2B1C6\",\"ticks\":\"\"},\"baxis\":{\"gridcolor\":\"#DFE8F3\",\"linecolor\":\"#A2B1C6\",\"ticks\":\"\"},\"bgcolor\":\"white\",\"caxis\":{\"gridcolor\":\"#DFE8F3\",\"linecolor\":\"#A2B1C6\",\"ticks\":\"\"}},\"title\":{\"x\":0.05},\"xaxis\":{\"automargin\":true,\"gridcolor\":\"#EBF0F8\",\"linecolor\":\"#EBF0F8\",\"ticks\":\"\",\"title\":{\"standoff\":15},\"zerolinecolor\":\"#EBF0F8\",\"zerolinewidth\":2},\"yaxis\":{\"automargin\":true,\"gridcolor\":\"#EBF0F8\",\"linecolor\":\"#EBF0F8\",\"ticks\":\"\",\"title\":{\"standoff\":15},\"zerolinecolor\":\"#EBF0F8\",\"zerolinewidth\":2}}},\"xaxis\":{\"anchor\":\"y\",\"domain\":[0.0,0.2888888888888889]},\"yaxis\":{\"anchor\":\"x\",\"domain\":[0.9382716049382716,1.0]},\"xaxis2\":{\"anchor\":\"y2\",\"domain\":[0.35555555555555557,0.6444444444444445]},\"yaxis2\":{\"anchor\":\"x2\",\"domain\":[0.9382716049382716,1.0]},\"xaxis3\":{\"anchor\":\"y3\",\"domain\":[0.7111111111111111,1.0]},\"yaxis3\":{\"anchor\":\"x3\",\"domain\":[0.9382716049382716,1.0]},\"xaxis4\":{\"anchor\":\"y4\",\"domain\":[0.0,0.2888888888888889]},\"yaxis4\":{\"anchor\":\"x4\",\"domain\":[0.8209876543209876,0.8827160493827161]},\"xaxis5\":{\"anchor\":\"y5\",\"domain\":[0.35555555555555557,0.6444444444444445]},\"yaxis5\":{\"anchor\":\"x5\",\"domain\":[0.8209876543209876,0.8827160493827161]},\"xaxis6\":{\"anchor\":\"y6\",\"domain\":[0.7111111111111111,1.0]},\"yaxis6\":{\"anchor\":\"x6\",\"domain\":[0.8209876543209876,0.8827160493827161]},\"xaxis7\":{\"anchor\":\"y7\",\"domain\":[0.0,0.2888888888888889]},\"yaxis7\":{\"anchor\":\"x7\",\"domain\":[0.7037037037037037,0.7654320987654322]},\"xaxis8\":{\"anchor\":\"y8\",\"domain\":[0.35555555555555557,0.6444444444444445]},\"yaxis8\":{\"anchor\":\"x8\",\"domain\":[0.7037037037037037,0.7654320987654322]},\"xaxis9\":{\"anchor\":\"y9\",\"domain\":[0.7111111111111111,1.0]},\"yaxis9\":{\"anchor\":\"x9\",\"domain\":[0.7037037037037037,0.7654320987654322]},\"xaxis10\":{\"anchor\":\"y10\",\"domain\":[0.0,0.2888888888888889]},\"yaxis10\":{\"anchor\":\"x10\",\"domain\":[0.5864197530864198,0.6481481481481483]},\"xaxis11\":{\"anchor\":\"y11\",\"domain\":[0.35555555555555557,0.6444444444444445]},\"yaxis11\":{\"anchor\":\"x11\",\"domain\":[0.5864197530864198,0.6481481481481483]},\"xaxis12\":{\"anchor\":\"y12\",\"domain\":[0.7111111111111111,1.0]},\"yaxis12\":{\"anchor\":\"x12\",\"domain\":[0.5864197530864198,0.6481481481481483]},\"xaxis13\":{\"anchor\":\"y13\",\"domain\":[0.0,0.2888888888888889]},\"yaxis13\":{\"anchor\":\"x13\",\"domain\":[0.4691358024691358,0.5308641975308642]},\"xaxis14\":{\"anchor\":\"y14\",\"domain\":[0.35555555555555557,0.6444444444444445]},\"yaxis14\":{\"anchor\":\"x14\",\"domain\":[0.4691358024691358,0.5308641975308642]},\"xaxis15\":{\"anchor\":\"y15\",\"domain\":[0.7111111111111111,1.0]},\"yaxis15\":{\"anchor\":\"x15\",\"domain\":[0.4691358024691358,0.5308641975308642]},\"xaxis16\":{\"anchor\":\"y16\",\"domain\":[0.0,0.2888888888888889]},\"yaxis16\":{\"anchor\":\"x16\",\"domain\":[0.35185185185185186,0.41358024691358025]},\"xaxis17\":{\"anchor\":\"y17\",\"domain\":[0.35555555555555557,0.6444444444444445]},\"yaxis17\":{\"anchor\":\"x17\",\"domain\":[0.35185185185185186,0.41358024691358025]},\"xaxis18\":{\"anchor\":\"y18\",\"domain\":[0.7111111111111111,1.0]},\"yaxis18\":{\"anchor\":\"x18\",\"domain\":[0.35185185185185186,0.41358024691358025]},\"xaxis19\":{\"anchor\":\"y19\",\"domain\":[0.0,0.2888888888888889]},\"yaxis19\":{\"anchor\":\"x19\",\"domain\":[0.2345679012345679,0.2962962962962963]},\"xaxis20\":{\"anchor\":\"y20\",\"domain\":[0.35555555555555557,0.6444444444444445]},\"yaxis20\":{\"anchor\":\"x20\",\"domain\":[0.2345679012345679,0.2962962962962963]},\"xaxis21\":{\"anchor\":\"y21\",\"domain\":[0.7111111111111111,1.0]},\"yaxis21\":{\"anchor\":\"x21\",\"domain\":[0.2345679012345679,0.2962962962962963]},\"xaxis22\":{\"anchor\":\"y22\",\"domain\":[0.0,0.2888888888888889]},\"yaxis22\":{\"anchor\":\"x22\",\"domain\":[0.11728395061728394,0.17901234567901234]},\"xaxis23\":{\"anchor\":\"y23\",\"domain\":[0.35555555555555557,0.6444444444444445]},\"yaxis23\":{\"anchor\":\"x23\",\"domain\":[0.11728395061728394,0.17901234567901234]},\"xaxis24\":{\"anchor\":\"y24\",\"domain\":[0.7111111111111111,1.0]},\"yaxis24\":{\"anchor\":\"x24\",\"domain\":[0.11728395061728394,0.17901234567901234]},\"xaxis25\":{\"anchor\":\"y25\",\"domain\":[0.0,0.2888888888888889]},\"yaxis25\":{\"anchor\":\"x25\",\"domain\":[0.0,0.0617283950617284]},\"xaxis26\":{\"anchor\":\"y26\",\"domain\":[0.35555555555555557,0.6444444444444445]},\"yaxis26\":{\"anchor\":\"x26\",\"domain\":[0.0,0.0617283950617284]},\"xaxis27\":{\"anchor\":\"y27\",\"domain\":[0.7111111111111111,1.0]},\"yaxis27\":{\"anchor\":\"x27\",\"domain\":[0.0,0.0617283950617284]},\"annotations\":[{\"font\":{\"size\":16},\"showarrow\":false,\"text\":\"Ag\\u00eancia Transfusional\",\"x\":0.14444444444444446,\"xanchor\":\"center\",\"xref\":\"paper\",\"y\":1.0,\"yanchor\":\"bottom\",\"yref\":\"paper\"},{\"font\":{\"size\":16},\"showarrow\":false,\"text\":\"Ala A Adulto\",\"x\":0.5,\"xanchor\":\"center\",\"xref\":\"paper\",\"y\":1.0,\"yanchor\":\"bottom\",\"yref\":\"paper\"},{\"font\":{\"size\":16},\"showarrow\":false,\"text\":\"Ala A Pedi\\u00e1trica\",\"x\":0.8555555555555556,\"xanchor\":\"center\",\"xref\":\"paper\",\"y\":1.0,\"yanchor\":\"bottom\",\"yref\":\"paper\"},{\"font\":{\"size\":16},\"showarrow\":false,\"text\":\"Ala B\",\"x\":0.14444444444444446,\"xanchor\":\"center\",\"xref\":\"paper\",\"y\":0.8827160493827161,\"yanchor\":\"bottom\",\"yref\":\"paper\"},{\"font\":{\"size\":16},\"showarrow\":false,\"text\":\"Ala C\",\"x\":0.5,\"xanchor\":\"center\",\"xref\":\"paper\",\"y\":0.8827160493827161,\"yanchor\":\"bottom\",\"yref\":\"paper\"},{\"font\":{\"size\":16},\"showarrow\":false,\"text\":\"Ala D\",\"x\":0.8555555555555556,\"xanchor\":\"center\",\"xref\":\"paper\",\"y\":0.8827160493827161,\"yanchor\":\"bottom\",\"yref\":\"paper\"},{\"font\":{\"size\":16},\"showarrow\":false,\"text\":\"Ala E\",\"x\":0.14444444444444446,\"xanchor\":\"center\",\"xref\":\"paper\",\"y\":0.7654320987654322,\"yanchor\":\"bottom\",\"yref\":\"paper\"},{\"font\":{\"size\":16},\"showarrow\":false,\"text\":\"Ambulat\\u00f3rio\",\"x\":0.5,\"xanchor\":\"center\",\"xref\":\"paper\",\"y\":0.7654320987654322,\"yanchor\":\"bottom\",\"yref\":\"paper\"},{\"font\":{\"size\":16},\"showarrow\":false,\"text\":\"Atendimento\",\"x\":0.8555555555555556,\"xanchor\":\"center\",\"xref\":\"paper\",\"y\":0.7654320987654322,\"yanchor\":\"bottom\",\"yref\":\"paper\"},{\"font\":{\"size\":16},\"showarrow\":false,\"text\":\"Atendimento/Recep\\u00e7\\u00e3o\",\"x\":0.14444444444444446,\"xanchor\":\"center\",\"xref\":\"paper\",\"y\":0.6481481481481483,\"yanchor\":\"bottom\",\"yref\":\"paper\"},{\"font\":{\"size\":16},\"showarrow\":false,\"text\":\"Centro Cir\\u00fargico\",\"x\":0.5,\"xanchor\":\"center\",\"xref\":\"paper\",\"y\":0.6481481481481483,\"yanchor\":\"bottom\",\"yref\":\"paper\"},{\"font\":{\"size\":16},\"showarrow\":false,\"text\":\"Cme\",\"x\":0.8555555555555556,\"xanchor\":\"center\",\"xref\":\"paper\",\"y\":0.6481481481481483,\"yanchor\":\"bottom\",\"yref\":\"paper\"},{\"font\":{\"size\":16},\"showarrow\":false,\"text\":\"Emerg\\u00eancia\",\"x\":0.14444444444444446,\"xanchor\":\"center\",\"xref\":\"paper\",\"y\":0.5308641975308642,\"yanchor\":\"bottom\",\"yref\":\"paper\"},{\"font\":{\"size\":16},\"showarrow\":false,\"text\":\"Farm\\u00e1cia\",\"x\":0.5,\"xanchor\":\"center\",\"xref\":\"paper\",\"y\":0.5308641975308642,\"yanchor\":\"bottom\",\"yref\":\"paper\"},{\"font\":{\"size\":16},\"showarrow\":false,\"text\":\"Fisioterapia\",\"x\":0.8555555555555556,\"xanchor\":\"center\",\"xref\":\"paper\",\"y\":0.5308641975308642,\"yanchor\":\"bottom\",\"yref\":\"paper\"},{\"font\":{\"size\":16},\"showarrow\":false,\"text\":\"Institucional\",\"x\":0.14444444444444446,\"xanchor\":\"center\",\"xref\":\"paper\",\"y\":0.41358024691358025,\"yanchor\":\"bottom\",\"yref\":\"paper\"},{\"font\":{\"size\":16},\"showarrow\":false,\"text\":\"Laborat\\u00f3rio\",\"x\":0.5,\"xanchor\":\"center\",\"xref\":\"paper\",\"y\":0.41358024691358025,\"yanchor\":\"bottom\",\"yref\":\"paper\"},{\"font\":{\"size\":16},\"showarrow\":false,\"text\":\"Leito Dia\",\"x\":0.8555555555555556,\"xanchor\":\"center\",\"xref\":\"paper\",\"y\":0.41358024691358025,\"yanchor\":\"bottom\",\"yref\":\"paper\"},{\"font\":{\"size\":16},\"showarrow\":false,\"text\":\"Nir\",\"x\":0.14444444444444446,\"xanchor\":\"center\",\"xref\":\"paper\",\"y\":0.2962962962962963,\"yanchor\":\"bottom\",\"yref\":\"paper\"},{\"font\":{\"size\":16},\"showarrow\":false,\"text\":\"Nutri\\u00e7\\u00e3o\",\"x\":0.5,\"xanchor\":\"center\",\"xref\":\"paper\",\"y\":0.2962962962962963,\"yanchor\":\"bottom\",\"yref\":\"paper\"},{\"font\":{\"size\":16},\"showarrow\":false,\"text\":\"Servi\\u00e7o Social\",\"x\":0.8555555555555556,\"xanchor\":\"center\",\"xref\":\"paper\",\"y\":0.2962962962962963,\"yanchor\":\"bottom\",\"yref\":\"paper\"},{\"font\":{\"size\":16},\"showarrow\":false,\"text\":\"UTI Adulto\",\"x\":0.14444444444444446,\"xanchor\":\"center\",\"xref\":\"paper\",\"y\":0.17901234567901234,\"yanchor\":\"bottom\",\"yref\":\"paper\"},{\"font\":{\"size\":16},\"showarrow\":false,\"text\":\"UTI Covid\",\"x\":0.5,\"xanchor\":\"center\",\"xref\":\"paper\",\"y\":0.17901234567901234,\"yanchor\":\"bottom\",\"yref\":\"paper\"},{\"font\":{\"size\":16},\"showarrow\":false,\"text\":\"UTI Pedi\\u00e1trica\",\"x\":0.8555555555555556,\"xanchor\":\"center\",\"xref\":\"paper\",\"y\":0.17901234567901234,\"yanchor\":\"bottom\",\"yref\":\"paper\"},{\"font\":{\"size\":16},\"showarrow\":false,\"text\":\"Unidade de Origem do Paciente\",\"x\":0.14444444444444446,\"xanchor\":\"center\",\"xref\":\"paper\",\"y\":0.0617283950617284,\"yanchor\":\"bottom\",\"yref\":\"paper\"},{\"font\":{\"size\":16},\"showarrow\":false,\"text\":\"Vigil\\u00e2ncia (Portaria)\",\"x\":0.5,\"xanchor\":\"center\",\"xref\":\"paper\",\"y\":0.0617283950617284,\"yanchor\":\"bottom\",\"yref\":\"paper\"}],\"title\":{\"text\":\"Multiple Subplots with Titles\"},\"height\":2500,\"width\":1000,\"coloraxis\":{\"colorscale\":[[0.0,\"rgb(255,0,0)\"],[1.0,\"rgb(0,0,255)\"]]},\"showlegend\":false},                        {\"responsive\": true}                    ).then(function(){\n",
       "                            \n",
       "var gd = document.getElementById('034c194d-7f4e-41d1-a0c3-11922578511f');\n",
       "var x = new MutationObserver(function (mutations, observer) {{\n",
       "        var display = window.getComputedStyle(gd).display;\n",
       "        if (!display || display === 'none') {{\n",
       "            console.log([gd, 'removed!']);\n",
       "            Plotly.purge(gd);\n",
       "            observer.disconnect();\n",
       "        }}\n",
       "}});\n",
       "\n",
       "// Listen for the removal of the full notebook cells\n",
       "var notebookContainer = gd.closest('#notebook-container');\n",
       "if (notebookContainer) {{\n",
       "    x.observe(notebookContainer, {childList: true});\n",
       "}}\n",
       "\n",
       "// Listen for the clearing of the current output cell\n",
       "var outputEl = gd.closest('.output');\n",
       "if (outputEl) {{\n",
       "    x.observe(outputEl, {childList: true});\n",
       "}}\n",
       "\n",
       "                        })                };                });            </script>        </div>"
      ]
     },
     "metadata": {},
     "output_type": "display_data"
    }
   ],
   "source": [
    "from plotly.subplots import make_subplots\n",
    "import plotly.graph_objects as go\n",
    "\n",
    "nrows = 9\n",
    "ncols = 3\n",
    "nrow = 1\n",
    "ncol = 1\n",
    "\n",
    "unidades = dfx.sort_values(by=\"unidade\").unidade.unique()\n",
    "\n",
    "fig = make_subplots(\n",
    "    rows=nrows, cols=ncols,\n",
    "    subplot_titles=unidades)#(\"Plot 1\", \"Plot 2\", \"Plot 3\", \"Plot 4\"))\n",
    "\n",
    "for unidade in unidades:\n",
    "    df_temp = dfx.query('unidade==@unidade')\n",
    "    # print(f\"--[ {unidade} ]--\")\n",
    "    # print(df_temp)\n",
    "    fig.add_trace(go.Bar(x=df_temp.periodo, y=df_temp.total),\n",
    "              row=nrow, col=ncol)\n",
    "    if ncol >= ncols:\n",
    "        ncol = 1\n",
    "        nrow += 1\n",
    "    else:\n",
    "        ncol += 1\n",
    "    \n",
    "    \n",
    "# fig.add_trace(go.Scatter(x=[1, 2, 3], y=[4, 5, 6]),\n",
    "#               row=1, col=1)\n",
    "\n",
    "# fig.add_trace(go.Scatter(x=[20, 30, 40], y=[50, 60, 70]),\n",
    "#               row=1, col=2)\n",
    "\n",
    "# fig.add_trace(go.Scatter(x=[300, 400, 500], y=[600, 700, 800]),\n",
    "#               row=2, col=1)\n",
    "\n",
    "# fig.add_trace(go.Scatter(x=[4000, 5000, 6000], y=[7000, 8000, 9000]),\n",
    "#               row=2, col=2)\n",
    "\n",
    "fig.update_layout(height=2500, width=1000,\n",
    "                  template='plotly_white',\n",
    "                  title_text=\"Multiple Subplots with Titles\")\n",
    "fig.update_layout(coloraxis=dict(colorscale='Bluered_r'), showlegend=False)\n",
    "fig.show()"
   ]
  },
  {
   "cell_type": "code",
   "execution_count": null,
   "id": "184e228e-bd6b-4102-9a13-050645bbf808",
   "metadata": {},
   "outputs": [],
   "source": []
  }
 ],
 "metadata": {
  "kernelspec": {
   "display_name": "Python 3 (ipykernel)",
   "language": "python",
   "name": "python3"
  },
  "language_info": {
   "codemirror_mode": {
    "name": "ipython",
    "version": 3
   },
   "file_extension": ".py",
   "mimetype": "text/x-python",
   "name": "python",
   "nbconvert_exporter": "python",
   "pygments_lexer": "ipython3",
   "version": "3.11.2"
  }
 },
 "nbformat": 4,
 "nbformat_minor": 5
}
